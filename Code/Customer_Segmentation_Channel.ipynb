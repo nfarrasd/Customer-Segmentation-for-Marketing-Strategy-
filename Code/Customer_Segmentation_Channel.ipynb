{
  "cells": [
    {
      "cell_type": "markdown",
      "metadata": {
        "id": "V7nxiI6BzVci"
      },
      "source": [
        "**Author**: Moch Nabil Farras Dhiya (10120034)\n",
        "\n",
        "**E-mail**: nabilfarras923@gmail.com\n",
        "\n",
        "-------------------\n",
        "\n",
        "**Disclaimer**: The **dataset** used in this analysis is a public dataset retrieved from [Customer Personality Analysis - Kaggle](https://www.kaggle.com/datasets/imakash3011/customer-personality-analysis?datasetId=1546318&sortBy=voteCount)."
      ]
    },
    {
      "cell_type": "markdown",
      "metadata": {
        "id": "-Taxp2K4WD4a"
      },
      "source": [
        "# Background"
      ]
    },
    {
      "cell_type": "markdown",
      "metadata": {
        "id": "q5bGj0x9XOEH"
      },
      "source": [
        "## Attributes"
      ]
    },
    {
      "cell_type": "markdown",
      "metadata": {
        "id": "NgtswCGVXDqM"
      },
      "source": [
        "**People**\n",
        "\n",
        "*   ID: Customer's unique identifier\n",
        "*   Year_Birth: Customer's birth year\n",
        "*   Education: Customer's education level\n",
        "*   Marital_Status: Customer's marital status\n",
        "*   Income: Customer's yearly household income\n",
        "*   Kidhome: Number of children in customer's household\n",
        "*   Teenhome: Number of teenagers in customer's household\n",
        "*   Dt_Customer: Date of customer's enrollment with the company\n",
        "*   Recency: Number of days since customer's last purchase\n",
        "*   Complain: 1 if the customer complained in the last 2 years, 0 otherwise\n",
        "\n",
        "**Products**\n",
        "\n",
        "*   MntWines: Amount spent on wine in last 2 years\n",
        "*   MntFruits: Amount spent on fruits in last 2 years\n",
        "*   MntMeatProducts: Amount spent on meat in last 2 years\n",
        "*   MntFishProducts: Amount spent on fish in last 2 years\n",
        "*   MntSweetProducts: Amount spent on sweets in last 2 years\n",
        "*   MntGoldProds: Amount spent on gold in last 2 years\n",
        "\n",
        "**Promotion**\n",
        "\n",
        "\n",
        "*   NumDealsPurchases: Number of purchases made with a discount\n",
        "*   AcceptedCmp1: 1 if customer accepted the offer in the 1st campaign, 0 otherwise\n",
        "*   AcceptedCmp2: 1 if customer accepted the offer in the 2nd campaign, 0 otherwise\n",
        "*   AcceptedCmp3: 1 if customer accepted the offer in the 3rd campaign, 0 otherwise\n",
        "*   AcceptedCmp4: 1 if customer accepted the offer in the 4th campaign, 0 otherwise\n",
        "*   AcceptedCmp5: 1 if customer accepted the offer in the 5th campaign, 0 otherwise\n",
        "*   Response: 1 if customer accepted the offer in the last campaign, 0 otherwise\n",
        "\n",
        "**Place**\n",
        "\n",
        "*   NumWebPurchases: Number of purchases made through the company’s website\n",
        "*   NumCatalogPurchases: Number of purchases made using a catalogue\n",
        "*   NumWebVisitsMonth: Number of visits to company’s website in the last month\n",
        "*   NumStorePurchases: Number of purchases made directly in stores"
      ]
    },
    {
      "cell_type": "markdown",
      "metadata": {
        "id": "JprWVv-dXPJp"
      },
      "source": [
        "## Goals\n",
        "\n",
        "Perform clustering to summarize customer segments."
      ]
    },
    {
      "cell_type": "markdown",
      "metadata": {
        "id": "D2KwviZTzb7D"
      },
      "source": [
        "# Connect to Google Drive"
      ]
    },
    {
      "cell_type": "code",
      "execution_count": 45,
      "metadata": {
        "colab": {
          "base_uri": "https://localhost:8080/"
        },
        "id": "YQeVA1xdzfI9",
        "outputId": "9c47ad35-61e2-4060-adba-18e9112b8597"
      },
      "outputs": [
        {
          "output_type": "stream",
          "name": "stdout",
          "text": [
            "Drive already mounted at /content/gdrive; to attempt to forcibly remount, call drive.mount(\"/content/gdrive\", force_remount=True).\n"
          ]
        }
      ],
      "source": [
        "from google.colab import drive\n",
        "drive.mount('/content/gdrive')"
      ]
    },
    {
      "cell_type": "code",
      "execution_count": 46,
      "metadata": {
        "colab": {
          "base_uri": "https://localhost:8080/"
        },
        "id": "yawX7Vo8zNP9",
        "outputId": "e5a76b88-09ed-4f73-bf78-446c11c742b4"
      },
      "outputs": [
        {
          "output_type": "stream",
          "name": "stdout",
          "text": [
            "/content/gdrive/My Drive/Portfolio/Data Science/Python/Customer Segmentation/CSV\n"
          ]
        }
      ],
      "source": [
        "%cd /content/gdrive/My Drive/Portfolio/Data Science/Python/Customer Segmentation/CSV"
      ]
    },
    {
      "cell_type": "markdown",
      "metadata": {
        "id": "ZfzliTrpzqfu"
      },
      "source": [
        "# Import Packages"
      ]
    },
    {
      "cell_type": "code",
      "execution_count": 47,
      "metadata": {
        "id": "gGoyK5jrzvGe"
      },
      "outputs": [],
      "source": [
        "import pandas as pd\n",
        "import numpy as np\n",
        "import datetime as dt\n",
        "\n",
        "import matplotlib.pyplot as plt\n",
        "import seaborn as sns\n",
        "sns.set_style(\"darkgrid\")\n",
        "\n",
        "from statistics import mean\n",
        "from scipy.stats import skew\n",
        "\n",
        "from sklearn import preprocessing\n",
        "from sklearn.preprocessing import StandardScaler, LabelEncoder\n",
        "from sklearn.metrics import davies_bouldin_score, silhouette_score, calinski_harabasz_score\n",
        "from sklearn.metrics.pairwise import euclidean_distances\n",
        "from sklearn.decomposition import PCA\n",
        "from sklearn.cluster import KMeans, AgglomerativeClustering\n",
        "\n",
        "from yellowbrick.cluster import KElbowVisualizer\n",
        "from collections import defaultdict"
      ]
    },
    {
      "cell_type": "markdown",
      "metadata": {
        "id": "mLd1UE4B0HQr"
      },
      "source": [
        "# Import Data"
      ]
    },
    {
      "cell_type": "code",
      "execution_count": 48,
      "metadata": {
        "id": "ujlQPKIP0J06"
      },
      "outputs": [],
      "source": [
        "data = pd.read_csv(\"final_data.csv\")\n",
        "cluster = pd.read_csv(\"cluster_data.csv\")"
      ]
    },
    {
      "cell_type": "code",
      "execution_count": 49,
      "metadata": {
        "colab": {
          "base_uri": "https://localhost:8080/",
          "height": 505
        },
        "id": "5t1lSx-GmZfh",
        "outputId": "089f9e8e-46b2-408c-d246-3df0e7090720"
      },
      "outputs": [
        {
          "output_type": "execute_result",
          "data": {
            "text/plain": [
              "      Unnamed: 0_x     ID  Age  Education_x  Marital_Status_x   Income  \\\n",
              "0                0   5524   66            1                 0  58138.0   \n",
              "1                1   2174   69            1                 0  46344.0   \n",
              "2                2   4141   58            1                 1  71613.0   \n",
              "3                3   6182   39            1                 1  26646.0   \n",
              "4                4   5324   42            3                 1  58293.0   \n",
              "...            ...    ...  ...          ...               ...      ...   \n",
              "2207          2235  10870   56            1                 1  61223.0   \n",
              "2208          2236   4001   77            3                 1  64014.0   \n",
              "2209          2237   7270   42            1                 0  56981.0   \n",
              "2210          2238   8235   67            2                 1  69245.0   \n",
              "2211          2239   9405   69            3                 1  52869.0   \n",
              "\n",
              "      Kidhome_x  Teenhome_x  Duration_Customer  Frequency  ...  Kidhome_y  \\\n",
              "0             0           0               3860         32  ...          0   \n",
              "1             1           1               3310         11  ...          1   \n",
              "2             0           0               3509         25  ...          0   \n",
              "3             1           0               3336         14  ...          1   \n",
              "4             1           0               3358         24  ...          1   \n",
              "...         ...         ...                ...        ...  ...        ...   \n",
              "2207          0           1               3578         23  ...          0   \n",
              "2208          2           1               3216         29  ...          2   \n",
              "2209          0           0               3352         25  ...          0   \n",
              "2210          0           1               3353         26  ...          0   \n",
              "2211          1           1               3819         18  ...          1   \n",
              "\n",
              "      Teenhome_y  Recency_Cluster  Frequency_Cluster  Wines_Cluster  \\\n",
              "0              0                1                  2              1   \n",
              "1              1                1                  0              0   \n",
              "2              0                0                  1              1   \n",
              "3              0                0                  0              0   \n",
              "4              0                2                  1              0   \n",
              "...          ...              ...                ...            ...   \n",
              "2207           1                1                  1              1   \n",
              "2208           1                1                  2              1   \n",
              "2209           0                2                  1              2   \n",
              "2210           1                0                  1              1   \n",
              "2211           1                1                  1              0   \n",
              "\n",
              "      Fruits_Cluster  Meat_Cluster  Fish_Cluster  Sweets_Cluster  Gold_Cluster  \n",
              "0                  1             2             2               1             1  \n",
              "1                  0             0             0               0             0  \n",
              "2                  1             0             1               0             0  \n",
              "3                  0             0             0               0             0  \n",
              "4                  1             0             1               0             0  \n",
              "...              ...           ...           ...             ...           ...  \n",
              "2207               1             0             0               2             2  \n",
              "2208               0             0             0               0             0  \n",
              "2209               1             1             0               0             0  \n",
              "2210               0             1             1               0             1  \n",
              "2211               0             0             0               0             0  \n",
              "\n",
              "[2212 rows x 46 columns]"
            ],
            "text/html": [
              "\n",
              "  <div id=\"df-8f1458f4-f4f8-4d1a-9d74-e60af5c679c2\">\n",
              "    <div class=\"colab-df-container\">\n",
              "      <div>\n",
              "<style scoped>\n",
              "    .dataframe tbody tr th:only-of-type {\n",
              "        vertical-align: middle;\n",
              "    }\n",
              "\n",
              "    .dataframe tbody tr th {\n",
              "        vertical-align: top;\n",
              "    }\n",
              "\n",
              "    .dataframe thead th {\n",
              "        text-align: right;\n",
              "    }\n",
              "</style>\n",
              "<table border=\"1\" class=\"dataframe\">\n",
              "  <thead>\n",
              "    <tr style=\"text-align: right;\">\n",
              "      <th></th>\n",
              "      <th>Unnamed: 0_x</th>\n",
              "      <th>ID</th>\n",
              "      <th>Age</th>\n",
              "      <th>Education_x</th>\n",
              "      <th>Marital_Status_x</th>\n",
              "      <th>Income</th>\n",
              "      <th>Kidhome_x</th>\n",
              "      <th>Teenhome_x</th>\n",
              "      <th>Duration_Customer</th>\n",
              "      <th>Frequency</th>\n",
              "      <th>...</th>\n",
              "      <th>Kidhome_y</th>\n",
              "      <th>Teenhome_y</th>\n",
              "      <th>Recency_Cluster</th>\n",
              "      <th>Frequency_Cluster</th>\n",
              "      <th>Wines_Cluster</th>\n",
              "      <th>Fruits_Cluster</th>\n",
              "      <th>Meat_Cluster</th>\n",
              "      <th>Fish_Cluster</th>\n",
              "      <th>Sweets_Cluster</th>\n",
              "      <th>Gold_Cluster</th>\n",
              "    </tr>\n",
              "  </thead>\n",
              "  <tbody>\n",
              "    <tr>\n",
              "      <th>0</th>\n",
              "      <td>0</td>\n",
              "      <td>5524</td>\n",
              "      <td>66</td>\n",
              "      <td>1</td>\n",
              "      <td>0</td>\n",
              "      <td>58138.0</td>\n",
              "      <td>0</td>\n",
              "      <td>0</td>\n",
              "      <td>3860</td>\n",
              "      <td>32</td>\n",
              "      <td>...</td>\n",
              "      <td>0</td>\n",
              "      <td>0</td>\n",
              "      <td>1</td>\n",
              "      <td>2</td>\n",
              "      <td>1</td>\n",
              "      <td>1</td>\n",
              "      <td>2</td>\n",
              "      <td>2</td>\n",
              "      <td>1</td>\n",
              "      <td>1</td>\n",
              "    </tr>\n",
              "    <tr>\n",
              "      <th>1</th>\n",
              "      <td>1</td>\n",
              "      <td>2174</td>\n",
              "      <td>69</td>\n",
              "      <td>1</td>\n",
              "      <td>0</td>\n",
              "      <td>46344.0</td>\n",
              "      <td>1</td>\n",
              "      <td>1</td>\n",
              "      <td>3310</td>\n",
              "      <td>11</td>\n",
              "      <td>...</td>\n",
              "      <td>1</td>\n",
              "      <td>1</td>\n",
              "      <td>1</td>\n",
              "      <td>0</td>\n",
              "      <td>0</td>\n",
              "      <td>0</td>\n",
              "      <td>0</td>\n",
              "      <td>0</td>\n",
              "      <td>0</td>\n",
              "      <td>0</td>\n",
              "    </tr>\n",
              "    <tr>\n",
              "      <th>2</th>\n",
              "      <td>2</td>\n",
              "      <td>4141</td>\n",
              "      <td>58</td>\n",
              "      <td>1</td>\n",
              "      <td>1</td>\n",
              "      <td>71613.0</td>\n",
              "      <td>0</td>\n",
              "      <td>0</td>\n",
              "      <td>3509</td>\n",
              "      <td>25</td>\n",
              "      <td>...</td>\n",
              "      <td>0</td>\n",
              "      <td>0</td>\n",
              "      <td>0</td>\n",
              "      <td>1</td>\n",
              "      <td>1</td>\n",
              "      <td>1</td>\n",
              "      <td>0</td>\n",
              "      <td>1</td>\n",
              "      <td>0</td>\n",
              "      <td>0</td>\n",
              "    </tr>\n",
              "    <tr>\n",
              "      <th>3</th>\n",
              "      <td>3</td>\n",
              "      <td>6182</td>\n",
              "      <td>39</td>\n",
              "      <td>1</td>\n",
              "      <td>1</td>\n",
              "      <td>26646.0</td>\n",
              "      <td>1</td>\n",
              "      <td>0</td>\n",
              "      <td>3336</td>\n",
              "      <td>14</td>\n",
              "      <td>...</td>\n",
              "      <td>1</td>\n",
              "      <td>0</td>\n",
              "      <td>0</td>\n",
              "      <td>0</td>\n",
              "      <td>0</td>\n",
              "      <td>0</td>\n",
              "      <td>0</td>\n",
              "      <td>0</td>\n",
              "      <td>0</td>\n",
              "      <td>0</td>\n",
              "    </tr>\n",
              "    <tr>\n",
              "      <th>4</th>\n",
              "      <td>4</td>\n",
              "      <td>5324</td>\n",
              "      <td>42</td>\n",
              "      <td>3</td>\n",
              "      <td>1</td>\n",
              "      <td>58293.0</td>\n",
              "      <td>1</td>\n",
              "      <td>0</td>\n",
              "      <td>3358</td>\n",
              "      <td>24</td>\n",
              "      <td>...</td>\n",
              "      <td>1</td>\n",
              "      <td>0</td>\n",
              "      <td>2</td>\n",
              "      <td>1</td>\n",
              "      <td>0</td>\n",
              "      <td>1</td>\n",
              "      <td>0</td>\n",
              "      <td>1</td>\n",
              "      <td>0</td>\n",
              "      <td>0</td>\n",
              "    </tr>\n",
              "    <tr>\n",
              "      <th>...</th>\n",
              "      <td>...</td>\n",
              "      <td>...</td>\n",
              "      <td>...</td>\n",
              "      <td>...</td>\n",
              "      <td>...</td>\n",
              "      <td>...</td>\n",
              "      <td>...</td>\n",
              "      <td>...</td>\n",
              "      <td>...</td>\n",
              "      <td>...</td>\n",
              "      <td>...</td>\n",
              "      <td>...</td>\n",
              "      <td>...</td>\n",
              "      <td>...</td>\n",
              "      <td>...</td>\n",
              "      <td>...</td>\n",
              "      <td>...</td>\n",
              "      <td>...</td>\n",
              "      <td>...</td>\n",
              "      <td>...</td>\n",
              "      <td>...</td>\n",
              "    </tr>\n",
              "    <tr>\n",
              "      <th>2207</th>\n",
              "      <td>2235</td>\n",
              "      <td>10870</td>\n",
              "      <td>56</td>\n",
              "      <td>1</td>\n",
              "      <td>1</td>\n",
              "      <td>61223.0</td>\n",
              "      <td>0</td>\n",
              "      <td>1</td>\n",
              "      <td>3578</td>\n",
              "      <td>23</td>\n",
              "      <td>...</td>\n",
              "      <td>0</td>\n",
              "      <td>1</td>\n",
              "      <td>1</td>\n",
              "      <td>1</td>\n",
              "      <td>1</td>\n",
              "      <td>1</td>\n",
              "      <td>0</td>\n",
              "      <td>0</td>\n",
              "      <td>2</td>\n",
              "      <td>2</td>\n",
              "    </tr>\n",
              "    <tr>\n",
              "      <th>2208</th>\n",
              "      <td>2236</td>\n",
              "      <td>4001</td>\n",
              "      <td>77</td>\n",
              "      <td>3</td>\n",
              "      <td>1</td>\n",
              "      <td>64014.0</td>\n",
              "      <td>2</td>\n",
              "      <td>1</td>\n",
              "      <td>3216</td>\n",
              "      <td>29</td>\n",
              "      <td>...</td>\n",
              "      <td>2</td>\n",
              "      <td>1</td>\n",
              "      <td>1</td>\n",
              "      <td>2</td>\n",
              "      <td>1</td>\n",
              "      <td>0</td>\n",
              "      <td>0</td>\n",
              "      <td>0</td>\n",
              "      <td>0</td>\n",
              "      <td>0</td>\n",
              "    </tr>\n",
              "    <tr>\n",
              "      <th>2209</th>\n",
              "      <td>2237</td>\n",
              "      <td>7270</td>\n",
              "      <td>42</td>\n",
              "      <td>1</td>\n",
              "      <td>0</td>\n",
              "      <td>56981.0</td>\n",
              "      <td>0</td>\n",
              "      <td>0</td>\n",
              "      <td>3352</td>\n",
              "      <td>25</td>\n",
              "      <td>...</td>\n",
              "      <td>0</td>\n",
              "      <td>0</td>\n",
              "      <td>2</td>\n",
              "      <td>1</td>\n",
              "      <td>2</td>\n",
              "      <td>1</td>\n",
              "      <td>1</td>\n",
              "      <td>0</td>\n",
              "      <td>0</td>\n",
              "      <td>0</td>\n",
              "    </tr>\n",
              "    <tr>\n",
              "      <th>2210</th>\n",
              "      <td>2238</td>\n",
              "      <td>8235</td>\n",
              "      <td>67</td>\n",
              "      <td>2</td>\n",
              "      <td>1</td>\n",
              "      <td>69245.0</td>\n",
              "      <td>0</td>\n",
              "      <td>1</td>\n",
              "      <td>3353</td>\n",
              "      <td>26</td>\n",
              "      <td>...</td>\n",
              "      <td>0</td>\n",
              "      <td>1</td>\n",
              "      <td>0</td>\n",
              "      <td>1</td>\n",
              "      <td>1</td>\n",
              "      <td>0</td>\n",
              "      <td>1</td>\n",
              "      <td>1</td>\n",
              "      <td>0</td>\n",
              "      <td>1</td>\n",
              "    </tr>\n",
              "    <tr>\n",
              "      <th>2211</th>\n",
              "      <td>2239</td>\n",
              "      <td>9405</td>\n",
              "      <td>69</td>\n",
              "      <td>3</td>\n",
              "      <td>1</td>\n",
              "      <td>52869.0</td>\n",
              "      <td>1</td>\n",
              "      <td>1</td>\n",
              "      <td>3819</td>\n",
              "      <td>18</td>\n",
              "      <td>...</td>\n",
              "      <td>1</td>\n",
              "      <td>1</td>\n",
              "      <td>1</td>\n",
              "      <td>1</td>\n",
              "      <td>0</td>\n",
              "      <td>0</td>\n",
              "      <td>0</td>\n",
              "      <td>0</td>\n",
              "      <td>0</td>\n",
              "      <td>0</td>\n",
              "    </tr>\n",
              "  </tbody>\n",
              "</table>\n",
              "<p>2212 rows × 46 columns</p>\n",
              "</div>\n",
              "      <button class=\"colab-df-convert\" onclick=\"convertToInteractive('df-8f1458f4-f4f8-4d1a-9d74-e60af5c679c2')\"\n",
              "              title=\"Convert this dataframe to an interactive table.\"\n",
              "              style=\"display:none;\">\n",
              "        \n",
              "  <svg xmlns=\"http://www.w3.org/2000/svg\" height=\"24px\"viewBox=\"0 0 24 24\"\n",
              "       width=\"24px\">\n",
              "    <path d=\"M0 0h24v24H0V0z\" fill=\"none\"/>\n",
              "    <path d=\"M18.56 5.44l.94 2.06.94-2.06 2.06-.94-2.06-.94-.94-2.06-.94 2.06-2.06.94zm-11 1L8.5 8.5l.94-2.06 2.06-.94-2.06-.94L8.5 2.5l-.94 2.06-2.06.94zm10 10l.94 2.06.94-2.06 2.06-.94-2.06-.94-.94-2.06-.94 2.06-2.06.94z\"/><path d=\"M17.41 7.96l-1.37-1.37c-.4-.4-.92-.59-1.43-.59-.52 0-1.04.2-1.43.59L10.3 9.45l-7.72 7.72c-.78.78-.78 2.05 0 2.83L4 21.41c.39.39.9.59 1.41.59.51 0 1.02-.2 1.41-.59l7.78-7.78 2.81-2.81c.8-.78.8-2.07 0-2.86zM5.41 20L4 18.59l7.72-7.72 1.47 1.35L5.41 20z\"/>\n",
              "  </svg>\n",
              "      </button>\n",
              "      \n",
              "  <style>\n",
              "    .colab-df-container {\n",
              "      display:flex;\n",
              "      flex-wrap:wrap;\n",
              "      gap: 12px;\n",
              "    }\n",
              "\n",
              "    .colab-df-convert {\n",
              "      background-color: #E8F0FE;\n",
              "      border: none;\n",
              "      border-radius: 50%;\n",
              "      cursor: pointer;\n",
              "      display: none;\n",
              "      fill: #1967D2;\n",
              "      height: 32px;\n",
              "      padding: 0 0 0 0;\n",
              "      width: 32px;\n",
              "    }\n",
              "\n",
              "    .colab-df-convert:hover {\n",
              "      background-color: #E2EBFA;\n",
              "      box-shadow: 0px 1px 2px rgba(60, 64, 67, 0.3), 0px 1px 3px 1px rgba(60, 64, 67, 0.15);\n",
              "      fill: #174EA6;\n",
              "    }\n",
              "\n",
              "    [theme=dark] .colab-df-convert {\n",
              "      background-color: #3B4455;\n",
              "      fill: #D2E3FC;\n",
              "    }\n",
              "\n",
              "    [theme=dark] .colab-df-convert:hover {\n",
              "      background-color: #434B5C;\n",
              "      box-shadow: 0px 1px 3px 1px rgba(0, 0, 0, 0.15);\n",
              "      filter: drop-shadow(0px 1px 2px rgba(0, 0, 0, 0.3));\n",
              "      fill: #FFFFFF;\n",
              "    }\n",
              "  </style>\n",
              "\n",
              "      <script>\n",
              "        const buttonEl =\n",
              "          document.querySelector('#df-8f1458f4-f4f8-4d1a-9d74-e60af5c679c2 button.colab-df-convert');\n",
              "        buttonEl.style.display =\n",
              "          google.colab.kernel.accessAllowed ? 'block' : 'none';\n",
              "\n",
              "        async function convertToInteractive(key) {\n",
              "          const element = document.querySelector('#df-8f1458f4-f4f8-4d1a-9d74-e60af5c679c2');\n",
              "          const dataTable =\n",
              "            await google.colab.kernel.invokeFunction('convertToInteractive',\n",
              "                                                     [key], {});\n",
              "          if (!dataTable) return;\n",
              "\n",
              "          const docLinkHtml = 'Like what you see? Visit the ' +\n",
              "            '<a target=\"_blank\" href=https://colab.research.google.com/notebooks/data_table.ipynb>data table notebook</a>'\n",
              "            + ' to learn more about interactive tables.';\n",
              "          element.innerHTML = '';\n",
              "          dataTable['output_type'] = 'display_data';\n",
              "          await google.colab.output.renderOutput(dataTable, element);\n",
              "          const docLink = document.createElement('div');\n",
              "          docLink.innerHTML = docLinkHtml;\n",
              "          element.appendChild(docLink);\n",
              "        }\n",
              "      </script>\n",
              "    </div>\n",
              "  </div>\n",
              "  "
            ]
          },
          "metadata": {},
          "execution_count": 49
        }
      ],
      "source": [
        "data = pd.merge(data, cluster, how = 'inner', on = 'ID')\n",
        "data"
      ]
    },
    {
      "cell_type": "markdown",
      "source": [
        "# Analysis"
      ],
      "metadata": {
        "id": "RZcgmm4HbClY"
      }
    },
    {
      "cell_type": "markdown",
      "metadata": {
        "id": "PHPskFRGBkzX"
      },
      "source": [
        "## Discount"
      ]
    },
    {
      "cell_type": "markdown",
      "metadata": {
        "id": "UOH8MlnKBkzX"
      },
      "source": [
        "### Wines"
      ]
    },
    {
      "cell_type": "code",
      "source": [
        "data.groupby('Wines_Cluster')['ID'].count()"
      ],
      "metadata": {
        "colab": {
          "base_uri": "https://localhost:8080/"
        },
        "id": "HHrBmmQabyQR",
        "outputId": "0302b379-52d5-44e8-fbc1-c61c492a5612"
      },
      "execution_count": 50,
      "outputs": [
        {
          "output_type": "execute_result",
          "data": {
            "text/plain": [
              "Wines_Cluster\n",
              "0    1303\n",
              "1     603\n",
              "2     306\n",
              "Name: ID, dtype: int64"
            ]
          },
          "metadata": {},
          "execution_count": 50
        }
      ]
    },
    {
      "cell_type": "code",
      "execution_count": 51,
      "metadata": {
        "id": "SwRdWfRHBkzY",
        "colab": {
          "base_uri": "https://localhost:8080/",
          "height": 890
        },
        "outputId": "51b712be-2762-4a26-e8bf-9b65d60d45fd"
      },
      "outputs": [
        {
          "output_type": "execute_result",
          "data": {
            "text/plain": [
              "<matplotlib.legend.Legend at 0x7f45a386af40>"
            ]
          },
          "metadata": {},
          "execution_count": 51
        },
        {
          "output_type": "display_data",
          "data": {
            "text/plain": [
              "<Figure size 1500x1000 with 1 Axes>"
            ],
            "image/png": "[encoded data removed]"
          },
          "metadata": {}
        }
      ],
      "source": [
        "plt.figure(figsize = (15, 10))\n",
        "\n",
        "sns.countplot(data = data, x = 'Discount', hue = 'Wines_Cluster')\n",
        "plt.title('Wines potential customer discount participation distribution (cluster)')\n",
        "plt.legend(loc = 'upper right')"
      ]
    },
    {
      "cell_type": "markdown",
      "metadata": {
        "id": "6UlT2SpNBkzY"
      },
      "source": [
        "### Fruits"
      ]
    },
    {
      "cell_type": "code",
      "source": [
        "data.groupby('Fruits_Cluster')['ID'].count()"
      ],
      "metadata": {
        "colab": {
          "base_uri": "https://localhost:8080/"
        },
        "id": "mOSJrN0yb9xP",
        "outputId": "a5998ac4-e490-41b4-cac3-cc8c98c5f54e"
      },
      "execution_count": 52,
      "outputs": [
        {
          "output_type": "execute_result",
          "data": {
            "text/plain": [
              "Fruits_Cluster\n",
              "0    1642\n",
              "1     387\n",
              "2     183\n",
              "Name: ID, dtype: int64"
            ]
          },
          "metadata": {},
          "execution_count": 52
        }
      ]
    },
    {
      "cell_type": "code",
      "execution_count": 53,
      "metadata": {
        "id": "E_MBL6X5BkzY",
        "colab": {
          "base_uri": "https://localhost:8080/",
          "height": 890
        },
        "outputId": "e33db510-de1a-41cb-a293-1d308f8caa49"
      },
      "outputs": [
        {
          "output_type": "execute_result",
          "data": {
            "text/plain": [
              "<matplotlib.legend.Legend at 0x7f45a37c3c70>"
            ]
          },
          "metadata": {},
          "execution_count": 53
        },
        {
          "output_type": "display_data",
          "data": {
            "text/plain": [
              "<Figure size 1500x1000 with 1 Axes>"
            ],
            "image/png": "[encoded data removed]"
          },
          "metadata": {}
        }
      ],
      "source": [
        "plt.figure(figsize = (15, 10))\n",
        "\n",
        "sns.countplot(data = data, x = 'Discount', hue = 'Fruits_Cluster')\n",
        "plt.title('Fruits potential customer discount participation distribution (cluster)')\n",
        "plt.legend(loc = 'upper right')"
      ]
    },
    {
      "cell_type": "markdown",
      "metadata": {
        "id": "tU4ejJwzBkzY"
      },
      "source": [
        "### Meat"
      ]
    },
    {
      "cell_type": "code",
      "source": [
        "data.groupby('Meat_Cluster')['ID'].count()"
      ],
      "metadata": {
        "colab": {
          "base_uri": "https://localhost:8080/"
        },
        "id": "b9lA6SJycBp4",
        "outputId": "2fc8531c-f961-4f64-99a7-38b5a1396bd5"
      },
      "execution_count": 54,
      "outputs": [
        {
          "output_type": "execute_result",
          "data": {
            "text/plain": [
              "Meat_Cluster\n",
              "0    1577\n",
              "1     437\n",
              "2     198\n",
              "Name: ID, dtype: int64"
            ]
          },
          "metadata": {},
          "execution_count": 54
        }
      ]
    },
    {
      "cell_type": "code",
      "execution_count": 55,
      "metadata": {
        "id": "Vm7lY_8rBkzY",
        "colab": {
          "base_uri": "https://localhost:8080/",
          "height": 890
        },
        "outputId": "9ebfdcac-5492-41a3-840a-810e5c14b919"
      },
      "outputs": [
        {
          "output_type": "execute_result",
          "data": {
            "text/plain": [
              "<matplotlib.legend.Legend at 0x7f45a36d8af0>"
            ]
          },
          "metadata": {},
          "execution_count": 55
        },
        {
          "output_type": "display_data",
          "data": {
            "text/plain": [
              "<Figure size 1500x1000 with 1 Axes>"
            ],
            "image/png": "[encoded data removed]"
          },
          "metadata": {}
        }
      ],
      "source": [
        "plt.figure(figsize = (15, 10))\n",
        "\n",
        "sns.countplot(data = data, x = 'Discount', hue = 'Meat_Cluster')\n",
        "plt.title('Meat potential customer discount participation distribution (cluster)')\n",
        "plt.legend(loc = 'upper right')"
      ]
    },
    {
      "cell_type": "markdown",
      "metadata": {
        "id": "E7fygXyMBkzY"
      },
      "source": [
        "### Fish"
      ]
    },
    {
      "cell_type": "code",
      "source": [
        "data.groupby('Fish_Cluster')['ID'].count()"
      ],
      "metadata": {
        "colab": {
          "base_uri": "https://localhost:8080/"
        },
        "id": "r12ZnE4tcDMW",
        "outputId": "c7be1325-2c4f-404f-a6b4-c64bc41fb489"
      },
      "execution_count": 56,
      "outputs": [
        {
          "output_type": "execute_result",
          "data": {
            "text/plain": [
              "Fish_Cluster\n",
              "0    1620\n",
              "1     386\n",
              "2     206\n",
              "Name: ID, dtype: int64"
            ]
          },
          "metadata": {},
          "execution_count": 56
        }
      ]
    },
    {
      "cell_type": "code",
      "execution_count": 57,
      "metadata": {
        "id": "Ywd6UGu5BkzY",
        "colab": {
          "base_uri": "https://localhost:8080/",
          "height": 890
        },
        "outputId": "46bd7eaa-2c24-4732-9e09-1b2f8595e72c"
      },
      "outputs": [
        {
          "output_type": "execute_result",
          "data": {
            "text/plain": [
              "<matplotlib.legend.Legend at 0x7f45a361a3d0>"
            ]
          },
          "metadata": {},
          "execution_count": 57
        },
        {
          "output_type": "display_data",
          "data": {
            "text/plain": [
              "<Figure size 1500x1000 with 1 Axes>"
            ],
            "image/png": "[encoded data removed]"
          },
          "metadata": {}
        }
      ],
      "source": [
        "plt.figure(figsize = (15, 10))\n",
        "\n",
        "sns.countplot(data = data, x = 'Discount', hue = 'Fish_Cluster')\n",
        "plt.title('Fish potential customer discount participation distribution (cluster)')\n",
        "plt.legend(loc = 'upper right')"
      ]
    },
    {
      "cell_type": "markdown",
      "metadata": {
        "id": "J5RZ0idwBkzY"
      },
      "source": [
        "### Sweets"
      ]
    },
    {
      "cell_type": "code",
      "source": [
        "data.groupby('Sweets_Cluster')['ID'].count()"
      ],
      "metadata": {
        "colab": {
          "base_uri": "https://localhost:8080/"
        },
        "id": "qGf7GA7UcE80",
        "outputId": "c8a4e2f1-844a-4584-ef23-25462dd25041"
      },
      "execution_count": 58,
      "outputs": [
        {
          "output_type": "execute_result",
          "data": {
            "text/plain": [
              "Sweets_Cluster\n",
              "0    1660\n",
              "1     373\n",
              "2     179\n",
              "Name: ID, dtype: int64"
            ]
          },
          "metadata": {},
          "execution_count": 58
        }
      ]
    },
    {
      "cell_type": "code",
      "execution_count": 59,
      "metadata": {
        "id": "m0eHDYC1BkzZ",
        "colab": {
          "base_uri": "https://localhost:8080/",
          "height": 890
        },
        "outputId": "4813a33b-9cc3-4b8f-fad3-e86c46bdfb23"
      },
      "outputs": [
        {
          "output_type": "execute_result",
          "data": {
            "text/plain": [
              "<matplotlib.legend.Legend at 0x7f45a35cf730>"
            ]
          },
          "metadata": {},
          "execution_count": 59
        },
        {
          "output_type": "display_data",
          "data": {
            "text/plain": [
              "<Figure size 1500x1000 with 1 Axes>"
            ],
            "image/png": "[encoded data removed]"
          },
          "metadata": {}
        }
      ],
      "source": [
        "plt.figure(figsize = (15, 10))\n",
        "\n",
        "sns.countplot(data = data, x = 'Discount', hue = 'Sweets_Cluster')\n",
        "plt.title('Sweets potential customer discount participation distribution (cluster)')\n",
        "plt.legend(loc = 'upper right')"
      ]
    },
    {
      "cell_type": "markdown",
      "metadata": {
        "id": "pZHQfngVBkzZ"
      },
      "source": [
        "### Gold"
      ]
    },
    {
      "cell_type": "code",
      "source": [
        "data.groupby('Gold_Cluster')['ID'].count()"
      ],
      "metadata": {
        "colab": {
          "base_uri": "https://localhost:8080/"
        },
        "id": "Wb817zmzcGiH",
        "outputId": "7e268e25-7f2b-4543-ecfb-57498aa8f551"
      },
      "execution_count": 60,
      "outputs": [
        {
          "output_type": "execute_result",
          "data": {
            "text/plain": [
              "Gold_Cluster\n",
              "0    1579\n",
              "1     430\n",
              "2     203\n",
              "Name: ID, dtype: int64"
            ]
          },
          "metadata": {},
          "execution_count": 60
        }
      ]
    },
    {
      "cell_type": "code",
      "execution_count": 61,
      "metadata": {
        "id": "bVmBkmcMBkzZ",
        "colab": {
          "base_uri": "https://localhost:8080/",
          "height": 890
        },
        "outputId": "8d0ceb38-b595-4da6-8513-099e37bd62a6"
      },
      "outputs": [
        {
          "output_type": "execute_result",
          "data": {
            "text/plain": [
              "<matplotlib.legend.Legend at 0x7f45a34c4880>"
            ]
          },
          "metadata": {},
          "execution_count": 61
        },
        {
          "output_type": "display_data",
          "data": {
            "text/plain": [
              "<Figure size 1500x1000 with 1 Axes>"
            ],
            "image/png": "[encoded data removed]"
          },
          "metadata": {}
        }
      ],
      "source": [
        "plt.figure(figsize = (15, 10))\n",
        "\n",
        "sns.countplot(data = data, x = 'Discount', hue = 'Gold_Cluster')\n",
        "plt.title('Gold potential customer discount participation distribution (cluster)')\n",
        "plt.legend(loc = 'upper right')"
      ]
    },
    {
      "cell_type": "markdown",
      "metadata": {
        "id": "VRWMUtcH_s7K"
      },
      "source": [
        "## Media"
      ]
    },
    {
      "cell_type": "markdown",
      "metadata": {
        "id": "W0BRaGKt40Lj"
      },
      "source": [
        "We will see potential buyers' media preference on buying products by counting the percentage of customers who use certain media more than once."
      ]
    },
    {
      "cell_type": "markdown",
      "metadata": {
        "id": "9MDkRA8WA7d8"
      },
      "source": [
        "### Wines"
      ]
    },
    {
      "cell_type": "code",
      "execution_count": 62,
      "metadata": {
        "id": "WSz8fGMR_uDD",
        "colab": {
          "base_uri": "https://localhost:8080/"
        },
        "outputId": "e9698f0e-3d7d-4107-91af-a8965f366b03"
      },
      "outputs": [
        {
          "output_type": "execute_result",
          "data": {
            "text/plain": [
              "100.0"
            ]
          },
          "metadata": {},
          "execution_count": 62
        }
      ],
      "source": [
        "# Web\n",
        "\n",
        "100 * len(data[(data['Wines_Cluster'] == 2) |\n",
        "               (data['Wines_Cluster'] == 3) & \n",
        "               (data['Web'] > 1)]) / len(data[(data['Wines_Cluster'] == 2) | \n",
        "                                              (data['Wines_Cluster'] == 3)])"
      ]
    },
    {
      "cell_type": "code",
      "execution_count": 63,
      "metadata": {
        "id": "a2ZKNZhU3P6o",
        "colab": {
          "base_uri": "https://localhost:8080/"
        },
        "outputId": "3c0de684-30f8-47b0-cf9d-9f296f5939d8"
      },
      "outputs": [
        {
          "output_type": "execute_result",
          "data": {
            "text/plain": [
              "100.0"
            ]
          },
          "metadata": {},
          "execution_count": 63
        }
      ],
      "source": [
        "# Catalogue\n",
        "\n",
        "100 * len(data[(data['Wines_Cluster'] == 2) | \n",
        "               (data['Wines_Cluster'] == 3) & \n",
        "               (data['Catalog'] > 1)]) / len(data[(data['Wines_Cluster'] == 2) | \n",
        "                                                  (data['Wines_Cluster'] == 3)])"
      ]
    },
    {
      "cell_type": "code",
      "execution_count": 64,
      "metadata": {
        "id": "TEIk3_5k3fBk",
        "colab": {
          "base_uri": "https://localhost:8080/"
        },
        "outputId": "d2c20d2a-3fa9-4ddf-93df-3058de67bc5c"
      },
      "outputs": [
        {
          "output_type": "execute_result",
          "data": {
            "text/plain": [
              "100.0"
            ]
          },
          "metadata": {},
          "execution_count": 64
        }
      ],
      "source": [
        "# Store\n",
        "\n",
        "100 * len(data[(data['Wines_Cluster'] == 2) | \n",
        "               (data['Wines_Cluster'] == 3) & \n",
        "               (data['Store'] > 1)]) / len(data[(data['Wines_Cluster'] == 2) | \n",
        "                                                (data['Wines_Cluster'] == 3)])"
      ]
    },
    {
      "cell_type": "markdown",
      "metadata": {
        "id": "n9cdYOgjA-Z7"
      },
      "source": [
        "### Fruits"
      ]
    },
    {
      "cell_type": "code",
      "execution_count": 65,
      "metadata": {
        "id": "XoEVkmzwA-Z8",
        "colab": {
          "base_uri": "https://localhost:8080/"
        },
        "outputId": "8b185ebf-5665-49d6-dd14-73fc4e12d298"
      },
      "outputs": [
        {
          "output_type": "execute_result",
          "data": {
            "text/plain": [
              "76.12667478684531"
            ]
          },
          "metadata": {},
          "execution_count": 65
        }
      ],
      "source": [
        "# Web\n",
        "\n",
        "100 * len(data[(data['Fruits_Cluster'] == 0) & \n",
        "               (data['Web'] > 1)]) / len(data[(data['Fruits_Cluster'] == 0)])"
      ]
    },
    {
      "cell_type": "code",
      "execution_count": 66,
      "metadata": {
        "id": "aIZ-IKZX4vDK",
        "colab": {
          "base_uri": "https://localhost:8080/"
        },
        "outputId": "ef15b9f6-bdc6-4a80-fabe-fe619695aab8"
      },
      "outputs": [
        {
          "output_type": "execute_result",
          "data": {
            "text/plain": [
              "36.84531059683313"
            ]
          },
          "metadata": {},
          "execution_count": 66
        }
      ],
      "source": [
        "# Catalogue\n",
        "\n",
        "100 * len(data[(data['Fruits_Cluster'] == 0) &\n",
        "               (data['Catalog'] > 1)]) / len(data[(data['Fruits_Cluster'] == 0)])"
      ]
    },
    {
      "cell_type": "code",
      "execution_count": 67,
      "metadata": {
        "id": "NX7yR7l85KUV",
        "colab": {
          "base_uri": "https://localhost:8080/"
        },
        "outputId": "bc49cace-cf27-4889-99e7-39ee711399e0"
      },
      "outputs": [
        {
          "output_type": "execute_result",
          "data": {
            "text/plain": [
              "98.78197320341047"
            ]
          },
          "metadata": {},
          "execution_count": 67
        }
      ],
      "source": [
        "# Store\n",
        "\n",
        "100 * len(data[(data['Fruits_Cluster'] == 0) & \n",
        "               (data['Store'] > 1)]) / len(data[(data['Fruits_Cluster'] == 0)])"
      ]
    },
    {
      "cell_type": "markdown",
      "metadata": {
        "id": "saGOuhBOA-lg"
      },
      "source": [
        "### Meat"
      ]
    },
    {
      "cell_type": "code",
      "execution_count": 68,
      "metadata": {
        "id": "-TCuF2ZY5Sux",
        "colab": {
          "base_uri": "https://localhost:8080/"
        },
        "outputId": "6165cec6-b92e-4551-e952-d45b76dd4632"
      },
      "outputs": [
        {
          "output_type": "execute_result",
          "data": {
            "text/plain": [
              "75.33291058972733"
            ]
          },
          "metadata": {},
          "execution_count": 68
        }
      ],
      "source": [
        "# Web\n",
        "\n",
        "100*len(data[(data['Meat_Cluster'] == 0) & \n",
        "             (data['Web'] > 1)])/len(data[(data['Meat_Cluster'] == 0)])"
      ]
    },
    {
      "cell_type": "code",
      "execution_count": 69,
      "metadata": {
        "id": "GlZ5Sq3f5S0-",
        "colab": {
          "base_uri": "https://localhost:8080/"
        },
        "outputId": "3affc157-3dc2-4fe6-af79-ccc355d36eb0"
      },
      "outputs": [
        {
          "output_type": "execute_result",
          "data": {
            "text/plain": [
              "33.03741280913126"
            ]
          },
          "metadata": {},
          "execution_count": 69
        }
      ],
      "source": [
        "# Catalogue\n",
        "\n",
        "100 * len(data[(data['Meat_Cluster'] == 0) & \n",
        "               (data['Catalog'] > 1)]) / len(data[(data['Meat_Cluster'] == 0)])"
      ]
    },
    {
      "cell_type": "code",
      "execution_count": 70,
      "metadata": {
        "id": "gUTAnzdZA-lg",
        "colab": {
          "base_uri": "https://localhost:8080/"
        },
        "outputId": "200818ce-c91e-4a79-c087-0dd16c4f8108"
      },
      "outputs": [
        {
          "output_type": "execute_result",
          "data": {
            "text/plain": [
              "98.9854153455929"
            ]
          },
          "metadata": {},
          "execution_count": 70
        }
      ],
      "source": [
        "# Store\n",
        "\n",
        "100 * len(data[(data['Meat_Cluster'] == 0) & \n",
        "               (data['Store'] > 1)]) / len(data[(data['Meat_Cluster'] == 0)])"
      ]
    },
    {
      "cell_type": "markdown",
      "metadata": {
        "id": "UNOhgVRiA-vq"
      },
      "source": [
        "### Fish"
      ]
    },
    {
      "cell_type": "code",
      "execution_count": 71,
      "metadata": {
        "id": "CAngTNSrA-vr",
        "colab": {
          "base_uri": "https://localhost:8080/"
        },
        "outputId": "edb132b4-3dce-4455-ea7e-556ac1fcb541"
      },
      "outputs": [
        {
          "output_type": "execute_result",
          "data": {
            "text/plain": [
              "100.0"
            ]
          },
          "metadata": {},
          "execution_count": 71
        }
      ],
      "source": [
        "# Web\n",
        "\n",
        "100*len(data[(data['Fish_Cluster'] == 2) & \n",
        "             (data['Web'] > 1)]) / len(data[(data['Fish_Cluster'] == 2)])"
      ]
    },
    {
      "cell_type": "code",
      "execution_count": 72,
      "metadata": {
        "id": "8WxJeiO_54uL",
        "colab": {
          "base_uri": "https://localhost:8080/"
        },
        "outputId": "6e3ba731-8a1c-4778-a9f9-d9b793295669"
      },
      "outputs": [
        {
          "output_type": "execute_result",
          "data": {
            "text/plain": [
              "98.05825242718447"
            ]
          },
          "metadata": {},
          "execution_count": 72
        }
      ],
      "source": [
        "# Catalogue\n",
        "\n",
        "100 * len(data[(data['Fish_Cluster'] == 2) & \n",
        "               (data['Catalog'] > 1)]) / len(data[(data['Fish_Cluster'] == 2)])"
      ]
    },
    {
      "cell_type": "code",
      "execution_count": 73,
      "metadata": {
        "id": "jeshLw_p55Ev",
        "colab": {
          "base_uri": "https://localhost:8080/"
        },
        "outputId": "baf69b5d-7dae-453c-9459-e7d9f95f455b"
      },
      "outputs": [
        {
          "output_type": "execute_result",
          "data": {
            "text/plain": [
              "100.0"
            ]
          },
          "metadata": {},
          "execution_count": 73
        }
      ],
      "source": [
        "# Store\n",
        "\n",
        "100 * len(data[(data['Fish_Cluster'] == 2) & \n",
        "               (data['Store'] > 1)]) / len(data[(data['Fish_Cluster'] == 2)])"
      ]
    },
    {
      "cell_type": "markdown",
      "metadata": {
        "id": "6DSa7VihA-yh"
      },
      "source": [
        "### Sweets"
      ]
    },
    {
      "cell_type": "code",
      "execution_count": 74,
      "metadata": {
        "id": "GN98ymv3A-yh",
        "colab": {
          "base_uri": "https://localhost:8080/"
        },
        "outputId": "06ee3e3b-2a64-45b0-b19a-a8387e25e12e"
      },
      "outputs": [
        {
          "output_type": "execute_result",
          "data": {
            "text/plain": [
              "100.0"
            ]
          },
          "metadata": {},
          "execution_count": 74
        }
      ],
      "source": [
        "# Web\n",
        "\n",
        "100 * len(data[(data['Sweets_Cluster'] == 2) & \n",
        "               (data['Web'] > 1)]) / len(data[(data['Sweets_Cluster'] == 2)])"
      ]
    },
    {
      "cell_type": "code",
      "execution_count": 75,
      "metadata": {
        "id": "lR-JLVqc6HDL",
        "colab": {
          "base_uri": "https://localhost:8080/"
        },
        "outputId": "495cf253-e055-43fd-c014-bcbdfc0413c1"
      },
      "outputs": [
        {
          "output_type": "execute_result",
          "data": {
            "text/plain": [
              "98.88268156424581"
            ]
          },
          "metadata": {},
          "execution_count": 75
        }
      ],
      "source": [
        "# Catalogue\n",
        "\n",
        "100 * len(data[(data['Sweets_Cluster'] == 2) & \n",
        "               (data['Catalog'] > 1)]) / len(data[(data['Sweets_Cluster'] == 2)])"
      ]
    },
    {
      "cell_type": "code",
      "execution_count": 76,
      "metadata": {
        "id": "htm1qAZy6HSC",
        "colab": {
          "base_uri": "https://localhost:8080/"
        },
        "outputId": "aaab58d2-265d-45b2-dcb8-09b9d9d56d00"
      },
      "outputs": [
        {
          "output_type": "execute_result",
          "data": {
            "text/plain": [
              "99.44134078212291"
            ]
          },
          "metadata": {},
          "execution_count": 76
        }
      ],
      "source": [
        "# Store\n",
        "\n",
        "100 * len(data[(data['Sweets_Cluster'] == 2) & \n",
        "               (data['Store'] > 1)]) / len(data[(data['Sweets_Cluster'] == 2)])"
      ]
    },
    {
      "cell_type": "markdown",
      "metadata": {
        "id": "QCdXtwNoA-7L"
      },
      "source": [
        "### Gold"
      ]
    },
    {
      "cell_type": "code",
      "execution_count": 77,
      "metadata": {
        "id": "zMndy5P2A-7L",
        "colab": {
          "base_uri": "https://localhost:8080/"
        },
        "outputId": "81daf9ba-b17a-4ac9-a644-dfa955fa39b5"
      },
      "outputs": [
        {
          "output_type": "execute_result",
          "data": {
            "text/plain": [
              "75.17416086130463"
            ]
          },
          "metadata": {},
          "execution_count": 77
        }
      ],
      "source": [
        "# Web\n",
        "\n",
        "100 * len(data[(data['Gold_Cluster'] == 0) & \n",
        "               (data['Web'] > 1)]) / len(data[(data['Gold_Cluster'] == 0)])"
      ]
    },
    {
      "cell_type": "code",
      "execution_count": 78,
      "metadata": {
        "id": "AiFT-TuS6OLH",
        "colab": {
          "base_uri": "https://localhost:8080/"
        },
        "outputId": "f19cf4fa-8ea0-4fe5-8a4c-670a464ab17a"
      },
      "outputs": [
        {
          "output_type": "execute_result",
          "data": {
            "text/plain": [
              "36.478784040531984"
            ]
          },
          "metadata": {},
          "execution_count": 78
        }
      ],
      "source": [
        "# Catalogue\n",
        "\n",
        "100 * len(data[(data['Gold_Cluster'] == 0) & \n",
        "               (data['Catalog'] > 1)]) / len(data[(data['Gold_Cluster'] == 0)])"
      ]
    },
    {
      "cell_type": "code",
      "execution_count": 79,
      "metadata": {
        "id": "sP9VYRZY6Ofg",
        "colab": {
          "base_uri": "https://localhost:8080/"
        },
        "outputId": "026026da-0e7c-4fec-9268-d2cda00940d4"
      },
      "outputs": [
        {
          "output_type": "execute_result",
          "data": {
            "text/plain": [
              "98.92336922102596"
            ]
          },
          "metadata": {},
          "execution_count": 79
        }
      ],
      "source": [
        "# Store\n",
        "\n",
        "100 * len(data[(data['Gold_Cluster'] == 0) & \n",
        "               (data['Store'] > 1)]) / len(data[(data['Gold_Cluster'] == 0)])"
      ]
    },
    {
      "cell_type": "markdown",
      "metadata": {
        "id": "ZVHQQ--o_M2Z"
      },
      "source": [
        "## Campaign"
      ]
    },
    {
      "cell_type": "code",
      "execution_count": 80,
      "metadata": {
        "id": "uOs6TMEf3if4",
        "colab": {
          "base_uri": "https://localhost:8080/"
        },
        "outputId": "138679d3-c679-4c46-cc8e-77abc28d7db0"
      },
      "outputs": [
        {
          "output_type": "execute_result",
          "data": {
            "text/plain": [
              "Campaign 1  Campaign 2  Campaign 3  Campaign 4  Campaign 5\n",
              "0           0           0           0           0             1754\n",
              "                        1           0           0              129\n",
              "                        0           1           0               83\n",
              "                                    0           1               57\n",
              "1           0           0           0           0               52\n",
              "0           0           0           1           1               24\n",
              "1           0           0           1           1               23\n",
              "                                    0           1               21\n",
              "                        1           0           1               13\n",
              "                        0           1           0               12\n",
              "                        1           0           0                8\n",
              "            1           0           1           1                8\n",
              "0           1           0           1           0                8\n",
              "            0           1           0           1                6\n",
              "            1           0           1           1                4\n",
              "1           1           1           0           1                3\n",
              "0           1           1           0           0                2\n",
              "1           1           0           1           0                2\n",
              "0           1           1           0           1                2\n",
              "                        0           0           0                1\n",
              "dtype: int64"
            ]
          },
          "metadata": {},
          "execution_count": 80
        }
      ],
      "source": [
        "data[['Campaign 1', 'Campaign 2', 'Campaign 3', 'Campaign 4', 'Campaign 5']].value_counts()"
      ]
    },
    {
      "cell_type": "code",
      "execution_count": 81,
      "metadata": {
        "id": "Zx_oHjEw3kSQ",
        "colab": {
          "base_uri": "https://localhost:8080/"
        },
        "outputId": "c81ddf48-adf2-4b25-e5cd-24eaad278b7f"
      },
      "outputs": [
        {
          "output_type": "execute_result",
          "data": {
            "text/plain": [
              "2212"
            ]
          },
          "metadata": {},
          "execution_count": 81
        }
      ],
      "source": [
        "len(data)"
      ]
    },
    {
      "cell_type": "markdown",
      "metadata": {
        "id": "qU8eCQsDAzeJ"
      },
      "source": [
        "### Wines"
      ]
    },
    {
      "cell_type": "code",
      "execution_count": 82,
      "metadata": {
        "id": "MOZshrR19q2H",
        "colab": {
          "base_uri": "https://localhost:8080/"
        },
        "outputId": "dfb446eb-ea1e-491f-de8c-b6bb8bfa9c03"
      },
      "outputs": [
        {
          "output_type": "execute_result",
          "data": {
            "text/plain": [
              "Campaign 1  Campaign 2  Campaign 3  Campaign 4  Campaign 5\n",
              "0           0           0           0           0             118\n",
              "                                                1              33\n",
              "                                    1           0              29\n",
              "1           0           0           0           0              19\n",
              "0           0           1           0           0              18\n",
              "                        0           1           1              17\n",
              "1           0           0           1           1              17\n",
              "                                    0           1              15\n",
              "                        1           0           1              10\n",
              "            1           0           1           1               6\n",
              "0           1           0           1           0               5\n",
              "1           0           0           1           0               5\n",
              "0           1           0           1           1               4\n",
              "            0           1           0           1               3\n",
              "            1           1           0           1               2\n",
              "1           1           0           1           0               2\n",
              "                        1           0           1               2\n",
              "            0           1           0           0               1\n",
              "dtype: int64"
            ]
          },
          "metadata": {},
          "execution_count": 82
        }
      ],
      "source": [
        "data[(data['Wines_Cluster'] == 2) | (data['Wines_Cluster'] == 3)][['Campaign 1', 'Campaign 2', 'Campaign 3', 'Campaign 4', 'Campaign 5']].value_counts()"
      ]
    },
    {
      "cell_type": "code",
      "execution_count": 83,
      "metadata": {
        "id": "npeIKjJR0VYU",
        "colab": {
          "base_uri": "https://localhost:8080/"
        },
        "outputId": "f0a7ebda-fa1d-43eb-8272-a470ad79d2cd"
      },
      "outputs": [
        {
          "output_type": "execute_result",
          "data": {
            "text/plain": [
              "306"
            ]
          },
          "metadata": {},
          "execution_count": 83
        }
      ],
      "source": [
        "len(data[(data['Wines_Cluster'] == 2) | (data['Wines_Cluster'] == 3)])"
      ]
    },
    {
      "cell_type": "markdown",
      "metadata": {
        "id": "xt-OrmEAA06v"
      },
      "source": [
        "### Fruits"
      ]
    },
    {
      "cell_type": "code",
      "execution_count": 84,
      "metadata": {
        "id": "LbTeggYD_YL2",
        "colab": {
          "base_uri": "https://localhost:8080/"
        },
        "outputId": "53e7a88e-a90f-4d7c-cdbd-9d03465b6da4"
      },
      "outputs": [
        {
          "output_type": "execute_result",
          "data": {
            "text/plain": [
              "Campaign 1  Campaign 2  Campaign 3  Campaign 4  Campaign 5\n",
              "0           0           0           0           0             1343\n",
              "                        1           0           0              103\n",
              "                        0           1           0               65\n",
              "1           0           0           0           0               31\n",
              "0           0           0           0           1               23\n",
              "                                    1           1               18\n",
              "1           0           0           1           1               11\n",
              "                                                0                8\n",
              "0           1           0           1           0                7\n",
              "1           0           0           0           1                7\n",
              "                        1           0           1                6\n",
              "            1           0           1           1                5\n",
              "0           1           0           1           1                4\n",
              "1           0           1           0           0                2\n",
              "            1           1           0           1                2\n",
              "0           1           1           0           0                2\n",
              "            0           1           0           1                2\n",
              "            1           0           0           0                1\n",
              "1           1           0           1           0                1\n",
              "0           1           1           0           1                1\n",
              "dtype: int64"
            ]
          },
          "metadata": {},
          "execution_count": 84
        }
      ],
      "source": [
        "data[(data['Fruits_Cluster'] == 0)][['Campaign 1', 'Campaign 2', 'Campaign 3', 'Campaign 4', 'Campaign 5']].value_counts()"
      ]
    },
    {
      "cell_type": "code",
      "execution_count": 85,
      "metadata": {
        "id": "W6GrAT6X0bmI",
        "colab": {
          "base_uri": "https://localhost:8080/"
        },
        "outputId": "3da8ab06-d63e-4f69-edff-02cb60626ed2"
      },
      "outputs": [
        {
          "output_type": "execute_result",
          "data": {
            "text/plain": [
              "1642"
            ]
          },
          "metadata": {},
          "execution_count": 85
        }
      ],
      "source": [
        "len(data[(data['Fruits_Cluster'] == 0)])"
      ]
    },
    {
      "cell_type": "markdown",
      "metadata": {
        "id": "ha41iqXyA2fG"
      },
      "source": [
        "### Meat"
      ]
    },
    {
      "cell_type": "code",
      "execution_count": 86,
      "metadata": {
        "id": "aVCgtDBa_YpR",
        "colab": {
          "base_uri": "https://localhost:8080/"
        },
        "outputId": "2f670bbd-87c0-4c79-9dcf-a3b17c3d8ae9"
      },
      "outputs": [
        {
          "output_type": "execute_result",
          "data": {
            "text/plain": [
              "Campaign 1  Campaign 2  Campaign 3  Campaign 4  Campaign 5\n",
              "0           0           0           0           0             1347\n",
              "                        1           0           0              103\n",
              "                        0           1           0               66\n",
              "1           0           0           0           0               12\n",
              "0           0           0           1           1                7\n",
              "1           0           0           0           1                7\n",
              "                                    1           0                7\n",
              "0           1           0           1           0                6\n",
              "            0           0           0           1                6\n",
              "1           0           1           0           1                2\n",
              "            1           0           1           1                2\n",
              "0           1           0           1           1                2\n",
              "                        1           0           0                2\n",
              "1           0           0           1           1                2\n",
              "            1           0           1           0                1\n",
              "0           1           1           0           1                1\n",
              "1           0           1           0           0                1\n",
              "0           1           0           0           0                1\n",
              "            0           1           0           1                1\n",
              "1           1           1           0           1                1\n",
              "dtype: int64"
            ]
          },
          "metadata": {},
          "execution_count": 86
        }
      ],
      "source": [
        "data[(data['Meat_Cluster'] == 0)][['Campaign 1', 'Campaign 2', 'Campaign 3', 'Campaign 4', 'Campaign 5']].value_counts()"
      ]
    },
    {
      "cell_type": "code",
      "execution_count": 87,
      "metadata": {
        "id": "Wv7VBO4M3xo9",
        "colab": {
          "base_uri": "https://localhost:8080/"
        },
        "outputId": "863dd479-dd12-4d65-aa7c-cffd2bba05c3"
      },
      "outputs": [
        {
          "output_type": "execute_result",
          "data": {
            "text/plain": [
              "1577"
            ]
          },
          "metadata": {},
          "execution_count": 87
        }
      ],
      "source": [
        "len(data[(data['Meat_Cluster'] == 0)])"
      ]
    },
    {
      "cell_type": "markdown",
      "metadata": {
        "id": "--YlWwC9A3fU"
      },
      "source": [
        "### Fish"
      ]
    },
    {
      "cell_type": "code",
      "execution_count": 88,
      "metadata": {
        "id": "Sln3fMO9_Y2L",
        "colab": {
          "base_uri": "https://localhost:8080/"
        },
        "outputId": "5a5a5ff8-5822-4f28-d00a-5303d89cc415"
      },
      "outputs": [
        {
          "output_type": "execute_result",
          "data": {
            "text/plain": [
              "Campaign 1  Campaign 2  Campaign 3  Campaign 4  Campaign 5\n",
              "0           0           0           0           0             135\n",
              "1           0           0           0           0              17\n",
              "0           0           0           0           1              13\n",
              "                        1           0           0               9\n",
              "1           0           0           0           1               8\n",
              "0           0           0           1           0               5\n",
              "1           0           0           1           1               5\n",
              "                        1           0           0               5\n",
              "                                                1               4\n",
              "                        0           1           0               3\n",
              "0           0           0           1           1               1\n",
              "1           1           0           1           0               1\n",
              "dtype: int64"
            ]
          },
          "metadata": {},
          "execution_count": 88
        }
      ],
      "source": [
        "data[(data['Fish_Cluster'] == 2)][['Campaign 1', 'Campaign 2', 'Campaign 3', 'Campaign 4', 'Campaign 5']].value_counts()"
      ]
    },
    {
      "cell_type": "code",
      "execution_count": 89,
      "metadata": {
        "id": "2WQnfhMh35EY",
        "colab": {
          "base_uri": "https://localhost:8080/"
        },
        "outputId": "9563afb0-8b8e-4520-da87-6130668ff515"
      },
      "outputs": [
        {
          "output_type": "execute_result",
          "data": {
            "text/plain": [
              "206"
            ]
          },
          "metadata": {},
          "execution_count": 89
        }
      ],
      "source": [
        "len(data[(data['Fish_Cluster'] == 2)])"
      ]
    },
    {
      "cell_type": "markdown",
      "metadata": {
        "id": "X8jJvKj6A4u2"
      },
      "source": [
        "### Sweets"
      ]
    },
    {
      "cell_type": "code",
      "execution_count": 90,
      "metadata": {
        "id": "Lnp1QEuu_ZFx",
        "colab": {
          "base_uri": "https://localhost:8080/"
        },
        "outputId": "00d105e5-5e97-46ca-a2b3-a35ca37a8334"
      },
      "outputs": [
        {
          "output_type": "execute_result",
          "data": {
            "text/plain": [
              "Campaign 1  Campaign 2  Campaign 3  Campaign 4  Campaign 5\n",
              "0           0           0           0           0             113\n",
              "                                                1              18\n",
              "1           0           0           0           0              11\n",
              "                                                1               6\n",
              "                                    1           1               6\n",
              "                        1           0           1               6\n",
              "0           0           0           1           0               5\n",
              "                        1           0           0               3\n",
              "                                                1               3\n",
              "1           0           1           0           0               3\n",
              "                        0           1           0               2\n",
              "            1           0           1           1               2\n",
              "0           0           0           1           1               1\n",
              "dtype: int64"
            ]
          },
          "metadata": {},
          "execution_count": 90
        }
      ],
      "source": [
        "data[(data['Sweets_Cluster'] == 2)][['Campaign 1', 'Campaign 2', 'Campaign 3', 'Campaign 4', 'Campaign 5']].value_counts()"
      ]
    },
    {
      "cell_type": "code",
      "execution_count": 91,
      "metadata": {
        "id": "l2fiwr1O3-w_",
        "colab": {
          "base_uri": "https://localhost:8080/"
        },
        "outputId": "252309ef-5a1d-4eae-93b9-b3d8d7443bf2"
      },
      "outputs": [
        {
          "output_type": "execute_result",
          "data": {
            "text/plain": [
              "179"
            ]
          },
          "metadata": {},
          "execution_count": 91
        }
      ],
      "source": [
        "len(data[(data['Sweets_Cluster'] == 2)])"
      ]
    },
    {
      "cell_type": "markdown",
      "metadata": {
        "id": "UU-4bYbZA50J"
      },
      "source": [
        "### Gold"
      ]
    },
    {
      "cell_type": "code",
      "execution_count": 92,
      "metadata": {
        "id": "KinhvaXsAlpI",
        "colab": {
          "base_uri": "https://localhost:8080/"
        },
        "outputId": "304bb410-ce9f-43ac-efbe-d195bbeb33fa"
      },
      "outputs": [
        {
          "output_type": "execute_result",
          "data": {
            "text/plain": [
              "Campaign 1  Campaign 2  Campaign 3  Campaign 4  Campaign 5\n",
              "0           0           0           0           0             1307\n",
              "                        1           0           0               88\n",
              "                        0           1           0               63\n",
              "1           0           0           0           0               25\n",
              "0           0           0           0           1               24\n",
              "                                    1           1               17\n",
              "1           0           0           0           1               13\n",
              "                                    1           1               12\n",
              "                                                0                6\n",
              "0           1           0           1           0                5\n",
              "1           1           0           1           1                5\n",
              "            0           1           0           1                4\n",
              "                                                0                3\n",
              "0           1           1           0           0                2\n",
              "1           1           0           1           0                2\n",
              "0           0           1           0           1                1\n",
              "            1           0           0           0                1\n",
              "1           1           1           0           1                1\n",
              "dtype: int64"
            ]
          },
          "metadata": {},
          "execution_count": 92
        }
      ],
      "source": [
        "data[(data['Gold_Cluster'] == 0)][['Campaign 1', 'Campaign 2', 'Campaign 3', 'Campaign 4', 'Campaign 5']].value_counts()"
      ]
    },
    {
      "cell_type": "code",
      "execution_count": 93,
      "metadata": {
        "id": "0LENiceH4FGk",
        "colab": {
          "base_uri": "https://localhost:8080/"
        },
        "outputId": "f1c6effa-94d8-4042-bad4-83321846f9a9"
      },
      "outputs": [
        {
          "output_type": "execute_result",
          "data": {
            "text/plain": [
              "1579"
            ]
          },
          "metadata": {},
          "execution_count": 93
        }
      ],
      "source": [
        "len(data[(data['Gold_Cluster'] == 0)])"
      ]
    },
    {
      "cell_type": "markdown",
      "metadata": {
        "id": "70hwH2uI1nbU"
      },
      "source": [
        "# Summary & Recommendations"
      ]
    },
    {
      "cell_type": "markdown",
      "metadata": {
        "id": "SFvt5mJFyNeA"
      },
      "source": [
        "## Summary"
      ]
    },
    {
      "cell_type": "markdown",
      "metadata": {
        "id": "CqtO-HxlyOUU"
      },
      "source": [
        "\n",
        "\n",
        "1.   The **most popular** platform for potential customers are **store**, **web**, and **catalogue**, respectively.\n",
        "2.   Overall, the **discount participation rate** is **very low** (including the potential customers for each product'). Perhaps the discount given is **not tempting** for the customers? \n",
        "3.   Even so, it seems like for **potential customers** (Cluster 2), their discount **participation rate** is very high, mostly **higher than 50%** (for fruits, meat, and fish products, it exceeds 75%).\n",
        "4.   The potential buyers' campaign participation rate are also very low (most are not participating even once)\n",
        "\n"
      ]
    },
    {
      "cell_type": "markdown",
      "metadata": {
        "id": "A1b3J3pbyMUS"
      },
      "source": [
        "## Recommendations"
      ]
    },
    {
      "cell_type": "markdown",
      "metadata": {
        "id": "s_xFGBd31pK3"
      },
      "source": [
        "\n",
        "\n",
        "1.   The company should **upgrade** their **website**, as many potential customers are buying products\n",
        "through website, and also as a mean to attract another customer segments.\n",
        "2.   There needs to be a **promo** to attract buyers, especially the potential customers, so the amount of sold products will increase. \n",
        "3.   There needs to be a **better campaign strategy** on catching the attention for these customers, as we previously known that these customers are at least an Undergraduate, so they might be busy with work and do not have time on participating in the Campaign.\n",
        "\n"
      ]
    }
  ],
  "metadata": {
    "colab": {
      "collapsed_sections": [
        "-Taxp2K4WD4a",
        "q5bGj0x9XOEH",
        "ZfzliTrpzqfu",
        "UOH8MlnKBkzX",
        "6UlT2SpNBkzY",
        "tU4ejJwzBkzY",
        "E7fygXyMBkzY",
        "J5RZ0idwBkzY",
        "pZHQfngVBkzZ",
        "VRWMUtcH_s7K",
        "9MDkRA8WA7d8",
        "n9cdYOgjA-Z7",
        "saGOuhBOA-lg",
        "UNOhgVRiA-vq",
        "6DSa7VihA-yh",
        "QCdXtwNoA-7L",
        "ZVHQQ--o_M2Z",
        "qU8eCQsDAzeJ",
        "xt-OrmEAA06v",
        "ha41iqXyA2fG",
        "--YlWwC9A3fU",
        "X8jJvKj6A4u2",
        "UU-4bYbZA50J",
        "SFvt5mJFyNeA",
        "A1b3J3pbyMUS"
      ],
      "provenance": []
    },
    "kernelspec": {
      "display_name": "Python 3",
      "language": "python",
      "name": "python3"
    },
    "language_info": {
      "codemirror_mode": {
        "name": "ipython",
        "version": 3
      },
      "file_extension": ".py",
      "mimetype": "text/x-python",
      "name": "python",
      "nbconvert_exporter": "python",
      "pygments_lexer": "ipython3",
      "version": "3.10.5"
    }
  },
  "nbformat": 4,
  "nbformat_minor": 0
}