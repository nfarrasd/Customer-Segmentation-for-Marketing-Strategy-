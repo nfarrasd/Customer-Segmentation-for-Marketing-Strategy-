{
 "cells": [
  {
   "cell_type": "markdown",
   "metadata": {
    "id": "V7nxiI6BzVci"
   },
   "source": [
    "**Author**: Moch Nabil Farras Dhiya (10120034)\n",
    "\n",
    "**E-mail**: nabilfarras923@gmail.com\n",
    "\n",
    "-------------------\n",
    "\n",
    "**Disclaimer**: The **dataset** used in this analysis is a public dataset retrieved from [Customer Personality Analysis - Kaggle](https://www.kaggle.com/datasets/imakash3011/customer-personality-analysis?datasetId=1546318&sortBy=voteCount)."
   ]
  },
  {
   "cell_type": "markdown",
   "metadata": {
    "id": "-Taxp2K4WD4a"
   },
   "source": [
    "# Background"
   ]
  },
  {
   "cell_type": "markdown",
   "metadata": {
    "id": "q5bGj0x9XOEH"
   },
   "source": [
    "## Attributes"
   ]
  },
  {
   "cell_type": "markdown",
   "metadata": {
    "id": "NgtswCGVXDqM"
   },
   "source": [
    "**People**\n",
    "\n",
    "*   ID: Customer's unique identifier\n",
    "*   Year_Birth: Customer's birth year\n",
    "*   Education: Customer's education level\n",
    "*   Marital_Status: Customer's marital status\n",
    "*   Income: Customer's yearly household income\n",
    "*   Kidhome: Number of children in customer's household\n",
    "*   Teenhome: Number of teenagers in customer's household\n",
    "*   Dt_Customer: Date of customer's enrollment with the company\n",
    "*   Recency: Number of days since customer's last purchase\n",
    "*   Complain: 1 if the customer complained in the last 2 years, 0 otherwise\n",
    "\n",
    "**Products**\n",
    "\n",
    "*   MntWines: Amount spent on wine in last 2 years\n",
    "*   MntFruits: Amount spent on fruits in last 2 years\n",
    "*   MntMeatProducts: Amount spent on meat in last 2 years\n",
    "*   MntFishProducts: Amount spent on fish in last 2 years\n",
    "*   MntSweetProducts: Amount spent on sweets in last 2 years\n",
    "*   MntGoldProds: Amount spent on gold in last 2 years\n",
    "\n",
    "**Promotion**\n",
    "\n",
    "\n",
    "*   NumDealsPurchases: Number of purchases made with a discount\n",
    "*   AcceptedCmp1: 1 if customer accepted the offer in the 1st campaign, 0 otherwise\n",
    "*   AcceptedCmp2: 1 if customer accepted the offer in the 2nd campaign, 0 otherwise\n",
    "*   AcceptedCmp3: 1 if customer accepted the offer in the 3rd campaign, 0 otherwise\n",
    "*   AcceptedCmp4: 1 if customer accepted the offer in the 4th campaign, 0 otherwise\n",
    "*   AcceptedCmp5: 1 if customer accepted the offer in the 5th campaign, 0 otherwise\n",
    "*   Response: 1 if customer accepted the offer in the last campaign, 0 otherwise\n",
    "\n",
    "**Place**\n",
    "\n",
    "*   NumWebPurchases: Number of purchases made through the company’s website\n",
    "*   NumCatalogPurchases: Number of purchases made using a catalogue\n",
    "*   NumWebVisitsMonth: Number of visits to company’s website in the last month\n",
    "*   NumStorePurchases: Number of purchases made directly in stores"
   ]
  },
  {
   "cell_type": "markdown",
   "metadata": {
    "id": "JprWVv-dXPJp"
   },
   "source": [
    "## Goals\n",
    "\n",
    "Perform clustering to summarize customer segments."
   ]
  },
  {
   "cell_type": "markdown",
   "metadata": {
    "id": "D2KwviZTzb7D"
   },
   "source": [
    "# Connect to Google Drive"
   ]
  },
  {
   "cell_type": "code",
   "execution_count": 1,
   "metadata": {
    "colab": {
     "base_uri": "https://localhost:8080/"
    },
    "id": "YQeVA1xdzfI9",
    "outputId": "387185ea-5f2e-4ca5-ab4c-59a84af6a2b0"
   },
   "outputs": [],
   "source": [
    "# from google.colab import drive\n",
    "# drive.mount('/content/gdrive')"
   ]
  },
  {
   "cell_type": "code",
   "execution_count": 2,
   "metadata": {
    "colab": {
     "base_uri": "https://localhost:8080/"
    },
    "id": "yawX7Vo8zNP9",
    "outputId": "2cb6c6e1-b05f-4571-a3ce-9448bbeadcd3"
   },
   "outputs": [],
   "source": [
    "# %cd /content/gdrive/My Drive/Portfolio/Data Science/Python/Customer Segmentation/CSV"
   ]
  },
  {
   "cell_type": "markdown",
   "metadata": {
    "id": "ZfzliTrpzqfu"
   },
   "source": [
    "# Import Packages"
   ]
  },
  {
   "cell_type": "code",
   "execution_count": 3,
   "metadata": {
    "id": "gGoyK5jrzvGe"
   },
   "outputs": [],
   "source": [
    "import pandas as pd\n",
    "import numpy as np\n",
    "import datetime as dt\n",
    "\n",
    "import matplotlib.pyplot as plt\n",
    "import seaborn as sns\n",
    "sns.set_style(\"darkgrid\")\n",
    "\n",
    "from statistics import mean\n",
    "from scipy.stats import skew\n",
    "\n",
    "from sklearn import preprocessing\n",
    "from sklearn.preprocessing import StandardScaler, LabelEncoder\n",
    "from sklearn.metrics import davies_bouldin_score, silhouette_score, calinski_harabasz_score\n",
    "from sklearn.metrics.pairwise import euclidean_distances\n",
    "from sklearn.decomposition import PCA\n",
    "from sklearn.cluster import KMeans, AgglomerativeClustering\n",
    "\n",
    "from yellowbrick.cluster import KElbowVisualizer\n",
    "from collections import defaultdict"
   ]
  },
  {
   "cell_type": "markdown",
   "metadata": {
    "id": "mLd1UE4B0HQr"
   },
   "source": [
    "# Import Data"
   ]
  },
  {
   "cell_type": "code",
   "execution_count": 4,
   "metadata": {
    "id": "ujlQPKIP0J06"
   },
   "outputs": [],
   "source": [
    "data = pd.read_csv(\"../Data/final_data.csv\")"
   ]
  },
  {
   "cell_type": "code",
   "execution_count": 5,
   "metadata": {
    "colab": {
     "base_uri": "https://localhost:8080/",
     "height": 485
    },
    "id": "5t1lSx-GmZfh",
    "outputId": "a074bb4d-af8c-4a54-b099-2336a8743881"
   },
   "outputs": [
    {
     "data": {
      "text/html": [
       "<div>\n",
       "<style scoped>\n",
       "    .dataframe tbody tr th:only-of-type {\n",
       "        vertical-align: middle;\n",
       "    }\n",
       "\n",
       "    .dataframe tbody tr th {\n",
       "        vertical-align: top;\n",
       "    }\n",
       "\n",
       "    .dataframe thead th {\n",
       "        text-align: right;\n",
       "    }\n",
       "</style>\n",
       "<table border=\"1\" class=\"dataframe\">\n",
       "  <thead>\n",
       "    <tr style=\"text-align: right;\">\n",
       "      <th></th>\n",
       "      <th>Unnamed: 0</th>\n",
       "      <th>ID</th>\n",
       "      <th>Age</th>\n",
       "      <th>Education</th>\n",
       "      <th>Marital_Status</th>\n",
       "      <th>Income</th>\n",
       "      <th>Kidhome</th>\n",
       "      <th>Teenhome</th>\n",
       "      <th>Duration_Customer</th>\n",
       "      <th>Frequency</th>\n",
       "      <th>...</th>\n",
       "      <th>Store</th>\n",
       "      <th>Web_visit</th>\n",
       "      <th>Campaign 1</th>\n",
       "      <th>Campaign 2</th>\n",
       "      <th>Campaign 3</th>\n",
       "      <th>Campaign 4</th>\n",
       "      <th>Campaign 5</th>\n",
       "      <th>Complain</th>\n",
       "      <th>Response</th>\n",
       "      <th>Income_Class</th>\n",
       "    </tr>\n",
       "  </thead>\n",
       "  <tbody>\n",
       "    <tr>\n",
       "      <th>0</th>\n",
       "      <td>0</td>\n",
       "      <td>5524</td>\n",
       "      <td>66</td>\n",
       "      <td>1</td>\n",
       "      <td>0</td>\n",
       "      <td>58138.0</td>\n",
       "      <td>0</td>\n",
       "      <td>0</td>\n",
       "      <td>3850</td>\n",
       "      <td>32</td>\n",
       "      <td>...</td>\n",
       "      <td>4</td>\n",
       "      <td>7</td>\n",
       "      <td>0</td>\n",
       "      <td>0</td>\n",
       "      <td>0</td>\n",
       "      <td>0</td>\n",
       "      <td>0</td>\n",
       "      <td>0</td>\n",
       "      <td>1</td>\n",
       "      <td>2</td>\n",
       "    </tr>\n",
       "    <tr>\n",
       "      <th>1</th>\n",
       "      <td>1</td>\n",
       "      <td>2174</td>\n",
       "      <td>69</td>\n",
       "      <td>1</td>\n",
       "      <td>0</td>\n",
       "      <td>46344.0</td>\n",
       "      <td>1</td>\n",
       "      <td>1</td>\n",
       "      <td>3300</td>\n",
       "      <td>11</td>\n",
       "      <td>...</td>\n",
       "      <td>2</td>\n",
       "      <td>5</td>\n",
       "      <td>0</td>\n",
       "      <td>0</td>\n",
       "      <td>0</td>\n",
       "      <td>0</td>\n",
       "      <td>0</td>\n",
       "      <td>0</td>\n",
       "      <td>0</td>\n",
       "      <td>1</td>\n",
       "    </tr>\n",
       "    <tr>\n",
       "      <th>2</th>\n",
       "      <td>2</td>\n",
       "      <td>4141</td>\n",
       "      <td>58</td>\n",
       "      <td>1</td>\n",
       "      <td>1</td>\n",
       "      <td>71613.0</td>\n",
       "      <td>0</td>\n",
       "      <td>0</td>\n",
       "      <td>3499</td>\n",
       "      <td>25</td>\n",
       "      <td>...</td>\n",
       "      <td>10</td>\n",
       "      <td>4</td>\n",
       "      <td>0</td>\n",
       "      <td>0</td>\n",
       "      <td>0</td>\n",
       "      <td>0</td>\n",
       "      <td>0</td>\n",
       "      <td>0</td>\n",
       "      <td>0</td>\n",
       "      <td>3</td>\n",
       "    </tr>\n",
       "    <tr>\n",
       "      <th>3</th>\n",
       "      <td>3</td>\n",
       "      <td>6182</td>\n",
       "      <td>39</td>\n",
       "      <td>1</td>\n",
       "      <td>1</td>\n",
       "      <td>26646.0</td>\n",
       "      <td>1</td>\n",
       "      <td>0</td>\n",
       "      <td>3326</td>\n",
       "      <td>14</td>\n",
       "      <td>...</td>\n",
       "      <td>4</td>\n",
       "      <td>6</td>\n",
       "      <td>0</td>\n",
       "      <td>0</td>\n",
       "      <td>0</td>\n",
       "      <td>0</td>\n",
       "      <td>0</td>\n",
       "      <td>0</td>\n",
       "      <td>0</td>\n",
       "      <td>0</td>\n",
       "    </tr>\n",
       "    <tr>\n",
       "      <th>4</th>\n",
       "      <td>4</td>\n",
       "      <td>5324</td>\n",
       "      <td>42</td>\n",
       "      <td>3</td>\n",
       "      <td>1</td>\n",
       "      <td>58293.0</td>\n",
       "      <td>1</td>\n",
       "      <td>0</td>\n",
       "      <td>3348</td>\n",
       "      <td>24</td>\n",
       "      <td>...</td>\n",
       "      <td>6</td>\n",
       "      <td>5</td>\n",
       "      <td>0</td>\n",
       "      <td>0</td>\n",
       "      <td>0</td>\n",
       "      <td>0</td>\n",
       "      <td>0</td>\n",
       "      <td>0</td>\n",
       "      <td>0</td>\n",
       "      <td>2</td>\n",
       "    </tr>\n",
       "    <tr>\n",
       "      <th>...</th>\n",
       "      <td>...</td>\n",
       "      <td>...</td>\n",
       "      <td>...</td>\n",
       "      <td>...</td>\n",
       "      <td>...</td>\n",
       "      <td>...</td>\n",
       "      <td>...</td>\n",
       "      <td>...</td>\n",
       "      <td>...</td>\n",
       "      <td>...</td>\n",
       "      <td>...</td>\n",
       "      <td>...</td>\n",
       "      <td>...</td>\n",
       "      <td>...</td>\n",
       "      <td>...</td>\n",
       "      <td>...</td>\n",
       "      <td>...</td>\n",
       "      <td>...</td>\n",
       "      <td>...</td>\n",
       "      <td>...</td>\n",
       "      <td>...</td>\n",
       "    </tr>\n",
       "    <tr>\n",
       "      <th>2207</th>\n",
       "      <td>2235</td>\n",
       "      <td>10870</td>\n",
       "      <td>56</td>\n",
       "      <td>1</td>\n",
       "      <td>1</td>\n",
       "      <td>61223.0</td>\n",
       "      <td>0</td>\n",
       "      <td>1</td>\n",
       "      <td>3568</td>\n",
       "      <td>23</td>\n",
       "      <td>...</td>\n",
       "      <td>4</td>\n",
       "      <td>5</td>\n",
       "      <td>0</td>\n",
       "      <td>0</td>\n",
       "      <td>0</td>\n",
       "      <td>0</td>\n",
       "      <td>0</td>\n",
       "      <td>0</td>\n",
       "      <td>0</td>\n",
       "      <td>2</td>\n",
       "    </tr>\n",
       "    <tr>\n",
       "      <th>2208</th>\n",
       "      <td>2236</td>\n",
       "      <td>4001</td>\n",
       "      <td>77</td>\n",
       "      <td>3</td>\n",
       "      <td>1</td>\n",
       "      <td>64014.0</td>\n",
       "      <td>2</td>\n",
       "      <td>1</td>\n",
       "      <td>3206</td>\n",
       "      <td>29</td>\n",
       "      <td>...</td>\n",
       "      <td>5</td>\n",
       "      <td>7</td>\n",
       "      <td>1</td>\n",
       "      <td>0</td>\n",
       "      <td>0</td>\n",
       "      <td>0</td>\n",
       "      <td>0</td>\n",
       "      <td>0</td>\n",
       "      <td>0</td>\n",
       "      <td>2</td>\n",
       "    </tr>\n",
       "    <tr>\n",
       "      <th>2209</th>\n",
       "      <td>2237</td>\n",
       "      <td>7270</td>\n",
       "      <td>42</td>\n",
       "      <td>1</td>\n",
       "      <td>0</td>\n",
       "      <td>56981.0</td>\n",
       "      <td>0</td>\n",
       "      <td>0</td>\n",
       "      <td>3342</td>\n",
       "      <td>25</td>\n",
       "      <td>...</td>\n",
       "      <td>13</td>\n",
       "      <td>6</td>\n",
       "      <td>0</td>\n",
       "      <td>0</td>\n",
       "      <td>0</td>\n",
       "      <td>1</td>\n",
       "      <td>0</td>\n",
       "      <td>0</td>\n",
       "      <td>0</td>\n",
       "      <td>2</td>\n",
       "    </tr>\n",
       "    <tr>\n",
       "      <th>2210</th>\n",
       "      <td>2238</td>\n",
       "      <td>8235</td>\n",
       "      <td>67</td>\n",
       "      <td>2</td>\n",
       "      <td>1</td>\n",
       "      <td>69245.0</td>\n",
       "      <td>0</td>\n",
       "      <td>1</td>\n",
       "      <td>3343</td>\n",
       "      <td>26</td>\n",
       "      <td>...</td>\n",
       "      <td>10</td>\n",
       "      <td>3</td>\n",
       "      <td>0</td>\n",
       "      <td>0</td>\n",
       "      <td>0</td>\n",
       "      <td>0</td>\n",
       "      <td>0</td>\n",
       "      <td>0</td>\n",
       "      <td>0</td>\n",
       "      <td>3</td>\n",
       "    </tr>\n",
       "    <tr>\n",
       "      <th>2211</th>\n",
       "      <td>2239</td>\n",
       "      <td>9405</td>\n",
       "      <td>69</td>\n",
       "      <td>3</td>\n",
       "      <td>1</td>\n",
       "      <td>52869.0</td>\n",
       "      <td>1</td>\n",
       "      <td>1</td>\n",
       "      <td>3809</td>\n",
       "      <td>18</td>\n",
       "      <td>...</td>\n",
       "      <td>4</td>\n",
       "      <td>7</td>\n",
       "      <td>0</td>\n",
       "      <td>0</td>\n",
       "      <td>0</td>\n",
       "      <td>0</td>\n",
       "      <td>0</td>\n",
       "      <td>0</td>\n",
       "      <td>1</td>\n",
       "      <td>2</td>\n",
       "    </tr>\n",
       "  </tbody>\n",
       "</table>\n",
       "<p>2212 rows × 31 columns</p>\n",
       "</div>"
      ],
      "text/plain": [
       "      Unnamed: 0     ID  Age  Education  Marital_Status   Income  Kidhome  \\\n",
       "0              0   5524   66          1               0  58138.0        0   \n",
       "1              1   2174   69          1               0  46344.0        1   \n",
       "2              2   4141   58          1               1  71613.0        0   \n",
       "3              3   6182   39          1               1  26646.0        1   \n",
       "4              4   5324   42          3               1  58293.0        1   \n",
       "...          ...    ...  ...        ...             ...      ...      ...   \n",
       "2207        2235  10870   56          1               1  61223.0        0   \n",
       "2208        2236   4001   77          3               1  64014.0        2   \n",
       "2209        2237   7270   42          1               0  56981.0        0   \n",
       "2210        2238   8235   67          2               1  69245.0        0   \n",
       "2211        2239   9405   69          3               1  52869.0        1   \n",
       "\n",
       "      Teenhome  Duration_Customer  Frequency  ...  Store  Web_visit  \\\n",
       "0            0               3850         32  ...      4          7   \n",
       "1            1               3300         11  ...      2          5   \n",
       "2            0               3499         25  ...     10          4   \n",
       "3            0               3326         14  ...      4          6   \n",
       "4            0               3348         24  ...      6          5   \n",
       "...        ...                ...        ...  ...    ...        ...   \n",
       "2207         1               3568         23  ...      4          5   \n",
       "2208         1               3206         29  ...      5          7   \n",
       "2209         0               3342         25  ...     13          6   \n",
       "2210         1               3343         26  ...     10          3   \n",
       "2211         1               3809         18  ...      4          7   \n",
       "\n",
       "      Campaign 1  Campaign 2  Campaign 3  Campaign 4  Campaign 5  Complain  \\\n",
       "0              0           0           0           0           0         0   \n",
       "1              0           0           0           0           0         0   \n",
       "2              0           0           0           0           0         0   \n",
       "3              0           0           0           0           0         0   \n",
       "4              0           0           0           0           0         0   \n",
       "...          ...         ...         ...         ...         ...       ...   \n",
       "2207           0           0           0           0           0         0   \n",
       "2208           1           0           0           0           0         0   \n",
       "2209           0           0           0           1           0         0   \n",
       "2210           0           0           0           0           0         0   \n",
       "2211           0           0           0           0           0         0   \n",
       "\n",
       "      Response  Income_Class  \n",
       "0            1             2  \n",
       "1            0             1  \n",
       "2            0             3  \n",
       "3            0             0  \n",
       "4            0             2  \n",
       "...        ...           ...  \n",
       "2207         0             2  \n",
       "2208         0             2  \n",
       "2209         0             2  \n",
       "2210         0             3  \n",
       "2211         1             2  \n",
       "\n",
       "[2212 rows x 31 columns]"
      ]
     },
     "execution_count": 5,
     "metadata": {},
     "output_type": "execute_result"
    }
   ],
   "source": [
    "data"
   ]
  },
  {
   "cell_type": "markdown",
   "metadata": {
    "id": "DYxAtwYP8Hau"
   },
   "source": [
    "# Other Features"
   ]
  },
  {
   "cell_type": "code",
   "execution_count": 123,
   "metadata": {
    "id": "B4me8YN28LVL"
   },
   "outputs": [],
   "source": [
    "data['Wines_Cluster'] = data_wines['Cluster']\n",
    "data['Fruits_Cluster'] = data_fruits['Cluster']\n",
    "data['Meat_Cluster'] = data_meat['Cluster']\n",
    "data['Fish_Cluster'] = data_fish['Cluster']\n",
    "data['Sweets_Cluster'] = data_sweets['Cluster']\n",
    "data['Gold_Cluster'] = data_gold['Cluster']"
   ]
  },
  {
   "cell_type": "markdown",
   "metadata": {
    "id": "kWYQQXrr_S61"
   },
   "source": [
    "Wines best cluster: 2, 3\n",
    "\n",
    "Fruits best cluster: 0\n",
    "\n",
    "Meat best cluster: 0\n",
    "\n",
    "Fish best cluster: 2\n",
    "\n",
    "Wines best cluster: 2\n",
    "\n",
    "Wines best cluster: 0"
   ]
  },
  {
   "cell_type": "markdown",
   "metadata": {
    "id": "PHPskFRGBkzX"
   },
   "source": [
    "## Discount"
   ]
  },
  {
   "cell_type": "markdown",
   "metadata": {
    "id": "UOH8MlnKBkzX"
   },
   "source": [
    "### Wines"
   ]
  },
  {
   "cell_type": "code",
   "execution_count": 124,
   "metadata": {
    "id": "SwRdWfRHBkzY"
   },
   "outputs": [
    {
     "data": {
      "text/plain": [
       "<matplotlib.legend.Legend at 0x12a81d1a7a0>"
      ]
     },
     "execution_count": 124,
     "metadata": {},
     "output_type": "execute_result"
    },
    {
     "data": {
      "image/png": "[encoded data removed]",
      "text/plain": [
       "<Figure size 1080x720 with 1 Axes>"
      ]
     },
     "metadata": {
      "needs_background": "light"
     },
     "output_type": "display_data"
    }
   ],
   "source": [
    "plt.figure(figsize = (15, 10))\n",
    "\n",
    "sns.countplot(data = data, x = 'Discount', hue = 'Wines_Cluster')\n",
    "plt.title('Wines potential customer discount participation distribution (cluster)')\n",
    "plt.legend(loc = 'upper right')"
   ]
  },
  {
   "cell_type": "markdown",
   "metadata": {
    "id": "6UlT2SpNBkzY"
   },
   "source": [
    "### Fruits"
   ]
  },
  {
   "cell_type": "code",
   "execution_count": 125,
   "metadata": {
    "id": "E_MBL6X5BkzY"
   },
   "outputs": [
    {
     "data": {
      "text/plain": [
       "<matplotlib.legend.Legend at 0x12a83019360>"
      ]
     },
     "execution_count": 125,
     "metadata": {},
     "output_type": "execute_result"
    },
    {
     "data": {
      "image/png": "[encoded data removed]",
      "text/plain": [
       "<Figure size 1080x720 with 1 Axes>"
      ]
     },
     "metadata": {
      "needs_background": "light"
     },
     "output_type": "display_data"
    }
   ],
   "source": [
    "plt.figure(figsize = (15, 10))\n",
    "\n",
    "sns.countplot(data = data, x = 'Discount', hue = 'Fruits_Cluster')\n",
    "plt.title('Fruits potential customer discount participation distribution (cluster)')\n",
    "plt.legend(loc = 'upper right')"
   ]
  },
  {
   "cell_type": "markdown",
   "metadata": {
    "id": "tU4ejJwzBkzY"
   },
   "source": [
    "### Meat"
   ]
  },
  {
   "cell_type": "code",
   "execution_count": 126,
   "metadata": {
    "id": "Vm7lY_8rBkzY"
   },
   "outputs": [
    {
     "data": {
      "text/plain": [
       "<matplotlib.legend.Legend at 0x12af97d0430>"
      ]
     },
     "execution_count": 126,
     "metadata": {},
     "output_type": "execute_result"
    },
    {
     "data": {
      "image/png": "[encoded data removed]",
      "text/plain": [
       "<Figure size 1080x720 with 1 Axes>"
      ]
     },
     "metadata": {
      "needs_background": "light"
     },
     "output_type": "display_data"
    }
   ],
   "source": [
    "plt.figure(figsize = (15, 10))\n",
    "\n",
    "sns.countplot(data = data, x = 'Discount', hue = 'Meat_Cluster')\n",
    "plt.title('Meat potential customer discount participation distribution (cluster)')\n",
    "plt.legend(loc = 'upper right')"
   ]
  },
  {
   "cell_type": "markdown",
   "metadata": {
    "id": "E7fygXyMBkzY"
   },
   "source": [
    "### Fish"
   ]
  },
  {
   "cell_type": "code",
   "execution_count": 127,
   "metadata": {
    "id": "Ywd6UGu5BkzY"
   },
   "outputs": [
    {
     "data": {
      "text/plain": [
       "<matplotlib.legend.Legend at 0x12a83237a30>"
      ]
     },
     "execution_count": 127,
     "metadata": {},
     "output_type": "execute_result"
    },
    {
     "data": {
      "image/png": "[encoded data removed]",
      "text/plain": [
       "<Figure size 1080x720 with 1 Axes>"
      ]
     },
     "metadata": {
      "needs_background": "light"
     },
     "output_type": "display_data"
    }
   ],
   "source": [
    "plt.figure(figsize = (15, 10))\n",
    "\n",
    "sns.countplot(data = data, x = 'Discount', hue = 'Fish_Cluster')\n",
    "plt.title('Fish potential customer discount participation distribution (cluster)')\n",
    "plt.legend(loc = 'upper right')"
   ]
  },
  {
   "cell_type": "markdown",
   "metadata": {
    "id": "J5RZ0idwBkzY"
   },
   "source": [
    "### Sweets"
   ]
  },
  {
   "cell_type": "code",
   "execution_count": 128,
   "metadata": {
    "id": "m0eHDYC1BkzZ"
   },
   "outputs": [
    {
     "data": {
      "text/plain": [
       "<matplotlib.legend.Legend at 0x12a83458040>"
      ]
     },
     "execution_count": 128,
     "metadata": {},
     "output_type": "execute_result"
    },
    {
     "data": {
      "image/png": "[encoded data removed]",
      "text/plain": [
       "<Figure size 1080x720 with 1 Axes>"
      ]
     },
     "metadata": {
      "needs_background": "light"
     },
     "output_type": "display_data"
    }
   ],
   "source": [
    "plt.figure(figsize = (15, 10))\n",
    "\n",
    "sns.countplot(data = data, x = 'Discount', hue = 'Sweets_Cluster')\n",
    "plt.title('Sweets potential customer discount participation distribution (cluster)')\n",
    "plt.legend(loc = 'upper right')"
   ]
  },
  {
   "cell_type": "markdown",
   "metadata": {
    "id": "pZHQfngVBkzZ"
   },
   "source": [
    "### Gold"
   ]
  },
  {
   "cell_type": "code",
   "execution_count": 129,
   "metadata": {
    "id": "bVmBkmcMBkzZ"
   },
   "outputs": [
    {
     "data": {
      "text/plain": [
       "<matplotlib.legend.Legend at 0x12a83c668c0>"
      ]
     },
     "execution_count": 129,
     "metadata": {},
     "output_type": "execute_result"
    },
    {
     "data": {
      "image/png": "[encoded data removed]",
      "text/plain": [
       "<Figure size 1080x720 with 1 Axes>"
      ]
     },
     "metadata": {
      "needs_background": "light"
     },
     "output_type": "display_data"
    }
   ],
   "source": [
    "plt.figure(figsize = (15, 10))\n",
    "\n",
    "sns.countplot(data = data, x = 'Discount', hue = 'Gold_Cluster')\n",
    "plt.title('Gold potential customer discount participation distribution (cluster)')\n",
    "plt.legend(loc = 'upper right')"
   ]
  },
  {
   "cell_type": "markdown",
   "metadata": {
    "id": "VRWMUtcH_s7K"
   },
   "source": [
    "## Media"
   ]
  },
  {
   "cell_type": "markdown",
   "metadata": {
    "id": "W0BRaGKt40Lj"
   },
   "source": [
    "We will see potential buyers' media preference on buying products by counting the percentage of customers who use certain media more than once."
   ]
  },
  {
   "cell_type": "markdown",
   "metadata": {
    "id": "9MDkRA8WA7d8"
   },
   "source": [
    "### Wines"
   ]
  },
  {
   "cell_type": "code",
   "execution_count": 130,
   "metadata": {
    "id": "WSz8fGMR_uDD"
   },
   "outputs": [
    {
     "data": {
      "text/plain": [
       "91.85667752442997"
      ]
     },
     "execution_count": 130,
     "metadata": {},
     "output_type": "execute_result"
    }
   ],
   "source": [
    "# Web\n",
    "\n",
    "100 * len(data[(data['Wines_Cluster'] == 2) |\n",
    "               (data['Wines_Cluster'] == 3) & \n",
    "               (data['Web'] > 1)]) / len(data[(data['Wines_Cluster'] == 2) | \n",
    "                                              (data['Wines_Cluster'] == 3)])"
   ]
  },
  {
   "cell_type": "code",
   "execution_count": 131,
   "metadata": {
    "id": "a2ZKNZhU3P6o"
   },
   "outputs": [
    {
     "data": {
      "text/plain": [
       "77.85016286644951"
      ]
     },
     "execution_count": 131,
     "metadata": {},
     "output_type": "execute_result"
    }
   ],
   "source": [
    "# Catalogue\n",
    "\n",
    "100 * len(data[(data['Wines_Cluster'] == 2) | \n",
    "               (data['Wines_Cluster'] == 3) & \n",
    "               (data['Catalog'] > 1)]) / len(data[(data['Wines_Cluster'] == 2) | \n",
    "                                                  (data['Wines_Cluster'] == 3)])"
   ]
  },
  {
   "cell_type": "code",
   "execution_count": 132,
   "metadata": {
    "id": "TEIk3_5k3fBk"
   },
   "outputs": [
    {
     "data": {
      "text/plain": [
       "99.6742671009772"
      ]
     },
     "execution_count": 132,
     "metadata": {},
     "output_type": "execute_result"
    }
   ],
   "source": [
    "# Store\n",
    "\n",
    "100 * len(data[(data['Wines_Cluster'] == 2) | \n",
    "               (data['Wines_Cluster'] == 3) & \n",
    "               (data['Store'] > 1)]) / len(data[(data['Wines_Cluster'] == 2) | \n",
    "                                                (data['Wines_Cluster'] == 3)])"
   ]
  },
  {
   "cell_type": "markdown",
   "metadata": {
    "id": "n9cdYOgjA-Z7"
   },
   "source": [
    "### Fruits"
   ]
  },
  {
   "cell_type": "code",
   "execution_count": 133,
   "metadata": {
    "id": "XoEVkmzwA-Z8"
   },
   "outputs": [
    {
     "data": {
      "text/plain": [
       "81.53078202995009"
      ]
     },
     "execution_count": 133,
     "metadata": {},
     "output_type": "execute_result"
    }
   ],
   "source": [
    "# Web\n",
    "\n",
    "100 * len(data[(data['Fruits_Cluster'] == 0) & \n",
    "               (data['Web'] > 1)]) / len(data[(data['Fruits_Cluster'] == 0)])"
   ]
  },
  {
   "cell_type": "code",
   "execution_count": 134,
   "metadata": {
    "id": "aIZ-IKZX4vDK"
   },
   "outputs": [
    {
     "data": {
      "text/plain": [
       "52.24625623960067"
      ]
     },
     "execution_count": 134,
     "metadata": {},
     "output_type": "execute_result"
    }
   ],
   "source": [
    "# Catalogue\n",
    "\n",
    "100 * len(data[(data['Fruits_Cluster'] == 0) &\n",
    "               (data['Catalog'] > 1)]) / len(data[(data['Fruits_Cluster'] == 0)])"
   ]
  },
  {
   "cell_type": "code",
   "execution_count": 135,
   "metadata": {
    "id": "NX7yR7l85KUV"
   },
   "outputs": [
    {
     "data": {
      "text/plain": [
       "99.00166389351081"
      ]
     },
     "execution_count": 135,
     "metadata": {},
     "output_type": "execute_result"
    }
   ],
   "source": [
    "# Store\n",
    "\n",
    "100 * len(data[(data['Fruits_Cluster'] == 0) & \n",
    "               (data['Store'] > 1)]) / len(data[(data['Fruits_Cluster'] == 0)])"
   ]
  },
  {
   "cell_type": "markdown",
   "metadata": {
    "id": "saGOuhBOA-lg"
   },
   "source": [
    "### Meat"
   ]
  },
  {
   "cell_type": "code",
   "execution_count": 136,
   "metadata": {
    "id": "-TCuF2ZY5Sux"
   },
   "outputs": [
    {
     "data": {
      "text/plain": [
       "82.0"
      ]
     },
     "execution_count": 136,
     "metadata": {},
     "output_type": "execute_result"
    }
   ],
   "source": [
    "# Web\n",
    "\n",
    "100*len(data[(data['Meat_Cluster'] == 0) & \n",
    "             (data['Web'] > 1)])/len(data[(data['Meat_Cluster'] == 0)])"
   ]
  },
  {
   "cell_type": "code",
   "execution_count": 137,
   "metadata": {
    "id": "GlZ5Sq3f5S0-"
   },
   "outputs": [
    {
     "data": {
      "text/plain": [
       "51.6"
      ]
     },
     "execution_count": 137,
     "metadata": {},
     "output_type": "execute_result"
    }
   ],
   "source": [
    "# Catalogue\n",
    "\n",
    "100 * len(data[(data['Meat_Cluster'] == 0) & \n",
    "               (data['Catalog'] > 1)]) / len(data[(data['Meat_Cluster'] == 0)])"
   ]
  },
  {
   "cell_type": "code",
   "execution_count": 138,
   "metadata": {
    "id": "gUTAnzdZA-lg"
   },
   "outputs": [
    {
     "data": {
      "text/plain": [
       "98.8"
      ]
     },
     "execution_count": 138,
     "metadata": {},
     "output_type": "execute_result"
    }
   ],
   "source": [
    "# Store\n",
    "\n",
    "100 * len(data[(data['Meat_Cluster'] == 0) & \n",
    "               (data['Store'] > 1)]) / len(data[(data['Meat_Cluster'] == 0)])"
   ]
  },
  {
   "cell_type": "markdown",
   "metadata": {
    "id": "UNOhgVRiA-vq"
   },
   "source": [
    "### Fish"
   ]
  },
  {
   "cell_type": "code",
   "execution_count": 139,
   "metadata": {
    "id": "CAngTNSrA-vr"
   },
   "outputs": [
    {
     "data": {
      "text/plain": [
       "82.57887517146776"
      ]
     },
     "execution_count": 139,
     "metadata": {},
     "output_type": "execute_result"
    }
   ],
   "source": [
    "# Web\n",
    "\n",
    "100*len(data[(data['Fish_Cluster'] == 2) & \n",
    "             (data['Web'] > 1)]) / len(data[(data['Fish_Cluster'] == 2)])"
   ]
  },
  {
   "cell_type": "code",
   "execution_count": 140,
   "metadata": {
    "id": "8WxJeiO_54uL"
   },
   "outputs": [
    {
     "data": {
      "text/plain": [
       "51.851851851851855"
      ]
     },
     "execution_count": 140,
     "metadata": {},
     "output_type": "execute_result"
    }
   ],
   "source": [
    "# Catalogue\n",
    "\n",
    "100 * len(data[(data['Fish_Cluster'] == 2) & \n",
    "               (data['Catalog'] > 1)]) / len(data[(data['Fish_Cluster'] == 2)])"
   ]
  },
  {
   "cell_type": "code",
   "execution_count": 141,
   "metadata": {
    "id": "jeshLw_p55Ev"
   },
   "outputs": [
    {
     "data": {
      "text/plain": [
       "98.90260631001372"
      ]
     },
     "execution_count": 141,
     "metadata": {},
     "output_type": "execute_result"
    }
   ],
   "source": [
    "# Store\n",
    "\n",
    "100 * len(data[(data['Fish_Cluster'] == 2) & \n",
    "               (data['Store'] > 1)]) / len(data[(data['Fish_Cluster'] == 2)])"
   ]
  },
  {
   "cell_type": "markdown",
   "metadata": {
    "id": "6DSa7VihA-yh"
   },
   "source": [
    "### Sweets"
   ]
  },
  {
   "cell_type": "code",
   "execution_count": 142,
   "metadata": {
    "id": "GN98ymv3A-yh"
   },
   "outputs": [
    {
     "data": {
      "text/plain": [
       "82.37986270022883"
      ]
     },
     "execution_count": 142,
     "metadata": {},
     "output_type": "execute_result"
    }
   ],
   "source": [
    "# Web\n",
    "\n",
    "100 * len(data[(data['Sweets_Cluster'] == 2) & \n",
    "               (data['Web'] > 1)]) / len(data[(data['Sweets_Cluster'] == 2)])"
   ]
  },
  {
   "cell_type": "code",
   "execution_count": 143,
   "metadata": {
    "id": "lR-JLVqc6HDL"
   },
   "outputs": [
    {
     "data": {
      "text/plain": [
       "51.83066361556064"
      ]
     },
     "execution_count": 143,
     "metadata": {},
     "output_type": "execute_result"
    }
   ],
   "source": [
    "# Catalogue\n",
    "\n",
    "100 * len(data[(data['Sweets_Cluster'] == 2) & \n",
    "               (data['Catalog'] > 1)]) / len(data[(data['Sweets_Cluster'] == 2)])"
   ]
  },
  {
   "cell_type": "code",
   "execution_count": 144,
   "metadata": {
    "id": "htm1qAZy6HSC"
   },
   "outputs": [
    {
     "data": {
      "text/plain": [
       "99.08466819221968"
      ]
     },
     "execution_count": 144,
     "metadata": {},
     "output_type": "execute_result"
    }
   ],
   "source": [
    "# Store\n",
    "\n",
    "100 * len(data[(data['Sweets_Cluster'] == 2) & \n",
    "               (data['Store'] > 1)]) / len(data[(data['Sweets_Cluster'] == 2)])"
   ]
  },
  {
   "cell_type": "markdown",
   "metadata": {
    "id": "QCdXtwNoA-7L"
   },
   "source": [
    "### Gold"
   ]
  },
  {
   "cell_type": "code",
   "execution_count": 145,
   "metadata": {
    "id": "zMndy5P2A-7L"
   },
   "outputs": [
    {
     "data": {
      "text/plain": [
       "82.82442748091603"
      ]
     },
     "execution_count": 145,
     "metadata": {},
     "output_type": "execute_result"
    }
   ],
   "source": [
    "# Web\n",
    "\n",
    "100 * len(data[(data['Gold_Cluster'] == 0) & \n",
    "               (data['Web'] > 1)]) / len(data[(data['Gold_Cluster'] == 0)])"
   ]
  },
  {
   "cell_type": "code",
   "execution_count": 146,
   "metadata": {
    "id": "AiFT-TuS6OLH"
   },
   "outputs": [
    {
     "data": {
      "text/plain": [
       "51.52671755725191"
      ]
     },
     "execution_count": 146,
     "metadata": {},
     "output_type": "execute_result"
    }
   ],
   "source": [
    "# Catalogue\n",
    "\n",
    "100 * len(data[(data['Gold_Cluster'] == 0) & \n",
    "               (data['Catalog'] > 1)]) / len(data[(data['Gold_Cluster'] == 0)])"
   ]
  },
  {
   "cell_type": "code",
   "execution_count": 147,
   "metadata": {
    "id": "sP9VYRZY6Ofg"
   },
   "outputs": [
    {
     "data": {
      "text/plain": [
       "99.23664122137404"
      ]
     },
     "execution_count": 147,
     "metadata": {},
     "output_type": "execute_result"
    }
   ],
   "source": [
    "# Store\n",
    "\n",
    "100 * len(data[(data['Gold_Cluster'] == 0) & \n",
    "               (data['Store'] > 1)]) / len(data[(data['Gold_Cluster'] == 0)])"
   ]
  },
  {
   "cell_type": "markdown",
   "metadata": {
    "id": "ZVHQQ--o_M2Z"
   },
   "source": [
    "## Campaign"
   ]
  },
  {
   "cell_type": "code",
   "execution_count": 148,
   "metadata": {
    "id": "uOs6TMEf3if4"
   },
   "outputs": [
    {
     "data": {
      "text/plain": [
       "Campaign 1  Campaign 2  Campaign 3  Campaign 4  Campaign 5\n",
       "0           0           0           0           0             1754\n",
       "                        1           0           0              129\n",
       "                        0           1           0               83\n",
       "                                    0           1               57\n",
       "1           0           0           0           0               52\n",
       "0           0           0           1           1               24\n",
       "1           0           0           1           1               23\n",
       "                                    0           1               21\n",
       "                        1           0           1               13\n",
       "                        0           1           0               12\n",
       "                        1           0           0                8\n",
       "            1           0           1           1                8\n",
       "0           1           0           1           0                8\n",
       "            0           1           0           1                6\n",
       "            1           0           1           1                4\n",
       "1           1           1           0           1                3\n",
       "0           1           1           0           0                2\n",
       "1           1           0           1           0                2\n",
       "0           1           1           0           1                2\n",
       "                        0           0           0                1\n",
       "dtype: int64"
      ]
     },
     "execution_count": 148,
     "metadata": {},
     "output_type": "execute_result"
    }
   ],
   "source": [
    "data[['Campaign 1', 'Campaign 2', 'Campaign 3', 'Campaign 4', 'Campaign 5']].value_counts()"
   ]
  },
  {
   "cell_type": "code",
   "execution_count": 149,
   "metadata": {
    "id": "Zx_oHjEw3kSQ"
   },
   "outputs": [
    {
     "data": {
      "text/plain": [
       "2212"
      ]
     },
     "execution_count": 149,
     "metadata": {},
     "output_type": "execute_result"
    }
   ],
   "source": [
    "len(data)"
   ]
  },
  {
   "cell_type": "markdown",
   "metadata": {
    "id": "qU8eCQsDAzeJ"
   },
   "source": [
    "### Wines"
   ]
  },
  {
   "cell_type": "code",
   "execution_count": 150,
   "metadata": {
    "id": "MOZshrR19q2H"
   },
   "outputs": [
    {
     "data": {
      "text/plain": [
       "Campaign 1  Campaign 2  Campaign 3  Campaign 4  Campaign 5\n",
       "0           0           0           0           0             731\n",
       "                        1           0           0              53\n",
       "                        0           1           0              38\n",
       "                                    0           1              24\n",
       "1           0           0           0           0              21\n",
       "                                    1           1              10\n",
       "0           0           0           1           1               9\n",
       "1           0           0           0           1               6\n",
       "                                    1           0               6\n",
       "                        1           0           1               6\n",
       "0           1           0           1           0               5\n",
       "            0           1           0           1               3\n",
       "            1           0           1           1               3\n",
       "1           0           1           0           0               3\n",
       "            1           0           1           1               2\n",
       "                        1           0           1               1\n",
       "dtype: int64"
      ]
     },
     "execution_count": 150,
     "metadata": {},
     "output_type": "execute_result"
    }
   ],
   "source": [
    "data[(data['Wines_Cluster'] == 2) | (data['Wines_Cluster'] == 3)][['Campaign 1', 'Campaign 2', 'Campaign 3', 'Campaign 4', 'Campaign 5']].value_counts()"
   ]
  },
  {
   "cell_type": "code",
   "execution_count": 151,
   "metadata": {
    "id": "npeIKjJR0VYU"
   },
   "outputs": [
    {
     "data": {
      "text/plain": [
       "921"
      ]
     },
     "execution_count": 151,
     "metadata": {},
     "output_type": "execute_result"
    }
   ],
   "source": [
    "len(data[(data['Wines_Cluster'] == 2) | (data['Wines_Cluster'] == 3)])"
   ]
  },
  {
   "cell_type": "markdown",
   "metadata": {
    "id": "xt-OrmEAA06v"
   },
   "source": [
    "### Fruits"
   ]
  },
  {
   "cell_type": "code",
   "execution_count": 152,
   "metadata": {
    "id": "LbTeggYD_YL2"
   },
   "outputs": [
    {
     "data": {
      "text/plain": [
       "Campaign 1  Campaign 2  Campaign 3  Campaign 4  Campaign 5\n",
       "0           0           0           0           0             462\n",
       "                        1           0           0              40\n",
       "                        0           1           0              29\n",
       "                                    0           1              19\n",
       "1           0           0           0           0              14\n",
       "                                                1               7\n",
       "0           0           0           1           1               6\n",
       "1           0           0           1           1               6\n",
       "                        1           0           1               5\n",
       "                                                0               3\n",
       "0           0           1           0           1               2\n",
       "1           1           0           1           1               2\n",
       "            0           0           1           0               2\n",
       "0           1           1           0           0               1\n",
       "                        0           1           1               1\n",
       "                                                0               1\n",
       "1           1           1           0           1               1\n",
       "dtype: int64"
      ]
     },
     "execution_count": 152,
     "metadata": {},
     "output_type": "execute_result"
    }
   ],
   "source": [
    "data[(data['Fruits_Cluster'] == 0)][['Campaign 1', 'Campaign 2', 'Campaign 3', 'Campaign 4', 'Campaign 5']].value_counts()"
   ]
  },
  {
   "cell_type": "code",
   "execution_count": 153,
   "metadata": {
    "id": "W6GrAT6X0bmI"
   },
   "outputs": [
    {
     "data": {
      "text/plain": [
       "601"
      ]
     },
     "execution_count": 153,
     "metadata": {},
     "output_type": "execute_result"
    }
   ],
   "source": [
    "len(data[(data['Fruits_Cluster'] == 0)])"
   ]
  },
  {
   "cell_type": "markdown",
   "metadata": {
    "id": "ha41iqXyA2fG"
   },
   "source": [
    "### Meat"
   ]
  },
  {
   "cell_type": "code",
   "execution_count": 154,
   "metadata": {
    "id": "aVCgtDBa_YpR"
   },
   "outputs": [
    {
     "data": {
      "text/plain": [
       "Campaign 1  Campaign 2  Campaign 3  Campaign 4  Campaign 5\n",
       "0           0           0           0           0             391\n",
       "                        1           0           0              31\n",
       "                        0           1           0              18\n",
       "1           0           0           0           0              14\n",
       "0           0           0           0           1              13\n",
       "                                    1           1               5\n",
       "1           0           1           0           1               5\n",
       "                        0           0           1               4\n",
       "                                    1           0               4\n",
       "                                                1               4\n",
       "0           1           0           1           0               3\n",
       "                                                1               3\n",
       "            0           1           0           1               2\n",
       "1           0           1           0           0               1\n",
       "            1           0           1           1               1\n",
       "                        1           0           1               1\n",
       "dtype: int64"
      ]
     },
     "execution_count": 154,
     "metadata": {},
     "output_type": "execute_result"
    }
   ],
   "source": [
    "data[(data['Meat_Cluster'] == 0)][['Campaign 1', 'Campaign 2', 'Campaign 3', 'Campaign 4', 'Campaign 5']].value_counts()"
   ]
  },
  {
   "cell_type": "code",
   "execution_count": 155,
   "metadata": {
    "id": "Wv7VBO4M3xo9"
   },
   "outputs": [
    {
     "data": {
      "text/plain": [
       "500"
      ]
     },
     "execution_count": 155,
     "metadata": {},
     "output_type": "execute_result"
    }
   ],
   "source": [
    "len(data[(data['Meat_Cluster'] == 0)])"
   ]
  },
  {
   "cell_type": "markdown",
   "metadata": {
    "id": "--YlWwC9A3fU"
   },
   "source": [
    "### Fish"
   ]
  },
  {
   "cell_type": "code",
   "execution_count": 156,
   "metadata": {
    "id": "Sln3fMO9_Y2L"
   },
   "outputs": [
    {
     "data": {
      "text/plain": [
       "Campaign 1  Campaign 2  Campaign 3  Campaign 4  Campaign 5\n",
       "0           0           0           0           0             580\n",
       "                        1           0           0              42\n",
       "                        0           1           0              24\n",
       "                                    0           1              20\n",
       "1           0           0           0           0              19\n",
       "                                                1               7\n",
       "                                    1           1               6\n",
       "0           0           0           1           1               6\n",
       "1           0           1           0           1               6\n",
       "                        0           1           0               5\n",
       "0           1           0           1           0               4\n",
       "                                                1               3\n",
       "1           1           1           0           1               2\n",
       "0           0           1           0           1               2\n",
       "1           0           1           0           0               1\n",
       "            1           0           1           1               1\n",
       "0           1           1           0           1               1\n",
       "dtype: int64"
      ]
     },
     "execution_count": 156,
     "metadata": {},
     "output_type": "execute_result"
    }
   ],
   "source": [
    "data[(data['Fish_Cluster'] == 2)][['Campaign 1', 'Campaign 2', 'Campaign 3', 'Campaign 4', 'Campaign 5']].value_counts()"
   ]
  },
  {
   "cell_type": "code",
   "execution_count": 157,
   "metadata": {
    "id": "2WQnfhMh35EY"
   },
   "outputs": [
    {
     "data": {
      "text/plain": [
       "729"
      ]
     },
     "execution_count": 157,
     "metadata": {},
     "output_type": "execute_result"
    }
   ],
   "source": [
    "len(data[(data['Fish_Cluster'] == 2)])"
   ]
  },
  {
   "cell_type": "markdown",
   "metadata": {
    "id": "X8jJvKj6A4u2"
   },
   "source": [
    "### Sweets"
   ]
  },
  {
   "cell_type": "code",
   "execution_count": 158,
   "metadata": {
    "id": "Lnp1QEuu_ZFx"
   },
   "outputs": [
    {
     "data": {
      "text/plain": [
       "Campaign 1  Campaign 2  Campaign 3  Campaign 4  Campaign 5\n",
       "0           0           0           0           0             699\n",
       "                        1           0           0              49\n",
       "                        0           1           0              29\n",
       "                                    0           1              23\n",
       "1           0           0           0           0              22\n",
       "                                    1           1               8\n",
       "                                    0           1               8\n",
       "0           0           0           1           1               7\n",
       "1           0           1           0           1               7\n",
       "                        0           1           0               6\n",
       "0           1           0           1           0               4\n",
       "            0           1           0           1               3\n",
       "            1           0           1           1               3\n",
       "1           1           1           0           1               2\n",
       "            0           1           0           0               1\n",
       "0           1           1           0           0               1\n",
       "1           1           0           1           1               1\n",
       "0           1           1           0           1               1\n",
       "dtype: int64"
      ]
     },
     "execution_count": 158,
     "metadata": {},
     "output_type": "execute_result"
    }
   ],
   "source": [
    "data[(data['Sweets_Cluster'] == 2)][['Campaign 1', 'Campaign 2', 'Campaign 3', 'Campaign 4', 'Campaign 5']].value_counts()"
   ]
  },
  {
   "cell_type": "code",
   "execution_count": 159,
   "metadata": {
    "id": "l2fiwr1O3-w_"
   },
   "outputs": [
    {
     "data": {
      "text/plain": [
       "874"
      ]
     },
     "execution_count": 159,
     "metadata": {},
     "output_type": "execute_result"
    }
   ],
   "source": [
    "len(data[(data['Sweets_Cluster'] == 2)])"
   ]
  },
  {
   "cell_type": "markdown",
   "metadata": {
    "id": "UU-4bYbZA50J"
   },
   "source": [
    "### Gold"
   ]
  },
  {
   "cell_type": "code",
   "execution_count": 160,
   "metadata": {
    "id": "KinhvaXsAlpI"
   },
   "outputs": [
    {
     "data": {
      "text/plain": [
       "Campaign 1  Campaign 2  Campaign 3  Campaign 4  Campaign 5\n",
       "0           0           0           0           0             420\n",
       "                        1           0           0              26\n",
       "                        0           1           0              22\n",
       "                                    0           1              16\n",
       "1           0           0           0           0              10\n",
       "                                    1           1               7\n",
       "                                    0           1               5\n",
       "                        1           0           1               4\n",
       "0           0           0           1           1               3\n",
       "1           0           0           1           0               3\n",
       "0           1           0           1           0               2\n",
       "1           1           1           0           1               2\n",
       "0           0           1           0           1               1\n",
       "            1           1           0           0               1\n",
       "                                                1               1\n",
       "1           0           1           0           0               1\n",
       "dtype: int64"
      ]
     },
     "execution_count": 160,
     "metadata": {},
     "output_type": "execute_result"
    }
   ],
   "source": [
    "data[(data['Gold_Cluster'] == 0)][['Campaign 1', 'Campaign 2', 'Campaign 3', 'Campaign 4', 'Campaign 5']].value_counts()"
   ]
  },
  {
   "cell_type": "code",
   "execution_count": 161,
   "metadata": {
    "id": "0LENiceH4FGk"
   },
   "outputs": [
    {
     "data": {
      "text/plain": [
       "524"
      ]
     },
     "execution_count": 161,
     "metadata": {},
     "output_type": "execute_result"
    }
   ],
   "source": [
    "len(data[(data['Gold_Cluster'] == 0)])"
   ]
  },
  {
   "cell_type": "markdown",
   "metadata": {
    "id": "70hwH2uI1nbU"
   },
   "source": [
    "# Summary & Recommendations"
   ]
  },
  {
   "cell_type": "markdown",
   "metadata": {
    "id": "SFvt5mJFyNeA"
   },
   "source": [
    "## Summary"
   ]
  },
  {
   "cell_type": "markdown",
   "metadata": {
    "id": "CqtO-HxlyOUU"
   },
   "source": [
    "\n",
    "\n",
    "1.   In general, the target customers for all products are mostly in their **early 40**s – **late 60**s who is at least an **Undergraduate**, has **high**-income, and **do not** have any child at home.\n",
    "2.   The **most popular** platform for potential customers are **store**, **web**, and **catalogue**, respectively.\n",
    "3.   Overall, the **discount participation rate** is **very low** (including the potential customers for each product'). Perhaps the discount given is **not tempting** for the customers?\n",
    "4.   The potential buyers' campaign participation rate are also very low (most are not participating even once)\n",
    "\n"
   ]
  },
  {
   "cell_type": "markdown",
   "metadata": {
    "id": "A1b3J3pbyMUS"
   },
   "source": [
    "## Recommendations"
   ]
  },
  {
   "cell_type": "markdown",
   "metadata": {
    "id": "s_xFGBd31pK3"
   },
   "source": [
    "\n",
    "\n",
    "1.   Further sales and marketing **strategies** should be **focused** towards **Undergraduates** with **high** income, and **do not** have any kid (and teens, if possible) at home.\n",
    "2.   The company should **upgrade** their **website**, as many potential customers are buying products\n",
    "through website, and also as a mean to attract another customer segments.\n",
    "3.   There needs to be a **promo** to attract buyers, especially the potential customers, so the amount of sold products will increase. \n",
    "4.   There needs to be a **better campaign strategy** on catching the attention for these customers, as we previously known that these customers are at least an Undergraduate, so they might be busy with work and do not have time on participating in the Campaign.\n",
    "\n"
   ]
  }
 ],
 "metadata": {
  "colab": {
   "collapsed_sections": [
    "-Taxp2K4WD4a",
    "q5bGj0x9XOEH",
    "ZfzliTrpzqfu",
    "8S1K0MPk4Zkh",
    "Ehs2OByDeo_V",
    "kt4kKRnYerBb",
    "YWmqbp1QevAl",
    "IRwVo-SEewTC",
    "h7ET-BTDey7k",
    "Ffb4H6AAe3Re",
    "z81ckr7CzPBy",
    "_ISYWDOdiWD4",
    "Asj1FFlMiWD5",
    "vGkRsuDMiWD5",
    "PJgATgjwiWD5",
    "SiWe31T9iWD6",
    "cZQwqfMJiWD6",
    "SBBpU29UBcLb",
    "bccuETkcbhhU",
    "ow2NLCj8gCXL",
    "yTT2zJQBD5wV",
    "iijQZx8jRWMw",
    "EtSbHDU3b_dX",
    "3MxXDGVab_yl",
    "qmhQgxiscA9J",
    "LfYeV8AccBJG",
    "VvOiwN6tjO6W",
    "fOY07GKARQCL",
    "yeSrztoxlqO4",
    "9FdouNwBltcg",
    "sxWi6E61lwJe",
    "LqvLh5Nkl2ju",
    "8PX6Sqsml4Jt",
    "DYxAtwYP8Hau",
    "PHPskFRGBkzX",
    "UOH8MlnKBkzX",
    "6UlT2SpNBkzY",
    "tU4ejJwzBkzY",
    "E7fygXyMBkzY",
    "J5RZ0idwBkzY",
    "pZHQfngVBkzZ",
    "VRWMUtcH_s7K",
    "9MDkRA8WA7d8",
    "n9cdYOgjA-Z7",
    "saGOuhBOA-lg",
    "UNOhgVRiA-vq",
    "6DSa7VihA-yh",
    "QCdXtwNoA-7L",
    "ZVHQQ--o_M2Z",
    "qU8eCQsDAzeJ",
    "xt-OrmEAA06v",
    "ha41iqXyA2fG",
    "--YlWwC9A3fU",
    "X8jJvKj6A4u2",
    "UU-4bYbZA50J",
    "70hwH2uI1nbU",
    "SFvt5mJFyNeA",
    "A1b3J3pbyMUS"
   ],
   "provenance": []
  },
  "kernelspec": {
   "display_name": "Python 3",
   "language": "python",
   "name": "python3"
  },
  "language_info": {
   "codemirror_mode": {
    "name": "ipython",
    "version": 3
   },
   "file_extension": ".py",
   "mimetype": "text/x-python",
   "name": "python",
   "nbconvert_exporter": "python",
   "pygments_lexer": "ipython3",
   "version": "3.10.5"
  }
 },
 "nbformat": 4,
 "nbformat_minor": 1
}
