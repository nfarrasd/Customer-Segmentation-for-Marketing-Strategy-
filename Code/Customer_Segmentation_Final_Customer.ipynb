{
 "cells": [
  {
   "cell_type": "markdown",
   "metadata": {
    "id": "V7nxiI6BzVci"
   },
   "source": [
    "**Author**: Moch Nabil Farras Dhiya (10120034)\n",
    "\n",
    "**E-mail**: nabilfarras923@gmail.com\n",
    "\n",
    "-------------------\n",
    "\n",
    "**Disclaimer**: The **dataset** used in this analysis is a public dataset retrieved from [Customer Personality Analysis - Kaggle](https://www.kaggle.com/datasets/imakash3011/customer-personality-analysis?datasetId=1546318&sortBy=voteCount)."
   ]
  },
  {
   "cell_type": "markdown",
   "metadata": {
    "id": "-Taxp2K4WD4a"
   },
   "source": [
    "# Background"
   ]
  },
  {
   "cell_type": "markdown",
   "metadata": {
    "id": "q5bGj0x9XOEH"
   },
   "source": [
    "## Attributes"
   ]
  },
  {
   "cell_type": "markdown",
   "metadata": {
    "id": "NgtswCGVXDqM"
   },
   "source": [
    "**People**\n",
    "\n",
    "*   ID: Customer's unique identifier\n",
    "*   Year_Birth: Customer's birth year\n",
    "*   Education: Customer's education level\n",
    "*   Marital_Status: Customer's marital status\n",
    "*   Income: Customer's yearly household income\n",
    "*   Kidhome: Number of children in customer's household\n",
    "*   Teenhome: Number of teenagers in customer's household\n",
    "*   Dt_Customer: Date of customer's enrollment with the company\n",
    "*   Recency: Number of days since customer's last purchase\n",
    "*   Complain: 1 if the customer complained in the last 2 years, 0 otherwise\n",
    "\n",
    "**Products**\n",
    "\n",
    "*   MntWines: Amount spent on wine in last 2 years\n",
    "*   MntFruits: Amount spent on fruits in last 2 years\n",
    "*   MntMeatProducts: Amount spent on meat in last 2 years\n",
    "*   MntFishProducts: Amount spent on fish in last 2 years\n",
    "*   MntSweetProducts: Amount spent on sweets in last 2 years\n",
    "*   MntGoldProds: Amount spent on gold in last 2 years\n",
    "\n",
    "**Promotion**\n",
    "\n",
    "\n",
    "*   NumDealsPurchases: Number of purchases made with a discount\n",
    "*   AcceptedCmp1: 1 if customer accepted the offer in the 1st campaign, 0 otherwise\n",
    "*   AcceptedCmp2: 1 if customer accepted the offer in the 2nd campaign, 0 otherwise\n",
    "*   AcceptedCmp3: 1 if customer accepted the offer in the 3rd campaign, 0 otherwise\n",
    "*   AcceptedCmp4: 1 if customer accepted the offer in the 4th campaign, 0 otherwise\n",
    "*   AcceptedCmp5: 1 if customer accepted the offer in the 5th campaign, 0 otherwise\n",
    "*   Response: 1 if customer accepted the offer in the last campaign, 0 otherwise\n",
    "\n",
    "**Place**\n",
    "\n",
    "*   NumWebPurchases: Number of purchases made through the company’s website\n",
    "*   NumCatalogPurchases: Number of purchases made using a catalogue\n",
    "*   NumWebVisitsMonth: Number of visits to company’s website in the last month\n",
    "*   NumStorePurchases: Number of purchases made directly in stores"
   ]
  },
  {
   "cell_type": "markdown",
   "metadata": {
    "id": "JprWVv-dXPJp"
   },
   "source": [
    "## Goals\n",
    "\n",
    "Perform clustering to summarize customer segments."
   ]
  },
  {
   "cell_type": "markdown",
   "metadata": {
    "id": "D2KwviZTzb7D"
   },
   "source": [
    "# Connect to Google Drive"
   ]
  },
  {
   "cell_type": "code",
   "execution_count": 1,
   "metadata": {
    "colab": {
     "base_uri": "https://localhost:8080/"
    },
    "id": "YQeVA1xdzfI9",
    "outputId": "f661cbc6-590d-41a7-811c-005d18305aa3"
   },
   "outputs": [
    {
     "ename": "ModuleNotFoundError",
     "evalue": "No module named 'google.colab'",
     "output_type": "error",
     "traceback": [
      "\u001b[1;31m---------------------------------------------------------------------------\u001b[0m",
      "\u001b[1;31mModuleNotFoundError\u001b[0m                       Traceback (most recent call last)",
      "Input \u001b[1;32mIn [1]\u001b[0m, in \u001b[0;36m<cell line: 1>\u001b[1;34m()\u001b[0m\n\u001b[1;32m----> 1\u001b[0m \u001b[38;5;28;01mfrom\u001b[39;00m \u001b[38;5;21;01mgoogle\u001b[39;00m\u001b[38;5;21;01m.\u001b[39;00m\u001b[38;5;21;01mcolab\u001b[39;00m \u001b[38;5;28;01mimport\u001b[39;00m drive\n\u001b[0;32m      2\u001b[0m drive\u001b[38;5;241m.\u001b[39mmount(\u001b[38;5;124m'\u001b[39m\u001b[38;5;124m/content/gdrive\u001b[39m\u001b[38;5;124m'\u001b[39m)\n",
      "\u001b[1;31mModuleNotFoundError\u001b[0m: No module named 'google.colab'"
     ]
    }
   ],
   "source": [
    "from google.colab import drive\n",
    "drive.mount('/content/gdrive')"
   ]
  },
  {
   "cell_type": "code",
   "execution_count": null,
   "metadata": {
    "colab": {
     "base_uri": "https://localhost:8080/"
    },
    "id": "yawX7Vo8zNP9",
    "outputId": "eaaf240c-976a-4327-e925-f1d43ee1c07f"
   },
   "outputs": [],
   "source": [
    "%cd /content/gdrive/My Drive/Portfolio/Data Science/Python/Customer Segmentation/CSV"
   ]
  },
  {
   "cell_type": "markdown",
   "metadata": {
    "id": "ZfzliTrpzqfu"
   },
   "source": [
    "# Import Packages"
   ]
  },
  {
   "cell_type": "code",
   "execution_count": null,
   "metadata": {
    "id": "gGoyK5jrzvGe"
   },
   "outputs": [],
   "source": [
    "import pandas as pd\n",
    "import numpy as np\n",
    "import datetime as dt\n",
    "\n",
    "import matplotlib.pyplot as plt\n",
    "import seaborn as sns\n",
    "sns.set_style(\"darkgrid\")\n",
    "\n",
    "from statistics import mean\n",
    "from scipy.stats import skew\n",
    "\n",
    "from sklearn import preprocessing\n",
    "from sklearn.preprocessing import StandardScaler, LabelEncoder\n",
    "from sklearn.metrics import davies_bouldin_score, silhouette_score, calinski_harabasz_score\n",
    "from sklearn.metrics.pairwise import euclidean_distances\n",
    "from sklearn.decomposition import PCA\n",
    "from sklearn.cluster import KMeans, AgglomerativeClustering\n",
    "\n",
    "from yellowbrick.cluster import KElbowVisualizer\n",
    "from collections import defaultdict"
   ]
  },
  {
   "cell_type": "markdown",
   "metadata": {
    "id": "mLd1UE4B0HQr"
   },
   "source": [
    "# Import Data"
   ]
  },
  {
   "cell_type": "code",
   "execution_count": null,
   "metadata": {
    "id": "ujlQPKIP0J06"
   },
   "outputs": [],
   "source": [
    "# data = pd.read_csv(\"../Data/final_data.csv\", index_col = 0)\n",
    "\n",
    "# rfm = pd.read_csv(\"../Data/RFM/rfm_analysis.csv\", index_col = 0)\n",
    "\n",
    "data = pd.read_csv(\"final_data.csv\", index_col = 0)\n",
    "\n",
    "rfm = pd.read_csv(\"rfm_analysis.csv\", index_col = 0)"
   ]
  },
  {
   "cell_type": "markdown",
   "metadata": {
    "id": "swkH6Aq3j1RO"
   },
   "source": [
    "# Final Segmentation"
   ]
  },
  {
   "cell_type": "code",
   "execution_count": null,
   "metadata": {
    "colab": {
     "base_uri": "https://localhost:8080/",
     "height": 424
    },
    "id": "QH0DzeBneBsO",
    "outputId": "0c683bd4-1196-409c-a52e-cbc51fbd9013"
   },
   "outputs": [],
   "source": [
    "data = pd.merge(data[['ID', 'Marital_Status', 'Education', 'Income_Class', 'Age_Class', 'Kidhome', 'Teenhome']], rfm, how = 'inner', on = 'ID')\n",
    "data"
   ]
  },
  {
   "cell_type": "code",
   "execution_count": null,
   "metadata": {
    "id": "Gjnx3jau9fDq"
   },
   "outputs": [],
   "source": [
    "min_customer = 10"
   ]
  },
  {
   "cell_type": "markdown",
   "metadata": {
    "id": "xMzb-ZGg9Xdi"
   },
   "source": [
    "## Functions"
   ]
  },
  {
   "cell_type": "code",
   "execution_count": null,
   "metadata": {
    "id": "-dp4WrwY9Z8v"
   },
   "outputs": [],
   "source": [
    "# Potential Wines Customer\n",
    "def get_potential_customer(df, product_cluster, cluster):\n",
    "  temp = df.loc[df[product_cluster] == cluster][['Marital_Status', 'Education', 'Income_Class', 'Age_Class', 'Kidhome', 'Teenhome']] \\\n",
    "          .groupby(['Marital_Status', 'Education', \n",
    "                    'Income_Class', 'Age_Class', \n",
    "                    'Kidhome', 'Teenhome']) \\\n",
    "          .value_counts().reset_index()\n",
    "  temp = temp.rename(columns = {0: 'Potential_Customers'})\n",
    "\n",
    "  return temp"
   ]
  },
  {
   "cell_type": "code",
   "execution_count": null,
   "metadata": {
    "id": "KFVrszAo9Y5u"
   },
   "outputs": [],
   "source": [
    "def get_potential_percentage(df, temp, min_customer):\n",
    "  re = df[['Marital_Status', 'Education',  'Income_Class', 'Age_Class', 'Kidhome', 'Teenhome']] \\\n",
    "            .groupby(['Marital_Status', 'Education', \n",
    "                      'Income_Class', 'Age_Class', \n",
    "                      'Kidhome', 'Teenhome']) \\\n",
    "            .value_counts().reset_index()\n",
    "\n",
    "  re = re.rename(columns = {0: 'Customers'})\n",
    "  re = pd.merge(re, temp, how = 'inner', on = ['Marital_Status', 'Education', \n",
    "                                                    'Income_Class', 'Age_Class',\n",
    "                                                    'Kidhome', 'Teenhome'])\n",
    "\n",
    "  # Only locate characteristics which have at least 10 customers\n",
    "  re = re.loc[re['Customers'] >= min_customer]\n",
    "  re['Potential_Percentage'] = 100 * re['Potential_Customers'] / re['Customers']\n",
    "  re = re.sort_values(by = 'Potential_Percentage', ascending = False).reset_index(drop = True)\n",
    "  \n",
    "  return re"
   ]
  },
  {
   "cell_type": "code",
   "execution_count": null,
   "metadata": {
    "id": "qA7FLg0S99nZ"
   },
   "outputs": [],
   "source": [
    "def display_rfm(df, product_cluster):\n",
    "  df = df[['Recency_Cluster', 'Frequency_Cluster', product_cluster]] \\\n",
    "            .groupby(['Recency_Cluster', 'Frequency_Cluster', product_cluster]) \\\n",
    "            .value_counts().reset_index()\n",
    "  df = df.rename(columns = {0: 'value'})\n",
    "\n",
    "  # Recency and Frequency Percentage\n",
    "  recency_data = round(100 * df.groupby('Recency_Cluster')['value'].sum() / \\\n",
    "                       df['value'].sum(), 3)\n",
    "  frequency_data = round(100 * df.groupby('Frequency_Cluster')['value'].sum() / \\\n",
    "                         df['value'].sum(), 3)\n",
    "  monetary_data = round(100 * df.groupby(product_cluster)['value'].sum() / \\\n",
    "                        df['value'].sum(), 3)\n",
    "\n",
    "  display(recency_data)\n",
    "  display(frequency_data)\n",
    "  display(monetary_data)"
   ]
  },
  {
   "cell_type": "code",
   "execution_count": null,
   "metadata": {
    "id": "UYnd47Zb-fDt"
   },
   "outputs": [],
   "source": [
    "def get_concern(df, product_data, mask):\n",
    "  concern_data = df[df['ID'].isin(mask)][['Marital_Status', 'Education', \n",
    "                                          'Income_Class', 'Age_Class', \n",
    "                                          'Kidhome', 'Teenhome']] \\\n",
    "                      .groupby(['Marital_Status', 'Education', \n",
    "                                'Income_Class', 'Age_Class', \n",
    "                                'Kidhome', 'Teenhome']) \\\n",
    "                      .value_counts().reset_index()\n",
    "  concern_data = concern_data.rename(columns = {0: 'Recency_Customers'})\n",
    "  concern_data = pd.merge(concern_data, product_data, how = 'inner', on = ['Marital_Status', 'Education', \n",
    "                                                                           'Income_Class', 'Age_Class',\n",
    "                                                                           'Kidhome', 'Teenhome'])\n",
    "  concern_data['Recency_Percentage'] = 100 * concern_data['Recency_Customers'] / concern_data['Customers']\n",
    "  concern_data = concern_data.sort_values(by = ['Potential_Percentage', 'Recency_Percentage'], ascending = False).reset_index(drop = True)\n",
    "  \n",
    "  return concern_data"
   ]
  },
  {
   "cell_type": "markdown",
   "metadata": {
    "id": "SNSEZf6gj1RP"
   },
   "source": [
    "## Wines"
   ]
  },
  {
   "cell_type": "code",
   "execution_count": null,
   "metadata": {
    "colab": {
     "base_uri": "https://localhost:8080/",
     "height": 1000
    },
    "id": "jCA5McDRg9kS",
    "outputId": "b8c4bc08-6cb2-4e5f-9b85-14c626ecc382"
   },
   "outputs": [],
   "source": [
    "# Potential Wines Customer\n",
    "temp = get_potential_customer(data, 'Wines_Cluster', 2)\n",
    "\n",
    "wines = get_potential_percentage(data, temp, min_customer)\n",
    "wines"
   ]
  },
  {
   "cell_type": "markdown",
   "metadata": {
    "id": "t4PM4yYfj1RQ"
   },
   "source": [
    "Only locate the characteristics in which the potential customer population are higher than certain threshold.\n",
    "Here, we will set the threshold as **60%** because that is a reasonable number to say if certain characteristics are what we seek in our potential customers."
   ]
  },
  {
   "cell_type": "code",
   "execution_count": null,
   "metadata": {
    "colab": {
     "base_uri": "https://localhost:8080/",
     "height": 175
    },
    "id": "MzpF9sboj1RQ",
    "outputId": "6185baa1-0094-4b0a-bbd8-d88dbe21e2e5"
   },
   "outputs": [],
   "source": [
    "threshold = 60\n",
    "top_wines = wines.loc[wines['Potential_Percentage'] >= threshold].reset_index(drop = True)\n",
    "top_wines.head(10)"
   ]
  },
  {
   "cell_type": "markdown",
   "metadata": {
    "id": "d8MBttdSj1RR"
   },
   "source": [
    "From above, we can see that the potential wine buyers are most likely to have these criterias:\n",
    "\n",
    "First segment\n",
    "1.   Is **married**.\n",
    "2.   Possess a **doctoral degree**.\n",
    "3.   Have a **high income** (USD 68K++ Annual income).\n",
    "4.   Is **younger than 40**.\n",
    "5.   **Do not** have any kid nor teen at home.\n",
    "\n",
    "Second segment\n",
    "1.   Is **married**.\n",
    "2.   Possess a **doctoral degree**.\n",
    "3.   Have a **high income** (USD 68K++ Annual income).\n",
    "4.   Around **50 - 65** years old.\n",
    "5.   **Do not** have any kide and **have** 1 teen at home.\n",
    "\n",
    "Third segment\n",
    "1.   Is **married**.\n",
    "2.   Possess a **doctoral degree**.\n",
    "3.   Have a **high income** (USD 68K++ Annual income).\n",
    "4.   **Around 40 - 50** years old.\n",
    "5.   **Do not** have any kid nor teen at home."
   ]
  },
  {
   "cell_type": "markdown",
   "metadata": {
    "id": "2vTHXAC0j1RR"
   },
   "source": [
    "Now, we will check if these mentioned above are active customers."
   ]
  },
  {
   "cell_type": "code",
   "execution_count": null,
   "metadata": {
    "colab": {
     "base_uri": "https://localhost:8080/",
     "height": 277
    },
    "id": "gE0ELaitj1RR",
    "outputId": "27f7c347-5013-406b-a10a-2dfefd1ae916"
   },
   "outputs": [],
   "source": [
    "wines_potential = data.loc[((data['Marital_Status'] == 1) &\n",
    "                            (data['Education'] == 3) &\n",
    "                            (data['Income_Class'] == 3) &\n",
    "                            ((data['Age_Class'] == 0) | (data['Age_Class'] == 1)) &\n",
    "                            (data['Kidhome'] == 0) &\n",
    "                            (data['Teenhome'] == 0)) |\n",
    "                           \n",
    "                           ((data['Marital_Status'] == 1) &\n",
    "                            (data['Education'] == 3) &\n",
    "                            (data['Income_Class'] == 3) &\n",
    "                            (data['Age_Class'] == 2) &\n",
    "                            (data['Kidhome'] == 0) &\n",
    "                            (data['Teenhome'] == 1))] \\\n",
    "                    .groupby(['Marital_Status', 'Education', \n",
    "                              'Income_Class', 'Age_Class', \n",
    "                              'Kidhome', 'Teenhome']) \\\n",
    "                    .value_counts().reset_index()\n",
    "\n",
    "display_rfm(wines_potential, 'Wines_Cluster')"
   ]
  },
  {
   "cell_type": "markdown",
   "metadata": {
    "id": "IHb28B5pj1RR"
   },
   "source": [
    "Notice that the precentage of **inactive potential customers** are **quite high**, even though they are the ones who contribute the most to our GDP. This is concerning."
   ]
  },
  {
   "cell_type": "code",
   "execution_count": null,
   "metadata": {
    "colab": {
     "base_uri": "https://localhost:8080/",
     "height": 1000
    },
    "id": "tZdj7Lmxj1RS",
    "outputId": "187741e5-ac67-4918-b109-aa30e6d0c479"
   },
   "outputs": [],
   "source": [
    "# Look for overall potential customers (almost) churn distribution\n",
    "mask = rfm[(rfm['Recency_Cluster'] == 0) & (rfm['Wines_Cluster'] == 2)]['ID'].values\n",
    "concern_wines = get_concern(data, wines, mask)\n",
    "concern_wines"
   ]
  },
  {
   "cell_type": "markdown",
   "metadata": {
    "id": "PcNgM_rUj1RS"
   },
   "source": [
    "Notice that there is **no centralized characteristics** in which certain customer segments are inactive. Also, notice that our potential customers' churn rate are **relatively low**, which are **<=20%**, **except** for the customers who are **40-50 years old**. Thus, there are 2 options we can do here:\n",
    "\n",
    "1. Stage a **discount / campaign** which can attract them to buy wines again.\n",
    "2. **Divert** our **potential customers** to the fourth segments, which is exactly the same as the third, except that they are **>65** years old. This is because their **potential** rate is quite high, **56.25%**, with a **churn** rate of only **12.5%**.\n"
   ]
  },
  {
   "cell_type": "markdown",
   "metadata": {
    "id": "98ptQxBtkNyL"
   },
   "source": [
    "## Fruits"
   ]
  },
  {
   "cell_type": "code",
   "execution_count": null,
   "metadata": {
    "colab": {
     "base_uri": "https://localhost:8080/",
     "height": 1000
    },
    "id": "B3jU-l57tpaP",
    "outputId": "cc9a6562-5230-483d-beee-694836477fd7"
   },
   "outputs": [],
   "source": [
    "# Potential Wines Customer\n",
    "temp = get_potential_customer(data, 'Fruits_Cluster', 2)\n",
    "\n",
    "fruits = get_potential_percentage(data, temp, min_customer)\n",
    "fruits"
   ]
  },
  {
   "cell_type": "markdown",
   "metadata": {
    "id": "pTjQXNh6kNyR"
   },
   "source": [
    "Only locate the characteristics in which the potential customer population are higher than certain threshold.\n",
    "Here, we will set the threshold as **60%** because that is a reasonable number to say if certain characteristics are what we seek in our potential customers.\n",
    "\n",
    "But then, notice that there is **no characteristic** which **exceedes** that threshold. Thus, we will lower the threshold to **50%**."
   ]
  },
  {
   "cell_type": "code",
   "execution_count": null,
   "metadata": {
    "colab": {
     "base_uri": "https://localhost:8080/",
     "height": 143
    },
    "id": "DMiqv74MkNyS",
    "outputId": "d0381900-0951-4aa8-a170-b9c926519d65"
   },
   "outputs": [],
   "source": [
    "threshold = 50\n",
    "top_fruits = fruits.loc[fruits['Potential_Percentage'] >= threshold].reset_index(drop = True)\n",
    "top_fruits.head(10)"
   ]
  },
  {
   "cell_type": "markdown",
   "metadata": {
    "id": "RaNLxJ3FkNyS"
   },
   "source": [
    "From above, we can see that the potential fruits buyers are most likely to have these criterias:\n",
    "\n",
    "First segment\n",
    "1.   Is **single**.\n",
    "2.   Possess a **graduate degree**.\n",
    "3.   Have a **high income** (USD 68K++ Annual income).\n",
    "4.   Around **40 - 65** years old.\n",
    "5.   **Do not** have any kid nor teen at home.\n",
    "\n",
    "Second segment\n",
    "1.   Is **married**.\n",
    "2.   Possess a **graduate degree**.\n",
    "3.   Have an **upper-middle income** (USD 51K++ Annual income).\n",
    "4.   Around **50 - 65** years old.\n",
    "5.   **Do not** have any kid nor teen at home."
   ]
  },
  {
   "cell_type": "markdown",
   "metadata": {
    "id": "WEZv88YqkNyS"
   },
   "source": [
    "Now, we will check if these mentioned above are active customers."
   ]
  },
  {
   "cell_type": "code",
   "execution_count": null,
   "metadata": {
    "colab": {
     "base_uri": "https://localhost:8080/",
     "height": 277
    },
    "id": "D7JVEWCukNyS",
    "outputId": "da73b3ec-9103-4c50-9825-45b6069b750d"
   },
   "outputs": [],
   "source": [
    "fruits_potential = data.loc[((data['Marital_Status'] == 0) &\n",
    "                             (data['Education'] == 1) &\n",
    "                             (data['Income_Class'] == 3) &\n",
    "                             ((data['Age_Class'] == 1) | (data['Age_Class'] == 2)) &\n",
    "                             (data['Kidhome'] == 0) &\n",
    "                             (data['Teenhome'] == 0))|\n",
    "                            \n",
    "                            ((data['Marital_Status'] == 1) &\n",
    "                             (data['Education'] == 1) &\n",
    "                             (data['Income_Class'] == 2) &\n",
    "                             (data['Age_Class'] == 2) &\n",
    "                             (data['Kidhome'] == 0) &\n",
    "                             (data['Teenhome'] == 0))] \\\n",
    "                    .groupby(['Marital_Status', 'Education', \n",
    "                              'Income_Class', 'Age_Class', \n",
    "                              'Kidhome', 'Teenhome']) \\\n",
    "                    .value_counts().reset_index()\n",
    "\n",
    "display_rfm(fruits_potential, 'Fruits_Cluster')"
   ]
  },
  {
   "cell_type": "markdown",
   "metadata": {
    "id": "qahvy3w0kNyT"
   },
   "source": [
    "Notice that the precentage of **inactive potential customers** are terribly **high**, even though they are the ones who contribute the most to our GDP. This is concerning."
   ]
  },
  {
   "cell_type": "code",
   "execution_count": null,
   "metadata": {
    "colab": {
     "base_uri": "https://localhost:8080/",
     "height": 708
    },
    "id": "f731D1rxkNyT",
    "outputId": "20b25a4b-cc3e-475b-975e-4c1f8f551be5"
   },
   "outputs": [],
   "source": [
    "# Look for overall potential customers (almost) churn distribution\n",
    "mask = rfm[(rfm['Recency_Cluster'] == 0) & (rfm['Fruits_Cluster'] == 2)]['ID'].values\n",
    "concern_fruits = get_concern(data, fruits, mask)\n",
    "concern_fruits"
   ]
  },
  {
   "cell_type": "markdown",
   "metadata": {
    "id": "7Sgu4EFfkNyT"
   },
   "source": [
    "Notice that there is **no centralized characteristics** in which certain customer segments are inactive. Also, notice that our potential customers' churn rate are **relatively low**, which are **<=20%**, **except** for the customers who are **50-65 years old**. Since it only **exceeds** the threshold by **2%** and we **can not divert** our attention to another customer segment (since they have low potential rate), the only option we have is to stage a **discount / campaign** which can attract them to buy fruits again."
   ]
  },
  {
   "cell_type": "markdown",
   "metadata": {
    "id": "gCRDdGIVkOF7"
   },
   "source": [
    "## Meat"
   ]
  },
  {
   "cell_type": "code",
   "execution_count": null,
   "metadata": {
    "colab": {
     "base_uri": "https://localhost:8080/",
     "height": 771
    },
    "id": "cJL98Tekvs36",
    "outputId": "e939af1f-7556-4900-8de2-649224d0af31"
   },
   "outputs": [],
   "source": [
    "# Potential Meat Customer\n",
    "temp = get_potential_customer(data, 'Meat_Cluster', 2)\n",
    "\n",
    "meat = get_potential_percentage(data, temp, min_customer)\n",
    "meat"
   ]
  },
  {
   "cell_type": "markdown",
   "metadata": {
    "id": "DT78hCV9kOF8"
   },
   "source": [
    "Only locate the characteristics in which the potential customer population are higher than certain threshold.\n",
    "Here, we will set the threshold as **60%** because that is a reasonable number to say if certain characteristics are what we seek in our potential customers."
   ]
  },
  {
   "cell_type": "code",
   "execution_count": null,
   "metadata": {
    "colab": {
     "base_uri": "https://localhost:8080/",
     "height": 143
    },
    "id": "51xgMMXKkOF8",
    "outputId": "64d470c0-e47c-4ade-ac82-3c78d18e9935"
   },
   "outputs": [],
   "source": [
    "threshold = 60\n",
    "top_meat = meat.loc[meat['Potential_Percentage'] >= threshold].reset_index(drop = True)\n",
    "top_meat.head(10)"
   ]
  },
  {
   "cell_type": "markdown",
   "metadata": {
    "id": "nwt6lxTVkOF9"
   },
   "source": [
    "From above, we can see that the potential meat buyers are most likely to have these criterias:\n",
    "\n",
    "First segment\n",
    "1.   Is **single**.\n",
    "2.   Possess a **master degree**.\n",
    "3.   Have a **high income** (USD 68K++ Annual income).\n",
    "4.   Is **younger than 40** or around **50 - 65** years old.\n",
    "5.   **Do not** have any kid nor teen at home.\n",
    "\n",
    "Second segment\n",
    "1.   Is **single**.\n",
    "2.   Possess a **graduate degree**.\n",
    "3.   Have a **high income** (USD 68K++ Annual income).\n",
    "4.   Around **50 - 65** years old.\n",
    "5.   **Do not** have any kid nor teen at home."
   ]
  },
  {
   "cell_type": "markdown",
   "metadata": {
    "id": "Ljls_loVkOF9"
   },
   "source": [
    "Now, we will check if these mentioned above are active customers."
   ]
  },
  {
   "cell_type": "code",
   "execution_count": null,
   "metadata": {
    "colab": {
     "base_uri": "https://localhost:8080/",
     "height": 277
    },
    "id": "qwkx4XTBkOF9",
    "outputId": "9160f78f-30a8-4f27-ccf2-f5a9f80cc41e"
   },
   "outputs": [],
   "source": [
    "meat_potential = data.loc[((data['Marital_Status'] == 0) &\n",
    "                           (data['Education'] == 2) &\n",
    "                           (data['Income_Class'] == 3) &\n",
    "                           (((data['Age_Class'] == 0)) | (data['Age_Class'] == 2)) &\n",
    "                           (data['Kidhome'] == 0) &\n",
    "                           (data['Teenhome'] <= 0)) |\n",
    "                          \n",
    "                          ((data['Marital_Status'] == 0) &\n",
    "                           (data['Education'] == 1) &\n",
    "                           (data['Income_Class'] == 3) &\n",
    "                           (data['Age_Class'] == 2) &\n",
    "                           (data['Kidhome'] == 0) &\n",
    "                           (data['Teenhome'] <= 0))] \\\n",
    "                    .groupby(['Marital_Status', 'Education', \n",
    "                              'Income_Class', 'Age_Class', \n",
    "                              'Kidhome', 'Teenhome']) \\\n",
    "                    .value_counts().reset_index()\n",
    "\n",
    "display_rfm(meat_potential, 'Meat_Cluster')"
   ]
  },
  {
   "cell_type": "markdown",
   "metadata": {
    "id": "UdO44LFjkOF-"
   },
   "source": [
    "Notice that the precentage of **inactive potential customers** are terribly **high**, even though they are the ones who contribute the most to our GDP. This is concerning."
   ]
  },
  {
   "cell_type": "code",
   "execution_count": null,
   "metadata": {
    "colab": {
     "base_uri": "https://localhost:8080/",
     "height": 645
    },
    "id": "BI4vEB22kOF-",
    "outputId": "789fdc2b-00e6-45f6-da27-e618d47e0894"
   },
   "outputs": [],
   "source": [
    "# Look for overall potential customers (almost) churn distribution\n",
    "mask = rfm[(rfm['Recency_Cluster'] == 0) & (rfm['Meat_Cluster'] == 2)]['ID'].values\n",
    "concern_meat = get_concern(data, meat, mask)\n",
    "concern_meat"
   ]
  },
  {
   "cell_type": "markdown",
   "metadata": {
    "id": "erm2wPgmkOF-"
   },
   "source": [
    "Notice that there is **no centralized characteristics** in which certain customer segments are inactive. Also, notice that our potential customers' churn rate are **relatively low**, which are **<=20%**, **except** for the customers who are **50-65 years old**. Since it **exceeds** the threshold by quite a number, which is **10%** and they are basically our main customers for this product, we have to **work hard** and make sure that they **won't** leave us. And so, one option we have is to stage a **discount / campaign** which can attract them to buy meat again."
   ]
  },
  {
   "cell_type": "markdown",
   "metadata": {
    "id": "3XqsISi2kOiO"
   },
   "source": [
    "## Fish"
   ]
  },
  {
   "cell_type": "code",
   "execution_count": null,
   "metadata": {
    "colab": {
     "base_uri": "https://localhost:8080/",
     "height": 1000
    },
    "id": "v1rQq3Zz47iT",
    "outputId": "a31434e1-f174-43b9-c077-1bc41df4391e"
   },
   "outputs": [],
   "source": [
    "# Potential Fish Customer\n",
    "temp = get_potential_customer(data, 'Fish_Cluster', 2)\n",
    "\n",
    "fish = get_potential_percentage(data, temp, min_customer)\n",
    "fish"
   ]
  },
  {
   "cell_type": "markdown",
   "metadata": {
    "id": "SIJN06zgkOiQ"
   },
   "source": [
    "Only locate the characteristics in which the potential customer population are higher than certain threshold.\n",
    "Here, we will set the threshold as **60%** because that is a reasonable number to say if certain characteristics are what we seek in our potential customers.\n",
    "\n",
    "But, notice that there is **no customer segment** which exceeds that threshold. Thus, we will **customize** the threshold to **50%** in this case."
   ]
  },
  {
   "cell_type": "code",
   "execution_count": null,
   "metadata": {
    "colab": {
     "base_uri": "https://localhost:8080/",
     "height": 81
    },
    "id": "fm7k9I1dkOiP",
    "outputId": "21754a3f-27f5-4e0f-ebf8-d97d3247a8ef"
   },
   "outputs": [],
   "source": [
    "threshold = 50\n",
    "top_fish = fish.loc[fish['Potential_Percentage'] >= threshold].reset_index(drop = True)\n",
    "top_fish.head(10)"
   ]
  },
  {
   "cell_type": "markdown",
   "metadata": {
    "id": "dN2uzJLkkOiR"
   },
   "source": [
    "From above, we can see that the potential fish buyers are most likely to have these criterias:\n",
    "\n",
    "First segment\n",
    "1.   Is **single**.\n",
    "2.   Possess a **graduate degree**.\n",
    "3.   Have a **high income** (USD 68K++ Annual income).\n",
    "4.   Around **40 - 50** years old.\n",
    "5.   **Do not** have any kid nor teen at home."
   ]
  },
  {
   "cell_type": "markdown",
   "metadata": {
    "id": "WITOhW6zkOiR"
   },
   "source": [
    "Now, we will check if these mentioned above are active customers."
   ]
  },
  {
   "cell_type": "code",
   "execution_count": null,
   "metadata": {
    "colab": {
     "base_uri": "https://localhost:8080/",
     "height": 277
    },
    "id": "kaWyhY3ZkOiR",
    "outputId": "a8b231e3-f55c-46d5-c1ec-650e0a5a5209"
   },
   "outputs": [],
   "source": [
    "fish_potential = data.loc[((data['Marital_Status'] == 0) &\n",
    "                           (data['Education'] == 1) &\n",
    "                           (data['Income_Class'] == 3) &\n",
    "                           (data['Age_Class'] == 1) &\n",
    "                           (data['Kidhome'] == 0) &\n",
    "                           (data['Teenhome'] == 0))] \\\n",
    "                    .groupby(['Marital_Status', 'Education', \n",
    "                              'Income_Class', 'Age_Class', \n",
    "                              'Kidhome', 'Teenhome']) \\\n",
    "                    .value_counts().reset_index()\n",
    "\n",
    "display_rfm(fish_potential, 'Fish_Cluster')"
   ]
  },
  {
   "cell_type": "markdown",
   "metadata": {
    "id": "Rr8vFTzkkOiS"
   },
   "source": [
    "Notice that the precentage of **inactive potential customers** are terribly **high**, even though they are the ones who contribute the most to our GDP. This is concerning."
   ]
  },
  {
   "cell_type": "code",
   "execution_count": null,
   "metadata": {
    "colab": {
     "base_uri": "https://localhost:8080/",
     "height": 739
    },
    "id": "FiGkkPQ3kOiT",
    "outputId": "c5e1d342-780d-4708-af9c-7d2cfe923d0d"
   },
   "outputs": [],
   "source": [
    "# Look for overall potential customers (almost) churn distribution\n",
    "mask = rfm[(rfm['Recency_Cluster'] == 0) & (rfm['Fish_Cluster'] == 2)]['ID'].values\n",
    "concern_fish = get_concern(data, fish, mask)\n",
    "concern_fish"
   ]
  },
  {
   "cell_type": "markdown",
   "metadata": {
    "id": "E0do8b3UkOiT"
   },
   "source": [
    "Notice that there is **no centralized characteristics** in which certain customer segments are inactive. Thus, we will try to **generalize** the **marketing strategies** to bring back these types of customers, as well as targeting new potential customers who match these criterias.\n",
    "\n",
    "In addition to that, notice that the table above shows that our best potential customer here does not have a customer which has a 0 Recency_Cluster, which means they are all (almost) active customers."
   ]
  },
  {
   "cell_type": "markdown",
   "metadata": {
    "id": "zuo_p-XwkOq_"
   },
   "source": [
    "## Sweets"
   ]
  },
  {
   "cell_type": "code",
   "execution_count": null,
   "metadata": {
    "colab": {
     "base_uri": "https://localhost:8080/",
     "height": 927
    },
    "id": "ErJkKj-58TZO",
    "outputId": "320e0bab-c096-4b95-b188-4010ab23c0d0"
   },
   "outputs": [],
   "source": [
    "# Potential Sweets Customer\n",
    "temp = get_potential_customer(data, 'Sweets_Cluster', 2)\n",
    "\n",
    "sweets = get_potential_percentage(data, temp, min_customer)\n",
    "sweets"
   ]
  },
  {
   "cell_type": "markdown",
   "metadata": {
    "id": "nTmThnJekOq_"
   },
   "source": [
    "Only locate the characteristics in which the potential customer population are higher than certain threshold.\n",
    "Here, we will set the threshold as **60%** because that is a reasonable number to say if certain characteristics are what we seek in our potential customers.\n",
    "\n",
    "But, notice that there is **no segment** which exceeds that threshold. Thus, we will **customize** the threshold to **50%** in this case."
   ]
  },
  {
   "cell_type": "code",
   "execution_count": null,
   "metadata": {
    "colab": {
     "base_uri": "https://localhost:8080/",
     "height": 112
    },
    "id": "SDkD_IcpkOq_",
    "outputId": "7fa3b5fa-e22e-4714-e478-0980f5fe7ff0"
   },
   "outputs": [],
   "source": [
    "threshold = 50\n",
    "top_sweets = sweets.loc[sweets['Potential_Percentage'] >= threshold].reset_index(drop = True)\n",
    "top_sweets.head(10)"
   ]
  },
  {
   "cell_type": "markdown",
   "metadata": {
    "id": "e0Smkg1XkOrA"
   },
   "source": [
    "From above, we can see that the potential sweets buyers are most likely to have these criterias:\n",
    "\n",
    "First segment\n",
    "1.   Marital status does not matter, but it is **more likely** if they are married.\n",
    "2.   Possess a **graduate degree**.\n",
    "3.   Have a **high income** (USD 68K++ Annual income).\n",
    "4.   **Do not** have any kid nor teen at home.   "
   ]
  },
  {
   "cell_type": "markdown",
   "metadata": {
    "id": "INQd52AXkOrA"
   },
   "source": [
    "Now, we will check if these mentioned above are active customers."
   ]
  },
  {
   "cell_type": "code",
   "execution_count": null,
   "metadata": {
    "colab": {
     "base_uri": "https://localhost:8080/",
     "height": 277
    },
    "id": "1Se8UOUCkOrA",
    "outputId": "3a16b8ce-1d09-47ad-8048-e665d28ebaf9"
   },
   "outputs": [],
   "source": [
    "sweets_potential = data.loc[(data['Education'] == 1) &\n",
    "                            (data['Income_Class'] == 3) &\n",
    "                            (data['Kidhome'] == 0) &\n",
    "                            (data['Teenhome'] == 0)] \\\n",
    "                    .groupby(['Marital_Status', 'Education', \n",
    "                              'Income_Class', 'Age_Class', \n",
    "                              'Kidhome', 'Teenhome']) \\\n",
    "                    .value_counts().reset_index()\n",
    "\n",
    "display_rfm(sweets_potential, 'Sweets_Cluster')"
   ]
  },
  {
   "cell_type": "markdown",
   "metadata": {
    "id": "islexWdCkOrA"
   },
   "source": [
    "Notice that the precentage of **inactive potential customers** are terribly **high**, even though they are the ones who contribute the most to our GDP. This is concerning."
   ]
  },
  {
   "cell_type": "code",
   "execution_count": null,
   "metadata": {
    "colab": {
     "base_uri": "https://localhost:8080/",
     "height": 645
    },
    "id": "7OnDh5FTkOrA",
    "outputId": "b6c2e99b-9726-4f6a-dad7-e25b6cd41ca8"
   },
   "outputs": [],
   "source": [
    "# Look for overall potential customers (almost) churn distribution\n",
    "mask = rfm[(rfm['Recency_Cluster'] == 0) & (rfm['Sweets_Cluster'] == 2)]['ID'].values\n",
    "concern_sweets = get_concern(data, sweets, mask)\n",
    "concern_sweets"
   ]
  },
  {
   "cell_type": "markdown",
   "metadata": {
    "id": "YHsUq2LHkOrA"
   },
   "source": [
    "Notice that there is **no centralized characteristics** in which certain customer segments are inactive. Thus, we will try to **generalize** the **marketing strategies** to bring back these types of customers, as well as targeting new potential customers who match these criterias.\n",
    "\n",
    "Also, notice that our potential buyers all have high churn rate, which are **>20%**. And since the **other segments** have considerably **low potential** rate, it is recommended to **divert** our focus to make them **keep buying** our product instead of promoting to other customer segments."
   ]
  },
  {
   "cell_type": "markdown",
   "metadata": {
    "id": "0D0WA98HkOyH"
   },
   "source": [
    "## Gold"
   ]
  },
  {
   "cell_type": "code",
   "execution_count": null,
   "metadata": {
    "colab": {
     "base_uri": "https://localhost:8080/",
     "height": 1000
    },
    "id": "iUeCZUd6kOyI",
    "outputId": "dd2b7090-60c3-49cb-d5d1-07b36d60cf87"
   },
   "outputs": [],
   "source": [
    "# Potential Gold Customer\n",
    "temp = get_potential_customer(data, 'Gold_Cluster', 2)\n",
    "\n",
    "gold = get_potential_percentage(data, temp, min_customer)\n",
    "gold"
   ]
  },
  {
   "cell_type": "markdown",
   "metadata": {
    "id": "RSfUTPm7kOyI"
   },
   "source": [
    "Only locate the characteristics in which the potential customer population are higher than certain threshold.\n",
    "Here, we will set the threshold as **60%** because that is a reasonable number to say if certain characteristics are what we seek in our potential customers.\n",
    "\n",
    "But, notice that there is **no customer segment** which exceeds that threshold. And since the **highest** potential rate is merely **42%**, we can't say that they are our potential customer. So, we have 2 option here:\n",
    "1. **Do not** spend any $ to market gold-related product to save money.\n",
    "2. **Bet** our money into the **\"best\" customer segment**, even thuogh the success rate is only 42%.\n",
    "\n",
    "In case we choose the 2nd option, then we will get the following results."
   ]
  },
  {
   "cell_type": "code",
   "execution_count": null,
   "metadata": {
    "colab": {
     "base_uri": "https://localhost:8080/"
    },
    "id": "WPJNiug7kOyI",
    "outputId": "5ba66cf8-b066-4039-b0e5-f2af45803fe6"
   },
   "outputs": [],
   "source": [
    "threshold = 60\n",
    "top_gold = gold.iloc[0].reset_index(drop = True)\n",
    "top_gold.head(10)"
   ]
  },
  {
   "cell_type": "markdown",
   "metadata": {
    "id": "51Q8p3apkOyI"
   },
   "source": [
    "From above, we can see that the potential gold buyers are most likely to have these criterias:\n",
    "\n",
    "First segment\n",
    "1.   Is **married**.\n",
    "2.   Possess a **graduate degree**.\n",
    "3.   Have a **high-income** (USD 68K++ Annual income).\n",
    "4.   **At least** in their **40s**.\n",
    "5.   **Do not** have any kid and **at most** 1 teen at home.   "
   ]
  },
  {
   "cell_type": "markdown",
   "metadata": {
    "id": "0WfEAUcwkOyI"
   },
   "source": [
    "Now, we will check if these mentioned above are active customers."
   ]
  },
  {
   "cell_type": "code",
   "execution_count": null,
   "metadata": {
    "colab": {
     "base_uri": "https://localhost:8080/",
     "height": 260
    },
    "id": "poKmwsX0daL-",
    "outputId": "d5c4b52f-1d0d-489e-cdc1-5464df301cc5"
   },
   "outputs": [],
   "source": [
    "gold_potential = data.loc[((data['Marital_Status'] == 0) &\n",
    "                           (data['Education'] == 2) &\n",
    "                           (data['Income_Class'] == 2) &\n",
    "                           (data['Age_Class'] == 2) &\n",
    "                           (data['Kidhome'] == 0) &\n",
    "                           (data['Teenhome'] == 1))] \\\n",
    "                    .groupby(['Marital_Status', 'Education', \n",
    "                              'Income_Class', 'Age_Class', \n",
    "                              'Kidhome', 'Teenhome']) \\\n",
    "                    .value_counts().reset_index()\n",
    "\n",
    "display_rfm(gold_potential, 'Gold_Cluster')"
   ]
  },
  {
   "cell_type": "markdown",
   "metadata": {
    "id": "LIicJ8T8kOyJ"
   },
   "source": [
    "Notice that the precentage of **inactive potential customers** are terribly **high**, even though they are the ones who contribute the most to our GDP. This is concerning."
   ]
  },
  {
   "cell_type": "code",
   "execution_count": null,
   "metadata": {
    "colab": {
     "base_uri": "https://localhost:8080/",
     "height": 990
    },
    "id": "WjRZZ4k3kOyJ",
    "outputId": "35fa9219-2400-4aae-aca5-e9679f88802d"
   },
   "outputs": [],
   "source": [
    "# Look for overall potential customers (almost) churn distribution\n",
    "mask = rfm[(rfm['Recency_Cluster'] == 0) & (rfm['Gold_Cluster'] == 2)]['ID'].values\n",
    "concern_gold = get_concern(data, gold, mask)\n",
    "concern_gold"
   ]
  },
  {
   "cell_type": "markdown",
   "metadata": {
    "id": "s6Q7qgtkkOyJ"
   },
   "source": [
    "Notice that there is **no centralized characteristics** in which certain customer segments are inactive. Thus, we will try to **generalize** the **marketing strategies** to bring back these types of customers, as well as targeting new potential customers who match these criterias.\n",
    "\n",
    "In addition to that, our **\"best\" customer segment** also has **very low churn** rate, which is only **7%**, and it is obviously a good thing. We should work on **promoting** the **product** more to **this customer segment**."
   ]
  },
  {
   "cell_type": "markdown",
   "metadata": {},
   "source": [
    "# Summary & Recommendations"
   ]
  },
  {
   "cell_type": "markdown",
   "metadata": {},
   "source": [
    "## Wines"
   ]
  },
  {
   "cell_type": "markdown",
   "metadata": {},
   "source": [
    "**Top customer characteristics**\n",
    "\n",
    "-------------------\n",
    "\n",
    "First segment\n",
    "1.   Is **married**.\n",
    "2.   Possess a **doctoral degree**.\n",
    "3.   Have a **high income** (USD 68K++ Annual income).\n",
    "4.   Is **younger than 40**.\n",
    "5.   **Do not** have any kid nor teen at home.\n",
    "\n",
    "Second segment\n",
    "1.   Is **married**.\n",
    "2.   Possess a **doctoral degree**.\n",
    "3.   Have a **high income** (USD 68K++ Annual income).\n",
    "4.   Around **50 - 65** years old.\n",
    "5.   **Do not** have any kide and **have** 1 teen at home.\n",
    "\n",
    "Third segment\n",
    "1.   Is **married**.\n",
    "2.   Possess a **doctoral degree**.\n",
    "3.   Have a **high income** (USD 68K++ Annual income).\n",
    "4.   **Around 40 - 50** years old.\n",
    "5.   **Do not** have any kid nor teen at home.\n",
    "\n",
    "**Recommended Actions**\n",
    "\n",
    "-------------------\n",
    "\n",
    "1. Stage a **discount / campaign** which can attract them to buy wines again.\n",
    "2. **Divert** our **potential customers** to the fourth segments, which is exactly the same as the third, except that they are **>65** years old. This is because their **potential** rate is quite high, **56.25%**, with a **churn** rate of only **12.5%**.\n",
    "\n",
    "since our potential customers' churn rate are **relatively low**, **except** for the customers who are in the **second segment**"
   ]
  },
  {
   "cell_type": "markdown",
   "metadata": {},
   "source": [
    "## Fruits"
   ]
  },
  {
   "cell_type": "markdown",
   "metadata": {},
   "source": [
    "**Top customer characteristics**\n",
    "\n",
    "-------------------\n",
    "\n",
    "First segment\n",
    "1.   Is **single**.\n",
    "2.   Possess a **graduate degree**.\n",
    "3.   Have a **high income** (USD 68K++ Annual income).\n",
    "4.   Around **40 - 65** years old.\n",
    "5.   **Do not** have any kid nor teen at home.\n",
    "\n",
    "Second segment\n",
    "1.   Is **married**.\n",
    "2.   Possess a **graduate degree**.\n",
    "3.   Have an **upper-middle income** (USD 51K++ Annual income).\n",
    "4.   Around **50 - 65** years old.\n",
    "5.   **Do not** have any kid nor teen at home.\n",
    "\n",
    "**Recommended Actions**\n",
    "\n",
    "-------------------\n",
    "\n",
    "Stage a **discount / campaign** which can attract our potentail customers who are in the **second segment**. Since the churn rate for this particular segment **exceeds**, since even though their churn rate only **exceeds** the threshold by **2%**, but we also do not have other choice and **can not divert** our attention to another customer segment (since they have low potential rate)."
   ]
  },
  {
   "cell_type": "markdown",
   "metadata": {},
   "source": [
    "## Meat"
   ]
  },
  {
   "cell_type": "markdown",
   "metadata": {},
   "source": [
    "**Top customer characteristics**\n",
    "\n",
    "-------------------\n",
    "\n",
    "First segment\n",
    "1.   Is **single**.\n",
    "2.   Possess a **master degree**.\n",
    "3.   Have a **high income** (USD 68K++ Annual income).\n",
    "4.   Is **younger than 40** or around **50 - 65** years old.\n",
    "5.   **Do not** have any kid nor teen at home.\n",
    "\n",
    "Second segment\n",
    "1.   Is **single**.\n",
    "2.   Possess a **graduate degree**.\n",
    "3.   Have a **high income** (USD 68K++ Annual income).\n",
    "4.   Around **50 - 65** years old.\n",
    "5.   **Do not** have any kid nor teen at home.\n",
    "\n",
    "**Recommended Actions**\n",
    "\n",
    "-------------------\n",
    "\n",
    "Stage a **discount / campaign** which can attract our potentail customers who are in the **second segment**. Since the churn rate for this particular segment **exceeds** the threshold by quite a number, which is **10%** and they are basically our main customers for this product."
   ]
  },
  {
   "cell_type": "markdown",
   "metadata": {},
   "source": [
    "## Fish"
   ]
  },
  {
   "cell_type": "markdown",
   "metadata": {},
   "source": [
    "**Top customer characteristics**\n",
    "\n",
    "-------------------\n",
    "\n",
    "First segment\n",
    "1.   Is **single**.\n",
    "2.   Possess a **graduate degree**.\n",
    "3.   Have a **high income** (USD 68K++ Annual income).\n",
    "4.   Around **40 - 50** years old.\n",
    "5.   **Do not** have any kid nor teen at home.\n",
    "\n",
    "**Recommended Actions**\n",
    "\n",
    "-------------------\n",
    "\n",
    "Focus on **promoting** the **products** to users which characteristics match with stated above, since our best potential customer are **all** (almost) **active** customers."
   ]
  },
  {
   "cell_type": "markdown",
   "metadata": {},
   "source": [
    "## Sweets"
   ]
  },
  {
   "cell_type": "markdown",
   "metadata": {},
   "source": [
    "**Top customer characteristics**\n",
    "\n",
    "-------------------\n",
    "\n",
    "First segment\n",
    "1.   Marital status does not matter, but it is **more likely** if they are married.\n",
    "2.   Possess a **graduate degree**.\n",
    "3.   Have a **high income** (USD 68K++ Annual income).\n",
    "4.   **Do not** have any kid nor teen at home. \n",
    "\n",
    "**Recommended Actions**\n",
    "\n",
    "-------------------\n",
    "\n",
    "**Divert** our focus to make them **keep buying** our product instead of promoting to other customer segments, since our potential buyers all have high churn rate, which are **>20%**"
   ]
  },
  {
   "cell_type": "markdown",
   "metadata": {},
   "source": [
    "## Gold"
   ]
  },
  {
   "cell_type": "markdown",
   "metadata": {},
   "source": [
    "There are 2 option here:\n",
    "1. **Do not** spend any $ to market gold-related product to save money.\n",
    "2. **Bet** our money into the **\"best\" customer segment**, even thuogh the success rate is only 42%.\n",
    "\n",
    "**Top customer characteristics**\n",
    "\n",
    "-------------------\n",
    "\n",
    "First segment\n",
    "1.   Is **married**.\n",
    "2.   Possess a **graduate degree**.\n",
    "3.   Have a **high-income** (USD 68K++ Annual income).\n",
    "4.   **At least** in their **40s**.\n",
    "5.   **Do not** have any kid and **at most** 1 teen at home. \n",
    "\n",
    "**Recommended Actions**\n",
    "\n",
    "-------------------\n",
    "\n",
    "Work on **promoting** the **product** more to **this customer segment**, since churn rate is very low."
   ]
  }
 ],
 "metadata": {
  "colab": {
   "collapsed_sections": [
    "-Taxp2K4WD4a",
    "q5bGj0x9XOEH",
    "D2KwviZTzb7D",
    "ZfzliTrpzqfu",
    "mLd1UE4B0HQr",
    "xMzb-ZGg9Xdi"
   ],
   "provenance": []
  },
  "kernelspec": {
   "display_name": "Python 3",
   "language": "python",
   "name": "python3"
  },
  "language_info": {
   "codemirror_mode": {
    "name": "ipython",
    "version": 3
   },
   "file_extension": ".py",
   "mimetype": "text/x-python",
   "name": "python",
   "nbconvert_exporter": "python",
   "pygments_lexer": "ipython3",
   "version": "3.10.5"
  }
 },
 "nbformat": 4,
 "nbformat_minor": 1
}
