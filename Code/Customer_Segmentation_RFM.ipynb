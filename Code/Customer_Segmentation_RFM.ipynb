{
 "cells": [
  {
   "cell_type": "markdown",
   "metadata": {
    "id": "V7nxiI6BzVci"
   },
   "source": [
    "**Author**: Moch Nabil Farras Dhiya (10120034)\n",
    "\n",
    "**E-mail**: nabilfarras923@gmail.com\n",
    "\n",
    "-------------------\n",
    "\n",
    "**Disclaimer**: The **dataset** used in this analysis is a public dataset retrieved from [Customer Personality Analysis - Kaggle](https://www.kaggle.com/datasets/imakash3011/customer-personality-analysis?datasetId=1546318&sortBy=voteCount)."
   ]
  },
  {
   "cell_type": "markdown",
   "metadata": {
    "id": "-Taxp2K4WD4a"
   },
   "source": [
    "# Background"
   ]
  },
  {
   "cell_type": "markdown",
   "metadata": {
    "id": "q5bGj0x9XOEH"
   },
   "source": [
    "## Attributes"
   ]
  },
  {
   "cell_type": "markdown",
   "metadata": {
    "id": "NgtswCGVXDqM"
   },
   "source": [
    "**People**\n",
    "\n",
    "*   ID: Customer's unique identifier\n",
    "*   Year_Birth: Customer's birth year\n",
    "*   Education: Customer's education level\n",
    "*   Marital_Status: Customer's marital status\n",
    "*   Income: Customer's yearly household income\n",
    "*   Kidhome: Number of children in customer's household\n",
    "*   Teenhome: Number of teenagers in customer's household\n",
    "*   Dt_Customer: Date of customer's enrollment with the company\n",
    "*   Recency: Number of days since customer's last purchase\n",
    "*   Complain: 1 if the customer complained in the last 2 years, 0 otherwise\n",
    "\n",
    "**Products**\n",
    "\n",
    "*   MntWines: Amount spent on wine in last 2 years\n",
    "*   MntFruits: Amount spent on fruits in last 2 years\n",
    "*   MntMeatProducts: Amount spent on meat in last 2 years\n",
    "*   MntFishProducts: Amount spent on fish in last 2 years\n",
    "*   MntSweetProducts: Amount spent on sweets in last 2 years\n",
    "*   MntGoldProds: Amount spent on gold in last 2 years\n",
    "\n",
    "**Promotion**\n",
    "\n",
    "\n",
    "*   NumDealsPurchases: Number of purchases made with a discount\n",
    "*   AcceptedCmp1: 1 if customer accepted the offer in the 1st campaign, 0 otherwise\n",
    "*   AcceptedCmp2: 1 if customer accepted the offer in the 2nd campaign, 0 otherwise\n",
    "*   AcceptedCmp3: 1 if customer accepted the offer in the 3rd campaign, 0 otherwise\n",
    "*   AcceptedCmp4: 1 if customer accepted the offer in the 4th campaign, 0 otherwise\n",
    "*   AcceptedCmp5: 1 if customer accepted the offer in the 5th campaign, 0 otherwise\n",
    "*   Response: 1 if customer accepted the offer in the last campaign, 0 otherwise\n",
    "\n",
    "**Place**\n",
    "\n",
    "*   NumWebPurchases: Number of purchases made through the company’s website\n",
    "*   NumCatalogPurchases: Number of purchases made using a catalogue\n",
    "*   NumWebVisitsMonth: Number of visits to company’s website in the last month\n",
    "*   NumStorePurchases: Number of purchases made directly in stores"
   ]
  },
  {
   "cell_type": "markdown",
   "metadata": {
    "id": "JprWVv-dXPJp"
   },
   "source": [
    "## Goals\n",
    "\n",
    "Perform clustering to summarize customer segments."
   ]
  },
  {
   "cell_type": "markdown",
   "metadata": {
    "id": "D2KwviZTzb7D"
   },
   "source": [
    "# Connect to Google Drive"
   ]
  },
  {
   "cell_type": "code",
   "execution_count": 1,
   "metadata": {
    "colab": {
     "base_uri": "https://localhost:8080/"
    },
    "executionInfo": {
     "elapsed": 6534,
     "status": "ok",
     "timestamp": 1680273669295,
     "user": {
      "displayName": "Moch Nabil Farras Dhiya",
      "userId": "07901443483008169938"
     },
     "user_tz": -420
    },
    "id": "YQeVA1xdzfI9",
    "outputId": "cb39e0a3-6cc5-4882-e81f-2174eca9189d"
   },
   "outputs": [],
   "source": [
    "# from google.colab import drive\n",
    "# drive.mount('/content/gdrive')"
   ]
  },
  {
   "cell_type": "code",
   "execution_count": 2,
   "metadata": {
    "colab": {
     "base_uri": "https://localhost:8080/"
    },
    "executionInfo": {
     "elapsed": 29,
     "status": "ok",
     "timestamp": 1680273669296,
     "user": {
      "displayName": "Moch Nabil Farras Dhiya",
      "userId": "07901443483008169938"
     },
     "user_tz": -420
    },
    "id": "yawX7Vo8zNP9",
    "outputId": "850df845-721f-44bd-b1c2-3163a1c139ac"
   },
   "outputs": [],
   "source": [
    "# %cd /content/gdrive/My Drive/Portfolio/Data Science/Python/Customer Segmentation/CSV"
   ]
  },
  {
   "cell_type": "markdown",
   "metadata": {
    "id": "ZfzliTrpzqfu"
   },
   "source": [
    "# Import Packages"
   ]
  },
  {
   "cell_type": "code",
   "execution_count": 3,
   "metadata": {
    "executionInfo": {
     "elapsed": 20,
     "status": "ok",
     "timestamp": 1680273669297,
     "user": {
      "displayName": "Moch Nabil Farras Dhiya",
      "userId": "07901443483008169938"
     },
     "user_tz": -420
    },
    "id": "gGoyK5jrzvGe"
   },
   "outputs": [],
   "source": [
    "import pandas as pd\n",
    "import numpy as np\n",
    "import datetime as dt\n",
    "\n",
    "import matplotlib.pyplot as plt\n",
    "import seaborn as sns\n",
    "sns.set_style(\"darkgrid\")\n",
    "\n",
    "from statistics import mean\n",
    "from scipy.stats import skew\n",
    "\n",
    "from sklearn import preprocessing\n",
    "from sklearn.preprocessing import StandardScaler, LabelEncoder\n",
    "from sklearn.metrics import davies_bouldin_score, silhouette_score, calinski_harabasz_score\n",
    "from sklearn.metrics.pairwise import euclidean_distances\n",
    "from sklearn.decomposition import PCA\n",
    "from sklearn.cluster import KMeans, AgglomerativeClustering\n",
    "\n",
    "from yellowbrick.cluster import KElbowVisualizer\n",
    "from collections import defaultdict"
   ]
  },
  {
   "cell_type": "markdown",
   "metadata": {
    "id": "mLd1UE4B0HQr"
   },
   "source": [
    "# Import Data"
   ]
  },
  {
   "cell_type": "code",
   "execution_count": 4,
   "metadata": {
    "executionInfo": {
     "elapsed": 20,
     "status": "ok",
     "timestamp": 1680273669298,
     "user": {
      "displayName": "Moch Nabil Farras Dhiya",
      "userId": "07901443483008169938"
     },
     "user_tz": -420
    },
    "id": "ujlQPKIP0J06"
   },
   "outputs": [],
   "source": [
    "data = pd.read_csv(\"../Data/RFM/rfm_data.csv\", index_col = 0)"
   ]
  },
  {
   "cell_type": "code",
   "execution_count": 5,
   "metadata": {
    "colab": {
     "base_uri": "https://localhost:8080/",
     "height": 0
    },
    "executionInfo": {
     "elapsed": 20,
     "status": "ok",
     "timestamp": 1680273669299,
     "user": {
      "displayName": "Moch Nabil Farras Dhiya",
      "userId": "07901443483008169938"
     },
     "user_tz": -420
    },
    "id": "5t1lSx-GmZfh",
    "outputId": "9a833f39-cb5f-4956-c563-acdcc95e8ac6"
   },
   "outputs": [
    {
     "data": {
      "text/html": [
       "<div>\n",
       "<style scoped>\n",
       "    .dataframe tbody tr th:only-of-type {\n",
       "        vertical-align: middle;\n",
       "    }\n",
       "\n",
       "    .dataframe tbody tr th {\n",
       "        vertical-align: top;\n",
       "    }\n",
       "\n",
       "    .dataframe thead th {\n",
       "        text-align: right;\n",
       "    }\n",
       "</style>\n",
       "<table border=\"1\" class=\"dataframe\">\n",
       "  <thead>\n",
       "    <tr style=\"text-align: right;\">\n",
       "      <th></th>\n",
       "      <th>ID</th>\n",
       "      <th>Recency</th>\n",
       "      <th>Frequency</th>\n",
       "      <th>Wines</th>\n",
       "      <th>Fruits</th>\n",
       "      <th>Meat</th>\n",
       "      <th>Fish</th>\n",
       "      <th>Sweets</th>\n",
       "      <th>Gold</th>\n",
       "    </tr>\n",
       "  </thead>\n",
       "  <tbody>\n",
       "    <tr>\n",
       "      <th>0</th>\n",
       "      <td>5524</td>\n",
       "      <td>58</td>\n",
       "      <td>32</td>\n",
       "      <td>635</td>\n",
       "      <td>88</td>\n",
       "      <td>546</td>\n",
       "      <td>172</td>\n",
       "      <td>88</td>\n",
       "      <td>88</td>\n",
       "    </tr>\n",
       "    <tr>\n",
       "      <th>1</th>\n",
       "      <td>2174</td>\n",
       "      <td>38</td>\n",
       "      <td>11</td>\n",
       "      <td>11</td>\n",
       "      <td>1</td>\n",
       "      <td>6</td>\n",
       "      <td>2</td>\n",
       "      <td>1</td>\n",
       "      <td>6</td>\n",
       "    </tr>\n",
       "    <tr>\n",
       "      <th>2</th>\n",
       "      <td>4141</td>\n",
       "      <td>26</td>\n",
       "      <td>25</td>\n",
       "      <td>426</td>\n",
       "      <td>49</td>\n",
       "      <td>127</td>\n",
       "      <td>111</td>\n",
       "      <td>21</td>\n",
       "      <td>42</td>\n",
       "    </tr>\n",
       "    <tr>\n",
       "      <th>3</th>\n",
       "      <td>6182</td>\n",
       "      <td>26</td>\n",
       "      <td>14</td>\n",
       "      <td>11</td>\n",
       "      <td>4</td>\n",
       "      <td>20</td>\n",
       "      <td>10</td>\n",
       "      <td>3</td>\n",
       "      <td>5</td>\n",
       "    </tr>\n",
       "    <tr>\n",
       "      <th>4</th>\n",
       "      <td>5324</td>\n",
       "      <td>94</td>\n",
       "      <td>24</td>\n",
       "      <td>173</td>\n",
       "      <td>43</td>\n",
       "      <td>118</td>\n",
       "      <td>46</td>\n",
       "      <td>27</td>\n",
       "      <td>15</td>\n",
       "    </tr>\n",
       "    <tr>\n",
       "      <th>...</th>\n",
       "      <td>...</td>\n",
       "      <td>...</td>\n",
       "      <td>...</td>\n",
       "      <td>...</td>\n",
       "      <td>...</td>\n",
       "      <td>...</td>\n",
       "      <td>...</td>\n",
       "      <td>...</td>\n",
       "      <td>...</td>\n",
       "    </tr>\n",
       "    <tr>\n",
       "      <th>2207</th>\n",
       "      <td>10870</td>\n",
       "      <td>46</td>\n",
       "      <td>23</td>\n",
       "      <td>709</td>\n",
       "      <td>43</td>\n",
       "      <td>182</td>\n",
       "      <td>42</td>\n",
       "      <td>118</td>\n",
       "      <td>247</td>\n",
       "    </tr>\n",
       "    <tr>\n",
       "      <th>2208</th>\n",
       "      <td>4001</td>\n",
       "      <td>56</td>\n",
       "      <td>29</td>\n",
       "      <td>406</td>\n",
       "      <td>0</td>\n",
       "      <td>30</td>\n",
       "      <td>0</td>\n",
       "      <td>0</td>\n",
       "      <td>8</td>\n",
       "    </tr>\n",
       "    <tr>\n",
       "      <th>2209</th>\n",
       "      <td>7270</td>\n",
       "      <td>91</td>\n",
       "      <td>25</td>\n",
       "      <td>908</td>\n",
       "      <td>48</td>\n",
       "      <td>217</td>\n",
       "      <td>32</td>\n",
       "      <td>12</td>\n",
       "      <td>24</td>\n",
       "    </tr>\n",
       "    <tr>\n",
       "      <th>2210</th>\n",
       "      <td>8235</td>\n",
       "      <td>8</td>\n",
       "      <td>26</td>\n",
       "      <td>428</td>\n",
       "      <td>30</td>\n",
       "      <td>214</td>\n",
       "      <td>80</td>\n",
       "      <td>30</td>\n",
       "      <td>61</td>\n",
       "    </tr>\n",
       "    <tr>\n",
       "      <th>2211</th>\n",
       "      <td>9405</td>\n",
       "      <td>40</td>\n",
       "      <td>18</td>\n",
       "      <td>84</td>\n",
       "      <td>3</td>\n",
       "      <td>61</td>\n",
       "      <td>2</td>\n",
       "      <td>1</td>\n",
       "      <td>21</td>\n",
       "    </tr>\n",
       "  </tbody>\n",
       "</table>\n",
       "<p>2212 rows × 9 columns</p>\n",
       "</div>"
      ],
      "text/plain": [
       "         ID  Recency  Frequency  Wines  Fruits  Meat  Fish  Sweets  Gold\n",
       "0      5524       58         32    635      88   546   172      88    88\n",
       "1      2174       38         11     11       1     6     2       1     6\n",
       "2      4141       26         25    426      49   127   111      21    42\n",
       "3      6182       26         14     11       4    20    10       3     5\n",
       "4      5324       94         24    173      43   118    46      27    15\n",
       "...     ...      ...        ...    ...     ...   ...   ...     ...   ...\n",
       "2207  10870       46         23    709      43   182    42     118   247\n",
       "2208   4001       56         29    406       0    30     0       0     8\n",
       "2209   7270       91         25    908      48   217    32      12    24\n",
       "2210   8235        8         26    428      30   214    80      30    61\n",
       "2211   9405       40         18     84       3    61     2       1    21\n",
       "\n",
       "[2212 rows x 9 columns]"
      ]
     },
     "execution_count": 5,
     "metadata": {},
     "output_type": "execute_result"
    }
   ],
   "source": [
    "data = data.reset_index(drop = True)\n",
    "data"
   ]
  },
  {
   "cell_type": "markdown",
   "metadata": {
    "id": "p_dKflDjmF6A"
   },
   "source": [
    "# Normalization"
   ]
  },
  {
   "cell_type": "code",
   "execution_count": 6,
   "metadata": {
    "executionInfo": {
     "elapsed": 18,
     "status": "ok",
     "timestamp": 1680273669299,
     "user": {
      "displayName": "Moch Nabil Farras Dhiya",
      "userId": "07901443483008169938"
     },
     "user_tz": -420
    },
    "id": "b0P9ymc-V75G"
   },
   "outputs": [],
   "source": [
    "scaler = StandardScaler()\n",
    "\n",
    "temp = data.copy()\n",
    "recency = data[['Recency']]\n",
    "frequency = data[['Frequency']]\n",
    "\n",
    "monetary = data[['ID']]\n",
    "monetary_wines = data[['Wines']]\n",
    "monetary_fruits = data[['Fruits']]\n",
    "monetary_meat = data[['Meat']]\n",
    "monetary_fish = data[['Fish']]\n",
    "monetary_sweets = data[['Sweets']]\n",
    "monetary_gold = data[['Gold']]"
   ]
  },
  {
   "cell_type": "code",
   "execution_count": 7,
   "metadata": {
    "executionInfo": {
     "elapsed": 18,
     "status": "ok",
     "timestamp": 1680273669300,
     "user": {
      "displayName": "Moch Nabil Farras Dhiya",
      "userId": "07901443483008169938"
     },
     "user_tz": -420
    },
    "id": "EOgwS8r-t9EA"
   },
   "outputs": [],
   "source": [
    "recency = pd.DataFrame(scaler.fit_transform(recency)).rename(columns = {0: 'value'})\n",
    "frequency = pd.DataFrame(scaler.fit_transform(frequency)).rename(columns = {0: 'value'})\n",
    "\n",
    "monetary_wines = pd.DataFrame(scaler.fit_transform(monetary_wines)).rename(columns = {0: 'value'})\n",
    "monetary_fruits = pd.DataFrame(scaler.fit_transform(monetary_fruits)).rename(columns = {0: 'value'})\n",
    "monetary_meat = pd.DataFrame(scaler.fit_transform(monetary_meat)).rename(columns = {0: 'value'})\n",
    "monetary_fish = pd.DataFrame(scaler.fit_transform(monetary_fish)).rename(columns = {0: 'value'})\n",
    "monetary_sweets = pd.DataFrame(scaler.fit_transform(monetary_sweets)).rename(columns = {0: 'value'})\n",
    "monetary_gold = pd.DataFrame(scaler.fit_transform(monetary_gold)).rename(columns = {0: 'value'})"
   ]
  },
  {
   "cell_type": "markdown",
   "metadata": {
    "id": "z81ckr7CzPBy"
   },
   "source": [
    "# Correlation Graph"
   ]
  },
  {
   "cell_type": "code",
   "execution_count": 8,
   "metadata": {
    "colab": {
     "base_uri": "https://localhost:8080/",
     "height": 0
    },
    "executionInfo": {
     "elapsed": 2521,
     "status": "ok",
     "timestamp": 1680273671803,
     "user": {
      "displayName": "Moch Nabil Farras Dhiya",
      "userId": "07901443483008169938"
     },
     "user_tz": -420
    },
    "id": "AbGjcBx1zQQ0",
    "outputId": "214336f3-a473-4b28-bf69-39f55ce19765"
   },
   "outputs": [
    {
     "data": {
      "text/plain": [
       "<AxesSubplot:>"
      ]
     },
     "execution_count": 8,
     "metadata": {},
     "output_type": "execute_result"
    },
    {
     "data": {
      "image/png": "[encoded data removed]",
      "text/plain": [
       "<Figure size 1440x1440 with 2 Axes>"
      ]
     },
     "metadata": {
      "needs_background": "light"
     },
     "output_type": "display_data"
    }
   ],
   "source": [
    "corrmat = data.corr()\n",
    "plt.figure(figsize = (20,20))  \n",
    "sns.heatmap(corrmat, annot = True, center = 0)"
   ]
  },
  {
   "cell_type": "markdown",
   "metadata": {
    "id": "Km1KJkLRQC1Q"
   },
   "source": [
    "# Clustering"
   ]
  },
  {
   "cell_type": "code",
   "execution_count": 9,
   "metadata": {
    "executionInfo": {
     "elapsed": 15,
     "status": "ok",
     "timestamp": 1680273671804,
     "user": {
      "displayName": "Moch Nabil Farras Dhiya",
      "userId": "07901443483008169938"
     },
     "user_tz": -420
    },
    "id": "jtFaptCLASOD"
   },
   "outputs": [],
   "source": [
    "def order_cluster(data, cluster, target):\n",
    "    temp = data.groupby(cluster)[target].mean().reset_index()\n",
    "    temp = temp.sort_values(by = target)\n",
    "    temp['ordered_cluster'] = [i for i in range(len(temp))]\n",
    "    temp = temp[[cluster, 'ordered_cluster']]\n",
    "    \n",
    "    data = data.merge(temp, how = 'inner', on = cluster)\n",
    "    cols = [col for col in data.columns if col != cluster]\n",
    "    data = data[cols].rename(columns = {'ordered_cluster': cluster})\n",
    "    \n",
    "    return data"
   ]
  },
  {
   "cell_type": "markdown",
   "metadata": {
    "id": "PwFVim0Y9yEF"
   },
   "source": [
    "## Recency"
   ]
  },
  {
   "cell_type": "markdown",
   "metadata": {
    "id": "Nz3gzkf5RGfF"
   },
   "source": [
    "Then, we will calculate the optimal # of cluster using Elbow Method with Silhouette criterion."
   ]
  },
  {
   "cell_type": "code",
   "execution_count": 10,
   "metadata": {
    "colab": {
     "base_uri": "https://localhost:8080/",
     "height": 0
    },
    "executionInfo": {
     "elapsed": 4748,
     "status": "ok",
     "timestamp": 1680273676538,
     "user": {
      "displayName": "Moch Nabil Farras Dhiya",
      "userId": "07901443483008169938"
     },
     "user_tz": -420
    },
    "id": "wMmipdK3ah37",
    "outputId": "de1ff556-8015-4026-87a8-affa072ba5a7"
   },
   "outputs": [
    {
     "data": {
      "image/png": "[encoded data removed]",
      "text/plain": [
       "<Figure size 432x288 with 2 Axes>"
      ]
     },
     "metadata": {},
     "output_type": "display_data"
    },
    {
     "data": {
      "text/plain": [
       "<AxesSubplot:title={'center':'Silhouette Score Elbow for KMeans Clustering'}, xlabel='k', ylabel='silhouette score'>"
      ]
     },
     "execution_count": 10,
     "metadata": {},
     "output_type": "execute_result"
    }
   ],
   "source": [
    "elbow_score_recency = KElbowVisualizer(KMeans(), k = (2, 10), metric = 'silhouette')\n",
    "elbow_score_recency.fit(recency)\n",
    "elbow_score_recency.show()"
   ]
  },
  {
   "cell_type": "code",
   "execution_count": 11,
   "metadata": {
    "colab": {
     "base_uri": "https://localhost:8080/",
     "height": 0
    },
    "executionInfo": {
     "elapsed": 722,
     "status": "ok",
     "timestamp": 1680273677242,
     "user": {
      "displayName": "Moch Nabil Farras Dhiya",
      "userId": "07901443483008169938"
     },
     "user_tz": -420
    },
    "id": "qRD7nINEASOE",
    "outputId": "06178dc6-cb42-481d-aeb9-dad604a8057b"
   },
   "outputs": [
    {
     "data": {
      "text/plain": [
       "<AxesSubplot:xlabel='Recency', ylabel='Count'>"
      ]
     },
     "execution_count": 11,
     "metadata": {},
     "output_type": "execute_result"
    },
    {
     "data": {
      "image/png": "[encoded data removed]",
      "text/plain": [
       "<Figure size 432x288 with 1 Axes>"
      ]
     },
     "metadata": {
      "needs_background": "light"
     },
     "output_type": "display_data"
    }
   ],
   "source": [
    "sns.histplot(x = 'Recency', data = data)"
   ]
  },
  {
   "cell_type": "markdown",
   "metadata": {
    "id": "m1puzWYzASOE"
   },
   "source": [
    "Though the silhouette criterion suggests that the optimum # of cluster is 2, but we will prefer to use 3 cluster because of the following reasons.\n",
    "1. We can distinguigh the customer behaviour better this way, since we notice that the recency distribution is rather uniform, with the range value is quite high.\n",
    "2. The silhouette does not differ much if we use 3 cluster instead of 2."
   ]
  },
  {
   "cell_type": "code",
   "execution_count": 12,
   "metadata": {
    "colab": {
     "base_uri": "https://localhost:8080/",
     "height": 0
    },
    "executionInfo": {
     "elapsed": 14,
     "status": "ok",
     "timestamp": 1680273677243,
     "user": {
      "displayName": "Moch Nabil Farras Dhiya",
      "userId": "07901443483008169938"
     },
     "user_tz": -420
    },
    "id": "ug4J0byq-Amx",
    "outputId": "93c537bb-b708-487b-b1c4-180f68ec77f7"
   },
   "outputs": [
    {
     "data": {
      "text/html": [
       "<div>\n",
       "<style scoped>\n",
       "    .dataframe tbody tr th:only-of-type {\n",
       "        vertical-align: middle;\n",
       "    }\n",
       "\n",
       "    .dataframe tbody tr th {\n",
       "        vertical-align: top;\n",
       "    }\n",
       "\n",
       "    .dataframe thead th {\n",
       "        text-align: right;\n",
       "    }\n",
       "</style>\n",
       "<table border=\"1\" class=\"dataframe\">\n",
       "  <thead>\n",
       "    <tr style=\"text-align: right;\">\n",
       "      <th></th>\n",
       "      <th>count</th>\n",
       "      <th>mean</th>\n",
       "      <th>std</th>\n",
       "      <th>min</th>\n",
       "      <th>25%</th>\n",
       "      <th>50%</th>\n",
       "      <th>75%</th>\n",
       "      <th>max</th>\n",
       "    </tr>\n",
       "    <tr>\n",
       "      <th>Cluster</th>\n",
       "      <th></th>\n",
       "      <th></th>\n",
       "      <th></th>\n",
       "      <th></th>\n",
       "      <th></th>\n",
       "      <th></th>\n",
       "      <th></th>\n",
       "      <th></th>\n",
       "    </tr>\n",
       "  </thead>\n",
       "  <tbody>\n",
       "    <tr>\n",
       "      <th>0</th>\n",
       "      <td>740.0</td>\n",
       "      <td>0.030758</td>\n",
       "      <td>0.331333</td>\n",
       "      <td>-0.553605</td>\n",
       "      <td>-0.242580</td>\n",
       "      <td>0.033887</td>\n",
       "      <td>0.275795</td>\n",
       "      <td>0.586820</td>\n",
       "    </tr>\n",
       "    <tr>\n",
       "      <th>1</th>\n",
       "      <td>717.0</td>\n",
       "      <td>1.171131</td>\n",
       "      <td>0.323526</td>\n",
       "      <td>0.621378</td>\n",
       "      <td>0.897845</td>\n",
       "      <td>1.174312</td>\n",
       "      <td>1.450778</td>\n",
       "      <td>1.727245</td>\n",
       "    </tr>\n",
       "    <tr>\n",
       "      <th>2</th>\n",
       "      <td>755.0</td>\n",
       "      <td>-1.142333</td>\n",
       "      <td>0.338924</td>\n",
       "      <td>-1.694030</td>\n",
       "      <td>-1.417564</td>\n",
       "      <td>-1.141097</td>\n",
       "      <td>-0.830072</td>\n",
       "      <td>-0.588164</td>\n",
       "    </tr>\n",
       "  </tbody>\n",
       "</table>\n",
       "</div>"
      ],
      "text/plain": [
       "         count      mean       std       min       25%       50%       75%  \\\n",
       "Cluster                                                                      \n",
       "0        740.0  0.030758  0.331333 -0.553605 -0.242580  0.033887  0.275795   \n",
       "1        717.0  1.171131  0.323526  0.621378  0.897845  1.174312  1.450778   \n",
       "2        755.0 -1.142333  0.338924 -1.694030 -1.417564 -1.141097 -0.830072   \n",
       "\n",
       "              max  \n",
       "Cluster            \n",
       "0        0.586820  \n",
       "1        1.727245  \n",
       "2       -0.588164  "
      ]
     },
     "execution_count": 12,
     "metadata": {},
     "output_type": "execute_result"
    }
   ],
   "source": [
    "kmeans_recency = KMeans(n_clusters = 3, random_state = 32, max_iter = 500)\n",
    "kmeans_recency_cluster = kmeans_recency.fit_predict(recency.values)\n",
    "\n",
    "recency['ID'] = data['ID']\n",
    "recency['Cluster'] = kmeans_recency_cluster\n",
    "recency.groupby('Cluster')['value'].describe()"
   ]
  },
  {
   "cell_type": "code",
   "execution_count": 13,
   "metadata": {
    "colab": {
     "base_uri": "https://localhost:8080/",
     "height": 0
    },
    "executionInfo": {
     "elapsed": 12,
     "status": "ok",
     "timestamp": 1680273677244,
     "user": {
      "displayName": "Moch Nabil Farras Dhiya",
      "userId": "07901443483008169938"
     },
     "user_tz": -420
    },
    "id": "Yu02wSgwASOF",
    "outputId": "82d5c763-327e-44d4-c784-c9e03e2b944b"
   },
   "outputs": [
    {
     "data": {
      "text/html": [
       "<div>\n",
       "<style scoped>\n",
       "    .dataframe tbody tr th:only-of-type {\n",
       "        vertical-align: middle;\n",
       "    }\n",
       "\n",
       "    .dataframe tbody tr th {\n",
       "        vertical-align: top;\n",
       "    }\n",
       "\n",
       "    .dataframe thead th {\n",
       "        text-align: right;\n",
       "    }\n",
       "</style>\n",
       "<table border=\"1\" class=\"dataframe\">\n",
       "  <thead>\n",
       "    <tr style=\"text-align: right;\">\n",
       "      <th></th>\n",
       "      <th>count</th>\n",
       "      <th>mean</th>\n",
       "      <th>std</th>\n",
       "      <th>min</th>\n",
       "      <th>25%</th>\n",
       "      <th>50%</th>\n",
       "      <th>75%</th>\n",
       "      <th>max</th>\n",
       "    </tr>\n",
       "    <tr>\n",
       "      <th>Cluster</th>\n",
       "      <th></th>\n",
       "      <th></th>\n",
       "      <th></th>\n",
       "      <th></th>\n",
       "      <th></th>\n",
       "      <th></th>\n",
       "      <th></th>\n",
       "      <th></th>\n",
       "    </tr>\n",
       "  </thead>\n",
       "  <tbody>\n",
       "    <tr>\n",
       "      <th>0</th>\n",
       "      <td>755.0</td>\n",
       "      <td>-1.142333</td>\n",
       "      <td>0.338924</td>\n",
       "      <td>-1.694030</td>\n",
       "      <td>-1.417564</td>\n",
       "      <td>-1.141097</td>\n",
       "      <td>-0.830072</td>\n",
       "      <td>-0.588164</td>\n",
       "    </tr>\n",
       "    <tr>\n",
       "      <th>1</th>\n",
       "      <td>740.0</td>\n",
       "      <td>0.030758</td>\n",
       "      <td>0.331333</td>\n",
       "      <td>-0.553605</td>\n",
       "      <td>-0.242580</td>\n",
       "      <td>0.033887</td>\n",
       "      <td>0.275795</td>\n",
       "      <td>0.586820</td>\n",
       "    </tr>\n",
       "    <tr>\n",
       "      <th>2</th>\n",
       "      <td>717.0</td>\n",
       "      <td>1.171131</td>\n",
       "      <td>0.323526</td>\n",
       "      <td>0.621378</td>\n",
       "      <td>0.897845</td>\n",
       "      <td>1.174312</td>\n",
       "      <td>1.450778</td>\n",
       "      <td>1.727245</td>\n",
       "    </tr>\n",
       "  </tbody>\n",
       "</table>\n",
       "</div>"
      ],
      "text/plain": [
       "         count      mean       std       min       25%       50%       75%  \\\n",
       "Cluster                                                                      \n",
       "0        755.0 -1.142333  0.338924 -1.694030 -1.417564 -1.141097 -0.830072   \n",
       "1        740.0  0.030758  0.331333 -0.553605 -0.242580  0.033887  0.275795   \n",
       "2        717.0  1.171131  0.323526  0.621378  0.897845  1.174312  1.450778   \n",
       "\n",
       "              max  \n",
       "Cluster            \n",
       "0       -0.588164  \n",
       "1        0.586820  \n",
       "2        1.727245  "
      ]
     },
     "execution_count": 13,
     "metadata": {},
     "output_type": "execute_result"
    }
   ],
   "source": [
    "recency = order_cluster(recency, 'Cluster', 'value')\n",
    "recency.groupby('Cluster')['value'].describe()"
   ]
  },
  {
   "cell_type": "code",
   "execution_count": 14,
   "metadata": {
    "colab": {
     "base_uri": "https://localhost:8080/",
     "height": 0
    },
    "executionInfo": {
     "elapsed": 1372,
     "status": "ok",
     "timestamp": 1680273678605,
     "user": {
      "displayName": "Moch Nabil Farras Dhiya",
      "userId": "07901443483008169938"
     },
     "user_tz": -420
    },
    "id": "uYVaAlBLANNO",
    "outputId": "f2ad447d-06e8-44e0-fc10-5cff3b559ca0"
   },
   "outputs": [
    {
     "data": {
      "text/plain": [
       "Text(0.5, 1.0, 'Recency Distribution over Cluster')"
      ]
     },
     "execution_count": 14,
     "metadata": {},
     "output_type": "execute_result"
    },
    {
     "data": {
      "image/png": "[encoded data removed]",
      "text/plain": [
       "<Figure size 432x288 with 1 Axes>"
      ]
     },
     "metadata": {
      "needs_background": "light"
     },
     "output_type": "display_data"
    }
   ],
   "source": [
    "sns.scatterplot(x = 'Cluster', y = 'value', data = recency)\n",
    "plt.xlabel('Cluster')\n",
    "plt.ylabel('Recency')\n",
    "plt.title('Recency Distribution over Cluster')"
   ]
  },
  {
   "cell_type": "markdown",
   "metadata": {
    "id": "kISH4AEkB0XK"
   },
   "source": [
    "## Frequency"
   ]
  },
  {
   "cell_type": "markdown",
   "metadata": {
    "id": "yGHXX5BDB0XL"
   },
   "source": [
    "Then, we will calculate the optimal # of cluster using Elbow Method with Silhouette criterion."
   ]
  },
  {
   "cell_type": "code",
   "execution_count": 15,
   "metadata": {
    "colab": {
     "base_uri": "https://localhost:8080/",
     "height": 0
    },
    "executionInfo": {
     "elapsed": 7066,
     "status": "ok",
     "timestamp": 1680273685657,
     "user": {
      "displayName": "Moch Nabil Farras Dhiya",
      "userId": "07901443483008169938"
     },
     "user_tz": -420
    },
    "id": "h3H8AZJUB0XL",
    "outputId": "2b41db31-d553-4c01-e72a-446ef838e463"
   },
   "outputs": [
    {
     "data": {
      "image/png": "[encoded data removed]",
      "text/plain": [
       "<Figure size 432x288 with 2 Axes>"
      ]
     },
     "metadata": {},
     "output_type": "display_data"
    },
    {
     "data": {
      "text/plain": [
       "<AxesSubplot:title={'center':'Silhouette Score Elbow for KMeans Clustering'}, xlabel='k', ylabel='silhouette score'>"
      ]
     },
     "execution_count": 15,
     "metadata": {},
     "output_type": "execute_result"
    }
   ],
   "source": [
    "elbow_score_frequency = KElbowVisualizer(KMeans(), k = (2, 10), metric = 'silhouette')\n",
    "elbow_score_frequency.fit(frequency)\n",
    "elbow_score_frequency.show()"
   ]
  },
  {
   "cell_type": "code",
   "execution_count": 16,
   "metadata": {
    "colab": {
     "base_uri": "https://localhost:8080/",
     "height": 0
    },
    "executionInfo": {
     "elapsed": 30,
     "status": "ok",
     "timestamp": 1680273685658,
     "user": {
      "displayName": "Moch Nabil Farras Dhiya",
      "userId": "07901443483008169938"
     },
     "user_tz": -420
    },
    "id": "gOrJdvN6ASOG",
    "outputId": "d8535f7c-91d3-41ff-a14b-06d089a45faa"
   },
   "outputs": [
    {
     "data": {
      "text/plain": [
       "<AxesSubplot:xlabel='Frequency', ylabel='Count'>"
      ]
     },
     "execution_count": 16,
     "metadata": {},
     "output_type": "execute_result"
    },
    {
     "data": {
      "image/png": "[encoded data removed]",
      "text/plain": [
       "<Figure size 432x288 with 1 Axes>"
      ]
     },
     "metadata": {
      "needs_background": "light"
     },
     "output_type": "display_data"
    }
   ],
   "source": [
    "sns.histplot(x = 'Frequency', data = data)"
   ]
  },
  {
   "cell_type": "markdown",
   "metadata": {
    "id": "YsNf2XGZASOG"
   },
   "source": [
    "Though the silhouette criterion suggests that the optimum # of cluster is 2, but we will prefer to use 3 cluster because of the following reasons.\n",
    "1. We can distinguigh the customer behaviour better this way, since we notice that there are outliers among the customer when it comes to frequency.\n",
    "2. The silhouette does not differ much if we use 3 cluster instead of 2."
   ]
  },
  {
   "cell_type": "code",
   "execution_count": 17,
   "metadata": {
    "colab": {
     "base_uri": "https://localhost:8080/",
     "height": 0
    },
    "executionInfo": {
     "elapsed": 27,
     "status": "ok",
     "timestamp": 1680273685659,
     "user": {
      "displayName": "Moch Nabil Farras Dhiya",
      "userId": "07901443483008169938"
     },
     "user_tz": -420
    },
    "id": "CI1RiY3gB0XL",
    "outputId": "9ca96319-735a-403b-d08e-a95e24cf4a43"
   },
   "outputs": [
    {
     "data": {
      "text/html": [
       "<div>\n",
       "<style scoped>\n",
       "    .dataframe tbody tr th:only-of-type {\n",
       "        vertical-align: middle;\n",
       "    }\n",
       "\n",
       "    .dataframe tbody tr th {\n",
       "        vertical-align: top;\n",
       "    }\n",
       "\n",
       "    .dataframe thead th {\n",
       "        text-align: right;\n",
       "    }\n",
       "</style>\n",
       "<table border=\"1\" class=\"dataframe\">\n",
       "  <thead>\n",
       "    <tr style=\"text-align: right;\">\n",
       "      <th></th>\n",
       "      <th>count</th>\n",
       "      <th>mean</th>\n",
       "      <th>std</th>\n",
       "      <th>min</th>\n",
       "      <th>25%</th>\n",
       "      <th>50%</th>\n",
       "      <th>75%</th>\n",
       "      <th>max</th>\n",
       "    </tr>\n",
       "    <tr>\n",
       "      <th>Cluster</th>\n",
       "      <th></th>\n",
       "      <th></th>\n",
       "      <th></th>\n",
       "      <th></th>\n",
       "      <th></th>\n",
       "      <th></th>\n",
       "      <th></th>\n",
       "      <th></th>\n",
       "    </tr>\n",
       "  </thead>\n",
       "  <tbody>\n",
       "    <tr>\n",
       "      <th>0</th>\n",
       "      <td>841.0</td>\n",
       "      <td>0.246620</td>\n",
       "      <td>0.358352</td>\n",
       "      <td>-0.303974</td>\n",
       "      <td>-0.029249</td>\n",
       "      <td>0.245476</td>\n",
       "      <td>0.520201</td>\n",
       "      <td>0.794926</td>\n",
       "    </tr>\n",
       "    <tr>\n",
       "      <th>1</th>\n",
       "      <td>457.0</td>\n",
       "      <td>1.473623</td>\n",
       "      <td>0.479709</td>\n",
       "      <td>0.932289</td>\n",
       "      <td>1.069651</td>\n",
       "      <td>1.344376</td>\n",
       "      <td>1.756464</td>\n",
       "      <td>3.542176</td>\n",
       "    </tr>\n",
       "    <tr>\n",
       "      <th>2</th>\n",
       "      <td>914.0</td>\n",
       "      <td>-0.963734</td>\n",
       "      <td>0.341908</td>\n",
       "      <td>-2.776498</td>\n",
       "      <td>-1.128148</td>\n",
       "      <td>-0.990786</td>\n",
       "      <td>-0.716061</td>\n",
       "      <td>-0.441336</td>\n",
       "    </tr>\n",
       "  </tbody>\n",
       "</table>\n",
       "</div>"
      ],
      "text/plain": [
       "         count      mean       std       min       25%       50%       75%  \\\n",
       "Cluster                                                                      \n",
       "0        841.0  0.246620  0.358352 -0.303974 -0.029249  0.245476  0.520201   \n",
       "1        457.0  1.473623  0.479709  0.932289  1.069651  1.344376  1.756464   \n",
       "2        914.0 -0.963734  0.341908 -2.776498 -1.128148 -0.990786 -0.716061   \n",
       "\n",
       "              max  \n",
       "Cluster            \n",
       "0        0.794926  \n",
       "1        3.542176  \n",
       "2       -0.441336  "
      ]
     },
     "execution_count": 17,
     "metadata": {},
     "output_type": "execute_result"
    }
   ],
   "source": [
    "kmeans_frequency = KMeans(n_clusters = 3, random_state = 32, max_iter = 500)\n",
    "kmeans_frequency_cluster = kmeans_frequency.fit_predict(frequency.values)\n",
    "\n",
    "frequency['ID'] = data['ID']\n",
    "frequency['Cluster'] = kmeans_frequency_cluster\n",
    "frequency.groupby('Cluster')['value'].describe()"
   ]
  },
  {
   "cell_type": "code",
   "execution_count": 18,
   "metadata": {
    "colab": {
     "base_uri": "https://localhost:8080/",
     "height": 0
    },
    "executionInfo": {
     "elapsed": 25,
     "status": "ok",
     "timestamp": 1680273685660,
     "user": {
      "displayName": "Moch Nabil Farras Dhiya",
      "userId": "07901443483008169938"
     },
     "user_tz": -420
    },
    "id": "mE8H7LflASOH",
    "outputId": "4a6a5385-5a02-4c13-bf62-9f70b8700e34"
   },
   "outputs": [
    {
     "data": {
      "text/html": [
       "<div>\n",
       "<style scoped>\n",
       "    .dataframe tbody tr th:only-of-type {\n",
       "        vertical-align: middle;\n",
       "    }\n",
       "\n",
       "    .dataframe tbody tr th {\n",
       "        vertical-align: top;\n",
       "    }\n",
       "\n",
       "    .dataframe thead th {\n",
       "        text-align: right;\n",
       "    }\n",
       "</style>\n",
       "<table border=\"1\" class=\"dataframe\">\n",
       "  <thead>\n",
       "    <tr style=\"text-align: right;\">\n",
       "      <th></th>\n",
       "      <th>count</th>\n",
       "      <th>mean</th>\n",
       "      <th>std</th>\n",
       "      <th>min</th>\n",
       "      <th>25%</th>\n",
       "      <th>50%</th>\n",
       "      <th>75%</th>\n",
       "      <th>max</th>\n",
       "    </tr>\n",
       "    <tr>\n",
       "      <th>Cluster</th>\n",
       "      <th></th>\n",
       "      <th></th>\n",
       "      <th></th>\n",
       "      <th></th>\n",
       "      <th></th>\n",
       "      <th></th>\n",
       "      <th></th>\n",
       "      <th></th>\n",
       "    </tr>\n",
       "  </thead>\n",
       "  <tbody>\n",
       "    <tr>\n",
       "      <th>0</th>\n",
       "      <td>914.0</td>\n",
       "      <td>-0.963734</td>\n",
       "      <td>0.341908</td>\n",
       "      <td>-2.776498</td>\n",
       "      <td>-1.128148</td>\n",
       "      <td>-0.990786</td>\n",
       "      <td>-0.716061</td>\n",
       "      <td>-0.441336</td>\n",
       "    </tr>\n",
       "    <tr>\n",
       "      <th>1</th>\n",
       "      <td>841.0</td>\n",
       "      <td>0.246620</td>\n",
       "      <td>0.358352</td>\n",
       "      <td>-0.303974</td>\n",
       "      <td>-0.029249</td>\n",
       "      <td>0.245476</td>\n",
       "      <td>0.520201</td>\n",
       "      <td>0.794926</td>\n",
       "    </tr>\n",
       "    <tr>\n",
       "      <th>2</th>\n",
       "      <td>457.0</td>\n",
       "      <td>1.473623</td>\n",
       "      <td>0.479709</td>\n",
       "      <td>0.932289</td>\n",
       "      <td>1.069651</td>\n",
       "      <td>1.344376</td>\n",
       "      <td>1.756464</td>\n",
       "      <td>3.542176</td>\n",
       "    </tr>\n",
       "  </tbody>\n",
       "</table>\n",
       "</div>"
      ],
      "text/plain": [
       "         count      mean       std       min       25%       50%       75%  \\\n",
       "Cluster                                                                      \n",
       "0        914.0 -0.963734  0.341908 -2.776498 -1.128148 -0.990786 -0.716061   \n",
       "1        841.0  0.246620  0.358352 -0.303974 -0.029249  0.245476  0.520201   \n",
       "2        457.0  1.473623  0.479709  0.932289  1.069651  1.344376  1.756464   \n",
       "\n",
       "              max  \n",
       "Cluster            \n",
       "0       -0.441336  \n",
       "1        0.794926  \n",
       "2        3.542176  "
      ]
     },
     "execution_count": 18,
     "metadata": {},
     "output_type": "execute_result"
    }
   ],
   "source": [
    "frequency = order_cluster(frequency, 'Cluster', 'value')\n",
    "frequency.groupby('Cluster')['value'].describe()"
   ]
  },
  {
   "cell_type": "code",
   "execution_count": 19,
   "metadata": {
    "colab": {
     "base_uri": "https://localhost:8080/",
     "height": 0
    },
    "executionInfo": {
     "elapsed": 2122,
     "status": "ok",
     "timestamp": 1680273687760,
     "user": {
      "displayName": "Moch Nabil Farras Dhiya",
      "userId": "07901443483008169938"
     },
     "user_tz": -420
    },
    "id": "q5VeM4yxB0XM",
    "outputId": "5273f748-5ee7-45a5-fcb4-a6bd349901af"
   },
   "outputs": [
    {
     "data": {
      "text/plain": [
       "Text(0.5, 1.0, 'Frequency Distribution over Cluster')"
      ]
     },
     "execution_count": 19,
     "metadata": {},
     "output_type": "execute_result"
    },
    {
     "data": {
      "image/png": "[encoded data removed]",
      "text/plain": [
       "<Figure size 432x288 with 1 Axes>"
      ]
     },
     "metadata": {
      "needs_background": "light"
     },
     "output_type": "display_data"
    }
   ],
   "source": [
    "sns.scatterplot(x = 'Cluster', y = 'value', data = frequency)\n",
    "plt.xlabel('Cluster')\n",
    "plt.ylabel('Frequency')\n",
    "plt.title('Frequency Distribution over Cluster')"
   ]
  },
  {
   "cell_type": "markdown",
   "metadata": {
    "id": "24FOz3fYB1jE"
   },
   "source": [
    "## Monetary"
   ]
  },
  {
   "cell_type": "markdown",
   "metadata": {
    "id": "ou9LUIiRB1jF"
   },
   "source": [
    "Then, we will calculate the optimal # of cluster using Elbow Method with Silhouette criterion."
   ]
  },
  {
   "cell_type": "markdown",
   "metadata": {
    "id": "_B-wWEs3ASOH"
   },
   "source": [
    "### Wines"
   ]
  },
  {
   "cell_type": "code",
   "execution_count": 20,
   "metadata": {
    "colab": {
     "base_uri": "https://localhost:8080/",
     "height": 0
    },
    "executionInfo": {
     "elapsed": 9464,
     "status": "ok",
     "timestamp": 1680273697216,
     "user": {
      "displayName": "Moch Nabil Farras Dhiya",
      "userId": "07901443483008169938"
     },
     "user_tz": -420
    },
    "id": "7fQGzGkLB1jF",
    "outputId": "6aeb1fa1-457f-454b-e520-ca9c6d24ff6f"
   },
   "outputs": [
    {
     "data": {
      "image/png": "[encoded data removed]",
      "text/plain": [
       "<Figure size 432x288 with 2 Axes>"
      ]
     },
     "metadata": {},
     "output_type": "display_data"
    },
    {
     "data": {
      "text/plain": [
       "<AxesSubplot:title={'center':'Silhouette Score Elbow for KMeans Clustering'}, xlabel='k', ylabel='silhouette score'>"
      ]
     },
     "execution_count": 20,
     "metadata": {},
     "output_type": "execute_result"
    }
   ],
   "source": [
    "elbow_score_monetary_wines = KElbowVisualizer(KMeans(), k = (2, 10), metric = 'silhouette')\n",
    "elbow_score_monetary_wines.fit(monetary_wines)\n",
    "elbow_score_monetary_wines.show()"
   ]
  },
  {
   "cell_type": "code",
   "execution_count": 21,
   "metadata": {
    "colab": {
     "base_uri": "https://localhost:8080/",
     "height": 0
    },
    "executionInfo": {
     "elapsed": 1604,
     "status": "ok",
     "timestamp": 1680273698814,
     "user": {
      "displayName": "Moch Nabil Farras Dhiya",
      "userId": "07901443483008169938"
     },
     "user_tz": -420
    },
    "id": "uN2JhzSBASOI",
    "outputId": "7eb9e52b-ffa3-4b1d-824d-15733cebe829"
   },
   "outputs": [
    {
     "data": {
      "text/plain": [
       "<AxesSubplot:xlabel='Wines', ylabel='Count'>"
      ]
     },
     "execution_count": 21,
     "metadata": {},
     "output_type": "execute_result"
    },
    {
     "data": {
      "image/png": "[encoded data removed]",
      "text/plain": [
       "<Figure size 432x288 with 1 Axes>"
      ]
     },
     "metadata": {
      "needs_background": "light"
     },
     "output_type": "display_data"
    }
   ],
   "source": [
    "sns.histplot(x = 'Wines', data = data)"
   ]
  },
  {
   "cell_type": "markdown",
   "metadata": {
    "id": "D5M3LLWqASOI"
   },
   "source": [
    "Though the silhouette criterion suggests that the optimum # of cluster is 2, but we will prefer to use 3 cluster because of the following reasons.\n",
    "1. We can distinguigh the customer behaviour better this way, since we notice that the distribution of the monetary among the customers are very diverge.\n",
    "2. The silhouette does not differ much if we use 3 cluster instead of 2."
   ]
  },
  {
   "cell_type": "code",
   "execution_count": 22,
   "metadata": {
    "colab": {
     "base_uri": "https://localhost:8080/",
     "height": 0
    },
    "executionInfo": {
     "elapsed": 12,
     "status": "ok",
     "timestamp": 1680273698815,
     "user": {
      "displayName": "Moch Nabil Farras Dhiya",
      "userId": "07901443483008169938"
     },
     "user_tz": -420
    },
    "id": "6_6fmdEKB1jG",
    "outputId": "56c01f72-61ce-4777-ebf6-26a8acfde7a0"
   },
   "outputs": [
    {
     "name": "stderr",
     "output_type": "stream",
     "text": [
      "C:\\Users\\c640\\AppData\\Local\\Temp\\ipykernel_29040\\3493507120.py:4: SettingWithCopyWarning: \n",
      "A value is trying to be set on a copy of a slice from a DataFrame.\n",
      "Try using .loc[row_indexer,col_indexer] = value instead\n",
      "\n",
      "See the caveats in the documentation: https://pandas.pydata.org/pandas-docs/stable/user_guide/indexing.html#returning-a-view-versus-a-copy\n",
      "  monetary['wines_value'] = monetary_wines.value\n",
      "C:\\Users\\c640\\AppData\\Local\\Temp\\ipykernel_29040\\3493507120.py:5: SettingWithCopyWarning: \n",
      "A value is trying to be set on a copy of a slice from a DataFrame.\n",
      "Try using .loc[row_indexer,col_indexer] = value instead\n",
      "\n",
      "See the caveats in the documentation: https://pandas.pydata.org/pandas-docs/stable/user_guide/indexing.html#returning-a-view-versus-a-copy\n",
      "  monetary['Wines_Cluster'] = kmeans_monetary_wines_cluster\n"
     ]
    },
    {
     "data": {
      "text/html": [
       "<div>\n",
       "<style scoped>\n",
       "    .dataframe tbody tr th:only-of-type {\n",
       "        vertical-align: middle;\n",
       "    }\n",
       "\n",
       "    .dataframe tbody tr th {\n",
       "        vertical-align: top;\n",
       "    }\n",
       "\n",
       "    .dataframe thead th {\n",
       "        text-align: right;\n",
       "    }\n",
       "</style>\n",
       "<table border=\"1\" class=\"dataframe\">\n",
       "  <thead>\n",
       "    <tr style=\"text-align: right;\">\n",
       "      <th></th>\n",
       "      <th>count</th>\n",
       "      <th>mean</th>\n",
       "      <th>std</th>\n",
       "      <th>min</th>\n",
       "      <th>25%</th>\n",
       "      <th>50%</th>\n",
       "      <th>75%</th>\n",
       "      <th>max</th>\n",
       "    </tr>\n",
       "    <tr>\n",
       "      <th>Wines_Cluster</th>\n",
       "      <th></th>\n",
       "      <th></th>\n",
       "      <th></th>\n",
       "      <th></th>\n",
       "      <th></th>\n",
       "      <th></th>\n",
       "      <th></th>\n",
       "      <th></th>\n",
       "    </tr>\n",
       "  </thead>\n",
       "  <tbody>\n",
       "    <tr>\n",
       "      <th>0</th>\n",
       "      <td>1303.0</td>\n",
       "      <td>-0.693344</td>\n",
       "      <td>0.232503</td>\n",
       "      <td>-0.905235</td>\n",
       "      <td>-0.875583</td>\n",
       "      <td>-0.807384</td>\n",
       "      <td>-0.544965</td>\n",
       "      <td>-0.095739</td>\n",
       "    </tr>\n",
       "    <tr>\n",
       "      <th>1</th>\n",
       "      <td>603.0</td>\n",
       "      <td>0.497643</td>\n",
       "      <td>0.368100</td>\n",
       "      <td>-0.092773</td>\n",
       "      <td>0.194850</td>\n",
       "      <td>0.464682</td>\n",
       "      <td>0.787888</td>\n",
       "      <td>1.235631</td>\n",
       "    </tr>\n",
       "    <tr>\n",
       "      <th>2</th>\n",
       "      <td>306.0</td>\n",
       "      <td>1.971725</td>\n",
       "      <td>0.557202</td>\n",
       "      <td>1.241561</td>\n",
       "      <td>1.514359</td>\n",
       "      <td>1.889455</td>\n",
       "      <td>2.279377</td>\n",
       "      <td>3.521791</td>\n",
       "    </tr>\n",
       "  </tbody>\n",
       "</table>\n",
       "</div>"
      ],
      "text/plain": [
       "                count      mean       std       min       25%       50%  \\\n",
       "Wines_Cluster                                                             \n",
       "0              1303.0 -0.693344  0.232503 -0.905235 -0.875583 -0.807384   \n",
       "1               603.0  0.497643  0.368100 -0.092773  0.194850  0.464682   \n",
       "2               306.0  1.971725  0.557202  1.241561  1.514359  1.889455   \n",
       "\n",
       "                    75%       max  \n",
       "Wines_Cluster                      \n",
       "0             -0.544965 -0.095739  \n",
       "1              0.787888  1.235631  \n",
       "2              2.279377  3.521791  "
      ]
     },
     "execution_count": 22,
     "metadata": {},
     "output_type": "execute_result"
    }
   ],
   "source": [
    "kmeans_monetary_wines = KMeans(n_clusters = 3, random_state = 32, max_iter = 500)\n",
    "kmeans_monetary_wines_cluster = kmeans_monetary_wines.fit_predict(monetary_wines.values)\n",
    "\n",
    "monetary['wines_value'] = monetary_wines.value\n",
    "monetary['Wines_Cluster'] = kmeans_monetary_wines_cluster\n",
    "monetary.groupby('Wines_Cluster')['wines_value'].describe()"
   ]
  },
  {
   "cell_type": "markdown",
   "metadata": {
    "id": "Af1UDxVkAWuG"
   },
   "source": [
    "### Fruits"
   ]
  },
  {
   "cell_type": "code",
   "execution_count": 23,
   "metadata": {
    "colab": {
     "base_uri": "https://localhost:8080/",
     "height": 0
    },
    "executionInfo": {
     "elapsed": 7135,
     "status": "ok",
     "timestamp": 1680273705941,
     "user": {
      "displayName": "Moch Nabil Farras Dhiya",
      "userId": "07901443483008169938"
     },
     "user_tz": -420
    },
    "id": "UzGaS_xRAWuH",
    "outputId": "590dac80-31e2-40d2-f85a-65556331b173"
   },
   "outputs": [
    {
     "data": {
      "image/png": "[encoded data removed]",
      "text/plain": [
       "<Figure size 432x288 with 2 Axes>"
      ]
     },
     "metadata": {},
     "output_type": "display_data"
    },
    {
     "data": {
      "text/plain": [
       "<AxesSubplot:title={'center':'Silhouette Score Elbow for KMeans Clustering'}, xlabel='k', ylabel='silhouette score'>"
      ]
     },
     "execution_count": 23,
     "metadata": {},
     "output_type": "execute_result"
    }
   ],
   "source": [
    "elbow_score_monetary_fruits = KElbowVisualizer(KMeans(), k = (2, 10), metric = 'silhouette')\n",
    "elbow_score_monetary_fruits.fit(monetary_fruits)\n",
    "elbow_score_monetary_fruits.show()"
   ]
  },
  {
   "cell_type": "code",
   "execution_count": 24,
   "metadata": {
    "colab": {
     "base_uri": "https://localhost:8080/",
     "height": 0
    },
    "executionInfo": {
     "elapsed": 34,
     "status": "ok",
     "timestamp": 1680273705942,
     "user": {
      "displayName": "Moch Nabil Farras Dhiya",
      "userId": "07901443483008169938"
     },
     "user_tz": -420
    },
    "id": "NsCOBoaQAWuH",
    "outputId": "cf429a3c-0bdc-4711-fa1c-2fbf1c969f5e"
   },
   "outputs": [
    {
     "data": {
      "text/plain": [
       "<AxesSubplot:xlabel='Fruits', ylabel='Count'>"
      ]
     },
     "execution_count": 24,
     "metadata": {},
     "output_type": "execute_result"
    },
    {
     "data": {
      "image/png": "[encoded data removed]",
      "text/plain": [
       "<Figure size 432x288 with 1 Axes>"
      ]
     },
     "metadata": {
      "needs_background": "light"
     },
     "output_type": "display_data"
    }
   ],
   "source": [
    "sns.histplot(x = 'Fruits', data = data)"
   ]
  },
  {
   "cell_type": "markdown",
   "metadata": {
    "id": "6emLhczzAWuH"
   },
   "source": [
    "Though the silhouette criterion suggests that the optimum # of cluster is 2, but we will prefer to use 3 cluster because of the following reasons.\n",
    "1. We can distinguigh the customer behaviour better this way, since we notice that the distribution of the monetary among the customers are very diverge.\n",
    "2. The silhouette does not differ much if we use 3 cluster instead of 2."
   ]
  },
  {
   "cell_type": "code",
   "execution_count": 25,
   "metadata": {
    "colab": {
     "base_uri": "https://localhost:8080/",
     "height": 0
    },
    "executionInfo": {
     "elapsed": 25,
     "status": "ok",
     "timestamp": 1680273705942,
     "user": {
      "displayName": "Moch Nabil Farras Dhiya",
      "userId": "07901443483008169938"
     },
     "user_tz": -420
    },
    "id": "cGZSAzgcAWuH",
    "outputId": "5cce180b-ec2b-4ae2-b86f-5b8e0cce0a6f"
   },
   "outputs": [
    {
     "name": "stderr",
     "output_type": "stream",
     "text": [
      "C:\\Users\\c640\\AppData\\Local\\Temp\\ipykernel_29040\\1230450939.py:4: SettingWithCopyWarning: \n",
      "A value is trying to be set on a copy of a slice from a DataFrame.\n",
      "Try using .loc[row_indexer,col_indexer] = value instead\n",
      "\n",
      "See the caveats in the documentation: https://pandas.pydata.org/pandas-docs/stable/user_guide/indexing.html#returning-a-view-versus-a-copy\n",
      "  monetary['fruits_value'] = monetary_fruits.value\n",
      "C:\\Users\\c640\\AppData\\Local\\Temp\\ipykernel_29040\\1230450939.py:5: SettingWithCopyWarning: \n",
      "A value is trying to be set on a copy of a slice from a DataFrame.\n",
      "Try using .loc[row_indexer,col_indexer] = value instead\n",
      "\n",
      "See the caveats in the documentation: https://pandas.pydata.org/pandas-docs/stable/user_guide/indexing.html#returning-a-view-versus-a-copy\n",
      "  monetary['Fruits_Cluster'] = kmeans_monetary_fruits_cluster\n"
     ]
    },
    {
     "data": {
      "text/html": [
       "<div>\n",
       "<style scoped>\n",
       "    .dataframe tbody tr th:only-of-type {\n",
       "        vertical-align: middle;\n",
       "    }\n",
       "\n",
       "    .dataframe tbody tr th {\n",
       "        vertical-align: top;\n",
       "    }\n",
       "\n",
       "    .dataframe thead th {\n",
       "        text-align: right;\n",
       "    }\n",
       "</style>\n",
       "<table border=\"1\" class=\"dataframe\">\n",
       "  <thead>\n",
       "    <tr style=\"text-align: right;\">\n",
       "      <th></th>\n",
       "      <th>count</th>\n",
       "      <th>mean</th>\n",
       "      <th>std</th>\n",
       "      <th>min</th>\n",
       "      <th>25%</th>\n",
       "      <th>50%</th>\n",
       "      <th>75%</th>\n",
       "      <th>max</th>\n",
       "    </tr>\n",
       "    <tr>\n",
       "      <th>Fruits_Cluster</th>\n",
       "      <th></th>\n",
       "      <th></th>\n",
       "      <th></th>\n",
       "      <th></th>\n",
       "      <th></th>\n",
       "      <th></th>\n",
       "      <th></th>\n",
       "      <th></th>\n",
       "    </tr>\n",
       "  </thead>\n",
       "  <tbody>\n",
       "    <tr>\n",
       "      <th>0</th>\n",
       "      <td>1642.0</td>\n",
       "      <td>-0.481342</td>\n",
       "      <td>0.207351</td>\n",
       "      <td>-0.662628</td>\n",
       "      <td>-0.637461</td>\n",
       "      <td>-0.561961</td>\n",
       "      <td>-0.366919</td>\n",
       "      <td>0.117539</td>\n",
       "    </tr>\n",
       "    <tr>\n",
       "      <th>1</th>\n",
       "      <td>183.0</td>\n",
       "      <td>2.741063</td>\n",
       "      <td>0.716931</td>\n",
       "      <td>1.753374</td>\n",
       "      <td>2.055374</td>\n",
       "      <td>2.659375</td>\n",
       "      <td>3.288542</td>\n",
       "      <td>4.345543</td>\n",
       "    </tr>\n",
       "    <tr>\n",
       "      <th>2</th>\n",
       "      <td>387.0</td>\n",
       "      <td>0.746121</td>\n",
       "      <td>0.446824</td>\n",
       "      <td>0.142706</td>\n",
       "      <td>0.369206</td>\n",
       "      <td>0.671206</td>\n",
       "      <td>1.124207</td>\n",
       "      <td>1.677874</td>\n",
       "    </tr>\n",
       "  </tbody>\n",
       "</table>\n",
       "</div>"
      ],
      "text/plain": [
       "                 count      mean       std       min       25%       50%  \\\n",
       "Fruits_Cluster                                                             \n",
       "0               1642.0 -0.481342  0.207351 -0.662628 -0.637461 -0.561961   \n",
       "1                183.0  2.741063  0.716931  1.753374  2.055374  2.659375   \n",
       "2                387.0  0.746121  0.446824  0.142706  0.369206  0.671206   \n",
       "\n",
       "                     75%       max  \n",
       "Fruits_Cluster                      \n",
       "0              -0.366919  0.117539  \n",
       "1               3.288542  4.345543  \n",
       "2               1.124207  1.677874  "
      ]
     },
     "execution_count": 25,
     "metadata": {},
     "output_type": "execute_result"
    }
   ],
   "source": [
    "kmeans_monetary_fruits = KMeans(n_clusters = 3, random_state = 32, max_iter = 500)\n",
    "kmeans_monetary_fruits_cluster = kmeans_monetary_fruits.fit_predict(monetary_fruits.values)\n",
    "\n",
    "monetary['fruits_value'] = monetary_fruits.value\n",
    "monetary['Fruits_Cluster'] = kmeans_monetary_fruits_cluster\n",
    "monetary.groupby('Fruits_Cluster')['fruits_value'].describe()"
   ]
  },
  {
   "cell_type": "markdown",
   "metadata": {
    "id": "13QtZUH6AXF2"
   },
   "source": [
    "### Meat"
   ]
  },
  {
   "cell_type": "code",
   "execution_count": 26,
   "metadata": {
    "colab": {
     "base_uri": "https://localhost:8080/",
     "height": 0
    },
    "executionInfo": {
     "elapsed": 987,
     "status": "ok",
     "timestamp": 1680273706910,
     "user": {
      "displayName": "Moch Nabil Farras Dhiya",
      "userId": "07901443483008169938"
     },
     "user_tz": -420
    },
    "id": "_Bu8K2lqAXF3",
    "outputId": "b7712212-b906-4330-8a72-4213ae1f6785"
   },
   "outputs": [
    {
     "data": {
      "image/png": "[encoded data removed]",
      "text/plain": [
       "<Figure size 432x288 with 2 Axes>"
      ]
     },
     "metadata": {},
     "output_type": "display_data"
    },
    {
     "data": {
      "text/plain": [
       "<AxesSubplot:title={'center':'Silhouette Score Elbow for KMeans Clustering'}, xlabel='k', ylabel='silhouette score'>"
      ]
     },
     "execution_count": 26,
     "metadata": {},
     "output_type": "execute_result"
    }
   ],
   "source": [
    "elbow_score_monetary_meat = KElbowVisualizer(KMeans(), k = (2, 10), metric = 'silhouette')\n",
    "elbow_score_monetary_meat.fit(monetary_meat)\n",
    "elbow_score_monetary_meat.show()"
   ]
  },
  {
   "cell_type": "code",
   "execution_count": 27,
   "metadata": {
    "colab": {
     "base_uri": "https://localhost:8080/",
     "height": 0
    },
    "executionInfo": {
     "elapsed": 1322,
     "status": "ok",
     "timestamp": 1680273708221,
     "user": {
      "displayName": "Moch Nabil Farras Dhiya",
      "userId": "07901443483008169938"
     },
     "user_tz": -420
    },
    "id": "Lxh4f6tQAXF4",
    "outputId": "beb5247c-3cae-440e-c4ed-b07215174a70"
   },
   "outputs": [
    {
     "data": {
      "text/plain": [
       "<AxesSubplot:xlabel='Meat', ylabel='Count'>"
      ]
     },
     "execution_count": 27,
     "metadata": {},
     "output_type": "execute_result"
    },
    {
     "data": {
      "image/png": "[encoded data removed]",
      "text/plain": [
       "<Figure size 432x288 with 1 Axes>"
      ]
     },
     "metadata": {
      "needs_background": "light"
     },
     "output_type": "display_data"
    }
   ],
   "source": [
    "sns.histplot(x = 'Meat', data = data)"
   ]
  },
  {
   "cell_type": "markdown",
   "metadata": {
    "id": "njCE6Yr7AXF4"
   },
   "source": [
    "Though the silhouette criterion suggests that the optimum # of cluster is 2, but we will prefer to use 3 cluster because of the following reasons.\n",
    "1. We can distinguigh the customer behaviour better this way, since we notice that the distribution of the monetary among the customers are very diverge.\n",
    "2. The silhouette does not differ much if we use 3 cluster instead of 2."
   ]
  },
  {
   "cell_type": "code",
   "execution_count": 28,
   "metadata": {
    "colab": {
     "base_uri": "https://localhost:8080/",
     "height": 0
    },
    "executionInfo": {
     "elapsed": 11,
     "status": "ok",
     "timestamp": 1680273708222,
     "user": {
      "displayName": "Moch Nabil Farras Dhiya",
      "userId": "07901443483008169938"
     },
     "user_tz": -420
    },
    "id": "HXhDJ0lUAXF4",
    "outputId": "f5b06bc6-d242-4a40-bf47-0b9bb40206d7"
   },
   "outputs": [
    {
     "name": "stderr",
     "output_type": "stream",
     "text": [
      "C:\\Users\\c640\\AppData\\Local\\Temp\\ipykernel_29040\\3985754644.py:4: SettingWithCopyWarning: \n",
      "A value is trying to be set on a copy of a slice from a DataFrame.\n",
      "Try using .loc[row_indexer,col_indexer] = value instead\n",
      "\n",
      "See the caveats in the documentation: https://pandas.pydata.org/pandas-docs/stable/user_guide/indexing.html#returning-a-view-versus-a-copy\n",
      "  monetary['meat_value'] = monetary_meat.value\n",
      "C:\\Users\\c640\\AppData\\Local\\Temp\\ipykernel_29040\\3985754644.py:5: SettingWithCopyWarning: \n",
      "A value is trying to be set on a copy of a slice from a DataFrame.\n",
      "Try using .loc[row_indexer,col_indexer] = value instead\n",
      "\n",
      "See the caveats in the documentation: https://pandas.pydata.org/pandas-docs/stable/user_guide/indexing.html#returning-a-view-versus-a-copy\n",
      "  monetary['Meat_Cluster'] = kmeans_monetary_meat_cluster\n"
     ]
    },
    {
     "data": {
      "text/html": [
       "<div>\n",
       "<style scoped>\n",
       "    .dataframe tbody tr th:only-of-type {\n",
       "        vertical-align: middle;\n",
       "    }\n",
       "\n",
       "    .dataframe tbody tr th {\n",
       "        vertical-align: top;\n",
       "    }\n",
       "\n",
       "    .dataframe thead th {\n",
       "        text-align: right;\n",
       "    }\n",
       "</style>\n",
       "<table border=\"1\" class=\"dataframe\">\n",
       "  <thead>\n",
       "    <tr style=\"text-align: right;\">\n",
       "      <th></th>\n",
       "      <th>count</th>\n",
       "      <th>mean</th>\n",
       "      <th>std</th>\n",
       "      <th>min</th>\n",
       "      <th>25%</th>\n",
       "      <th>50%</th>\n",
       "      <th>75%</th>\n",
       "      <th>max</th>\n",
       "    </tr>\n",
       "    <tr>\n",
       "      <th>Meat_Cluster</th>\n",
       "      <th></th>\n",
       "      <th></th>\n",
       "      <th></th>\n",
       "      <th></th>\n",
       "      <th></th>\n",
       "      <th></th>\n",
       "      <th></th>\n",
       "      <th></th>\n",
       "    </tr>\n",
       "  </thead>\n",
       "  <tbody>\n",
       "    <tr>\n",
       "      <th>0</th>\n",
       "      <td>1577.0</td>\n",
       "      <td>-0.521225</td>\n",
       "      <td>0.222925</td>\n",
       "      <td>-0.744991</td>\n",
       "      <td>-0.695929</td>\n",
       "      <td>-0.624565</td>\n",
       "      <td>-0.388173</td>\n",
       "      <td>0.097992</td>\n",
       "    </tr>\n",
       "    <tr>\n",
       "      <th>1</th>\n",
       "      <td>198.0</td>\n",
       "      <td>2.515616</td>\n",
       "      <td>0.823293</td>\n",
       "      <td>1.636771</td>\n",
       "      <td>1.911075</td>\n",
       "      <td>2.408390</td>\n",
       "      <td>2.893440</td>\n",
       "      <td>6.948902</td>\n",
       "    </tr>\n",
       "    <tr>\n",
       "      <th>2</th>\n",
       "      <td>437.0</td>\n",
       "      <td>0.741142</td>\n",
       "      <td>0.424780</td>\n",
       "      <td>0.115833</td>\n",
       "      <td>0.365606</td>\n",
       "      <td>0.691202</td>\n",
       "      <td>1.101543</td>\n",
       "      <td>1.618930</td>\n",
       "    </tr>\n",
       "  </tbody>\n",
       "</table>\n",
       "</div>"
      ],
      "text/plain": [
       "               count      mean       std       min       25%       50%  \\\n",
       "Meat_Cluster                                                             \n",
       "0             1577.0 -0.521225  0.222925 -0.744991 -0.695929 -0.624565   \n",
       "1              198.0  2.515616  0.823293  1.636771  1.911075  2.408390   \n",
       "2              437.0  0.741142  0.424780  0.115833  0.365606  0.691202   \n",
       "\n",
       "                   75%       max  \n",
       "Meat_Cluster                      \n",
       "0            -0.388173  0.097992  \n",
       "1             2.893440  6.948902  \n",
       "2             1.101543  1.618930  "
      ]
     },
     "execution_count": 28,
     "metadata": {},
     "output_type": "execute_result"
    }
   ],
   "source": [
    "kmeans_monetary_meat = KMeans(n_clusters = 3, random_state = 32, max_iter = 500)\n",
    "kmeans_monetary_meat_cluster = kmeans_monetary_meat.fit_predict(monetary_meat.values)\n",
    "\n",
    "monetary['meat_value'] = monetary_meat.value\n",
    "monetary['Meat_Cluster'] = kmeans_monetary_meat_cluster\n",
    "monetary.groupby('Meat_Cluster')['meat_value'].describe()"
   ]
  },
  {
   "cell_type": "markdown",
   "metadata": {
    "id": "P9UPNguOAXTX"
   },
   "source": [
    "### Fish"
   ]
  },
  {
   "cell_type": "code",
   "execution_count": 29,
   "metadata": {
    "colab": {
     "base_uri": "https://localhost:8080/",
     "height": 0
    },
    "executionInfo": {
     "elapsed": 1073,
     "status": "ok",
     "timestamp": 1680273709286,
     "user": {
      "displayName": "Moch Nabil Farras Dhiya",
      "userId": "07901443483008169938"
     },
     "user_tz": -420
    },
    "id": "JK4LGI8gAXTX",
    "outputId": "22626366-e9c1-4308-9c8c-7cf91cd116d4"
   },
   "outputs": [
    {
     "data": {
      "image/png": "[encoded data removed]",
      "text/plain": [
       "<Figure size 432x288 with 2 Axes>"
      ]
     },
     "metadata": {},
     "output_type": "display_data"
    },
    {
     "data": {
      "text/plain": [
       "<AxesSubplot:title={'center':'Silhouette Score Elbow for KMeans Clustering'}, xlabel='k', ylabel='silhouette score'>"
      ]
     },
     "execution_count": 29,
     "metadata": {},
     "output_type": "execute_result"
    }
   ],
   "source": [
    "elbow_score_monetary_fish = KElbowVisualizer(KMeans(), k = (2, 10), metric = 'silhouette')\n",
    "elbow_score_monetary_fish.fit(monetary_fish)\n",
    "elbow_score_monetary_fish.show()"
   ]
  },
  {
   "cell_type": "code",
   "execution_count": 30,
   "metadata": {
    "colab": {
     "base_uri": "https://localhost:8080/",
     "height": 0
    },
    "executionInfo": {
     "elapsed": 1233,
     "status": "ok",
     "timestamp": 1680273710513,
     "user": {
      "displayName": "Moch Nabil Farras Dhiya",
      "userId": "07901443483008169938"
     },
     "user_tz": -420
    },
    "id": "VkdaPg-LAXTY",
    "outputId": "92ebbfb3-8d21-42db-923e-36df230fee14"
   },
   "outputs": [
    {
     "data": {
      "text/plain": [
       "<AxesSubplot:xlabel='Fish', ylabel='Count'>"
      ]
     },
     "execution_count": 30,
     "metadata": {},
     "output_type": "execute_result"
    },
    {
     "data": {
      "image/png": "[encoded data removed]",
      "text/plain": [
       "<Figure size 432x288 with 1 Axes>"
      ]
     },
     "metadata": {
      "needs_background": "light"
     },
     "output_type": "display_data"
    }
   ],
   "source": [
    "sns.histplot(x = 'Fish', data = data)"
   ]
  },
  {
   "cell_type": "markdown",
   "metadata": {
    "id": "KtutKC55AXTY"
   },
   "source": [
    "Though the silhouette criterion suggests that the optimum # of cluster is 2, but we will prefer to use 3 cluster because of the following reasons.\n",
    "1. We can distinguigh the customer behaviour better this way, since we notice that the distribution of the monetary among the customers are very diverge.\n",
    "2. The silhouette does not differ much if we use 3 cluster instead of 2."
   ]
  },
  {
   "cell_type": "code",
   "execution_count": 31,
   "metadata": {
    "colab": {
     "base_uri": "https://localhost:8080/",
     "height": 0
    },
    "executionInfo": {
     "elapsed": 17,
     "status": "ok",
     "timestamp": 1680273710514,
     "user": {
      "displayName": "Moch Nabil Farras Dhiya",
      "userId": "07901443483008169938"
     },
     "user_tz": -420
    },
    "id": "bcZG0_eLAXTY",
    "outputId": "a315b474-1ae9-4601-c83b-373e46c49e95"
   },
   "outputs": [
    {
     "name": "stderr",
     "output_type": "stream",
     "text": [
      "C:\\Users\\c640\\AppData\\Local\\Temp\\ipykernel_29040\\4179868079.py:4: SettingWithCopyWarning: \n",
      "A value is trying to be set on a copy of a slice from a DataFrame.\n",
      "Try using .loc[row_indexer,col_indexer] = value instead\n",
      "\n",
      "See the caveats in the documentation: https://pandas.pydata.org/pandas-docs/stable/user_guide/indexing.html#returning-a-view-versus-a-copy\n",
      "  monetary['fish_value'] = monetary_fish.value\n"
     ]
    },
    {
     "data": {
      "text/html": [
       "<div>\n",
       "<style scoped>\n",
       "    .dataframe tbody tr th:only-of-type {\n",
       "        vertical-align: middle;\n",
       "    }\n",
       "\n",
       "    .dataframe tbody tr th {\n",
       "        vertical-align: top;\n",
       "    }\n",
       "\n",
       "    .dataframe thead th {\n",
       "        text-align: right;\n",
       "    }\n",
       "</style>\n",
       "<table border=\"1\" class=\"dataframe\">\n",
       "  <thead>\n",
       "    <tr style=\"text-align: right;\">\n",
       "      <th></th>\n",
       "      <th>count</th>\n",
       "      <th>mean</th>\n",
       "      <th>std</th>\n",
       "      <th>min</th>\n",
       "      <th>25%</th>\n",
       "      <th>50%</th>\n",
       "      <th>75%</th>\n",
       "      <th>max</th>\n",
       "    </tr>\n",
       "    <tr>\n",
       "      <th>Fish_Cluster</th>\n",
       "      <th></th>\n",
       "      <th></th>\n",
       "      <th></th>\n",
       "      <th></th>\n",
       "      <th></th>\n",
       "      <th></th>\n",
       "      <th></th>\n",
       "      <th></th>\n",
       "    </tr>\n",
       "  </thead>\n",
       "  <tbody>\n",
       "    <tr>\n",
       "      <th>0</th>\n",
       "      <td>1620.0</td>\n",
       "      <td>-0.503626</td>\n",
       "      <td>0.206674</td>\n",
       "      <td>-0.687527</td>\n",
       "      <td>-0.651004</td>\n",
       "      <td>-0.577957</td>\n",
       "      <td>-0.395341</td>\n",
       "      <td>0.115984</td>\n",
       "    </tr>\n",
       "    <tr>\n",
       "      <th>1</th>\n",
       "      <td>206.0</td>\n",
       "      <td>2.578467</td>\n",
       "      <td>0.643600</td>\n",
       "      <td>1.668222</td>\n",
       "      <td>2.051716</td>\n",
       "      <td>2.471734</td>\n",
       "      <td>3.083498</td>\n",
       "      <td>4.042233</td>\n",
       "    </tr>\n",
       "    <tr>\n",
       "      <th>2</th>\n",
       "      <td>386.0</td>\n",
       "      <td>0.737589</td>\n",
       "      <td>0.418556</td>\n",
       "      <td>0.134246</td>\n",
       "      <td>0.389909</td>\n",
       "      <td>0.682095</td>\n",
       "      <td>1.083850</td>\n",
       "      <td>1.649961</td>\n",
       "    </tr>\n",
       "  </tbody>\n",
       "</table>\n",
       "</div>"
      ],
      "text/plain": [
       "               count      mean       std       min       25%       50%  \\\n",
       "Fish_Cluster                                                             \n",
       "0             1620.0 -0.503626  0.206674 -0.687527 -0.651004 -0.577957   \n",
       "1              206.0  2.578467  0.643600  1.668222  2.051716  2.471734   \n",
       "2              386.0  0.737589  0.418556  0.134246  0.389909  0.682095   \n",
       "\n",
       "                   75%       max  \n",
       "Fish_Cluster                      \n",
       "0            -0.395341  0.115984  \n",
       "1             3.083498  4.042233  \n",
       "2             1.083850  1.649961  "
      ]
     },
     "execution_count": 31,
     "metadata": {},
     "output_type": "execute_result"
    }
   ],
   "source": [
    "kmeans_monetary_fish = KMeans(n_clusters = 3, random_state = 32, max_iter = 500)\n",
    "kmeans_monetary_fish_cluster = kmeans_monetary_fish.fit_predict(monetary_fish.values)\n",
    "\n",
    "monetary['fish_value'] = monetary_fish.value\n",
    "monetary['Fish_Cluster'] = kmeans_monetary_fish_cluster\n",
    "monetary.groupby('Fish_Cluster')['fish_value'].describe()"
   ]
  },
  {
   "cell_type": "markdown",
   "metadata": {
    "id": "Fn98pfvUAXi6"
   },
   "source": [
    "### Sweets"
   ]
  },
  {
   "cell_type": "code",
   "execution_count": 32,
   "metadata": {
    "colab": {
     "base_uri": "https://localhost:8080/",
     "height": 0
    },
    "executionInfo": {
     "elapsed": 870,
     "status": "ok",
     "timestamp": 1680273711371,
     "user": {
      "displayName": "Moch Nabil Farras Dhiya",
      "userId": "07901443483008169938"
     },
     "user_tz": -420
    },
    "id": "4BOiN0E4AXi7",
    "outputId": "86ea700a-8604-4110-bfd3-6701ead78c19"
   },
   "outputs": [
    {
     "data": {
      "image/png": "[encoded data removed]",
      "text/plain": [
       "<Figure size 432x288 with 2 Axes>"
      ]
     },
     "metadata": {},
     "output_type": "display_data"
    },
    {
     "data": {
      "text/plain": [
       "<AxesSubplot:title={'center':'Silhouette Score Elbow for KMeans Clustering'}, xlabel='k', ylabel='silhouette score'>"
      ]
     },
     "execution_count": 32,
     "metadata": {},
     "output_type": "execute_result"
    }
   ],
   "source": [
    "elbow_score_monetary_sweets = KElbowVisualizer(KMeans(), k = (2, 10), metric = 'silhouette')\n",
    "elbow_score_monetary_sweets.fit(monetary_sweets)\n",
    "elbow_score_monetary_sweets.show()"
   ]
  },
  {
   "cell_type": "code",
   "execution_count": 33,
   "metadata": {
    "colab": {
     "base_uri": "https://localhost:8080/",
     "height": 0
    },
    "executionInfo": {
     "elapsed": 1476,
     "status": "ok",
     "timestamp": 1680273712834,
     "user": {
      "displayName": "Moch Nabil Farras Dhiya",
      "userId": "07901443483008169938"
     },
     "user_tz": -420
    },
    "id": "8yOss9lfAXi7",
    "outputId": "84835eb6-e399-4351-c972-5447c016f95f"
   },
   "outputs": [
    {
     "data": {
      "text/plain": [
       "<AxesSubplot:xlabel='Sweets', ylabel='Count'>"
      ]
     },
     "execution_count": 33,
     "metadata": {},
     "output_type": "execute_result"
    },
    {
     "data": {
      "image/png": "[encoded data removed]",
      "text/plain": [
       "<Figure size 432x288 with 1 Axes>"
      ]
     },
     "metadata": {
      "needs_background": "light"
     },
     "output_type": "display_data"
    }
   ],
   "source": [
    "sns.histplot(x = 'Sweets', data = data)"
   ]
  },
  {
   "cell_type": "markdown",
   "metadata": {
    "id": "WRsnq7tLAXi8"
   },
   "source": [
    "Though the silhouette criterion suggests that the optimum # of cluster is 2, but we will prefer to use 3 cluster because of the following reasons.\n",
    "1. We can distinguigh the customer behaviour better this way, since we notice that the distribution of the monetary among the customers are very diverge.\n",
    "2. The silhouette does not differ much if we use 3 cluster instead of 2."
   ]
  },
  {
   "cell_type": "code",
   "execution_count": 34,
   "metadata": {
    "colab": {
     "base_uri": "https://localhost:8080/",
     "height": 0
    },
    "executionInfo": {
     "elapsed": 14,
     "status": "ok",
     "timestamp": 1680273712835,
     "user": {
      "displayName": "Moch Nabil Farras Dhiya",
      "userId": "07901443483008169938"
     },
     "user_tz": -420
    },
    "id": "mqi7VhBzAXi8",
    "outputId": "0eb22762-02a6-48a0-98d9-bbc991e2ca78"
   },
   "outputs": [
    {
     "data": {
      "text/html": [
       "<div>\n",
       "<style scoped>\n",
       "    .dataframe tbody tr th:only-of-type {\n",
       "        vertical-align: middle;\n",
       "    }\n",
       "\n",
       "    .dataframe tbody tr th {\n",
       "        vertical-align: top;\n",
       "    }\n",
       "\n",
       "    .dataframe thead th {\n",
       "        text-align: right;\n",
       "    }\n",
       "</style>\n",
       "<table border=\"1\" class=\"dataframe\">\n",
       "  <thead>\n",
       "    <tr style=\"text-align: right;\">\n",
       "      <th></th>\n",
       "      <th>count</th>\n",
       "      <th>mean</th>\n",
       "      <th>std</th>\n",
       "      <th>min</th>\n",
       "      <th>25%</th>\n",
       "      <th>50%</th>\n",
       "      <th>75%</th>\n",
       "      <th>max</th>\n",
       "    </tr>\n",
       "    <tr>\n",
       "      <th>Sweets_Cluster</th>\n",
       "      <th></th>\n",
       "      <th></th>\n",
       "      <th></th>\n",
       "      <th></th>\n",
       "      <th></th>\n",
       "      <th></th>\n",
       "      <th></th>\n",
       "      <th></th>\n",
       "    </tr>\n",
       "  </thead>\n",
       "  <tbody>\n",
       "    <tr>\n",
       "      <th>0</th>\n",
       "      <td>1660.0</td>\n",
       "      <td>-0.474918</td>\n",
       "      <td>0.213399</td>\n",
       "      <td>-0.658360</td>\n",
       "      <td>-0.634019</td>\n",
       "      <td>-0.560993</td>\n",
       "      <td>-0.366260</td>\n",
       "      <td>0.144917</td>\n",
       "    </tr>\n",
       "    <tr>\n",
       "      <th>1</th>\n",
       "      <td>179.0</td>\n",
       "      <td>2.755058</td>\n",
       "      <td>0.703997</td>\n",
       "      <td>1.775813</td>\n",
       "      <td>2.153110</td>\n",
       "      <td>2.676458</td>\n",
       "      <td>3.260659</td>\n",
       "      <td>5.719175</td>\n",
       "    </tr>\n",
       "    <tr>\n",
       "      <th>2</th>\n",
       "      <td>373.0</td>\n",
       "      <td>0.791441</td>\n",
       "      <td>0.468103</td>\n",
       "      <td>0.169259</td>\n",
       "      <td>0.388334</td>\n",
       "      <td>0.704777</td>\n",
       "      <td>1.167270</td>\n",
       "      <td>1.751472</td>\n",
       "    </tr>\n",
       "  </tbody>\n",
       "</table>\n",
       "</div>"
      ],
      "text/plain": [
       "                 count      mean       std       min       25%       50%  \\\n",
       "Sweets_Cluster                                                             \n",
       "0               1660.0 -0.474918  0.213399 -0.658360 -0.634019 -0.560993   \n",
       "1                179.0  2.755058  0.703997  1.775813  2.153110  2.676458   \n",
       "2                373.0  0.791441  0.468103  0.169259  0.388334  0.704777   \n",
       "\n",
       "                     75%       max  \n",
       "Sweets_Cluster                      \n",
       "0              -0.366260  0.144917  \n",
       "1               3.260659  5.719175  \n",
       "2               1.167270  1.751472  "
      ]
     },
     "execution_count": 34,
     "metadata": {},
     "output_type": "execute_result"
    }
   ],
   "source": [
    "kmeans_monetary_sweets = KMeans(n_clusters = 3, random_state = 32, max_iter = 500)\n",
    "kmeans_monetary_sweets_cluster = kmeans_monetary_sweets.fit_predict(monetary_sweets.values)\n",
    "\n",
    "monetary['sweets_value'] = monetary_sweets.value\n",
    "monetary['Sweets_Cluster'] = kmeans_monetary_sweets_cluster\n",
    "monetary.groupby('Sweets_Cluster')['sweets_value'].describe()"
   ]
  },
  {
   "cell_type": "markdown",
   "metadata": {
    "id": "D28ki1kqAXuH"
   },
   "source": [
    "### Gold"
   ]
  },
  {
   "cell_type": "code",
   "execution_count": 35,
   "metadata": {
    "colab": {
     "base_uri": "https://localhost:8080/",
     "height": 0
    },
    "executionInfo": {
     "elapsed": 589,
     "status": "ok",
     "timestamp": 1680273713413,
     "user": {
      "displayName": "Moch Nabil Farras Dhiya",
      "userId": "07901443483008169938"
     },
     "user_tz": -420
    },
    "id": "U7PASDctAXuI",
    "outputId": "9544f7dd-1e56-465f-a90c-2bf9f6a543ff"
   },
   "outputs": [
    {
     "data": {
      "image/png": "[encoded data removed]",
      "text/plain": [
       "<Figure size 432x288 with 2 Axes>"
      ]
     },
     "metadata": {},
     "output_type": "display_data"
    },
    {
     "data": {
      "text/plain": [
       "<AxesSubplot:title={'center':'Silhouette Score Elbow for KMeans Clustering'}, xlabel='k', ylabel='silhouette score'>"
      ]
     },
     "execution_count": 35,
     "metadata": {},
     "output_type": "execute_result"
    }
   ],
   "source": [
    "elbow_score_monetary_gold = KElbowVisualizer(KMeans(), k = (2, 10), metric = 'silhouette')\n",
    "elbow_score_monetary_gold.fit(monetary_gold)\n",
    "elbow_score_monetary_gold.show()"
   ]
  },
  {
   "cell_type": "code",
   "execution_count": 36,
   "metadata": {
    "colab": {
     "base_uri": "https://localhost:8080/",
     "height": 0
    },
    "executionInfo": {
     "elapsed": 765,
     "status": "ok",
     "timestamp": 1680273714172,
     "user": {
      "displayName": "Moch Nabil Farras Dhiya",
      "userId": "07901443483008169938"
     },
     "user_tz": -420
    },
    "id": "wvE7fTepAXuI",
    "outputId": "a85d1dd1-2e3e-42a1-b5c1-ca0fd2fffb5b"
   },
   "outputs": [
    {
     "data": {
      "text/plain": [
       "<AxesSubplot:xlabel='Gold', ylabel='Count'>"
      ]
     },
     "execution_count": 36,
     "metadata": {},
     "output_type": "execute_result"
    },
    {
     "data": {
      "image/png": "[encoded data removed]",
      "text/plain": [
       "<Figure size 432x288 with 1 Axes>"
      ]
     },
     "metadata": {
      "needs_background": "light"
     },
     "output_type": "display_data"
    }
   ],
   "source": [
    "sns.histplot(x = 'Gold', data = data)"
   ]
  },
  {
   "cell_type": "markdown",
   "metadata": {
    "id": "GlhiBIIxAXuJ"
   },
   "source": [
    "Though the silhouette criterion suggests that the optimum # of cluster is 2, but we will prefer to use 3 cluster because of the following reasons.\n",
    "1. We can distinguigh the customer behaviour better this way, since we notice that the distribution of the monetary among the customers are very diverge.\n",
    "2. The silhouette does not differ much if we use 3 cluster instead of 2."
   ]
  },
  {
   "cell_type": "code",
   "execution_count": 37,
   "metadata": {
    "colab": {
     "base_uri": "https://localhost:8080/",
     "height": 0
    },
    "executionInfo": {
     "elapsed": 1009,
     "status": "ok",
     "timestamp": 1680273715176,
     "user": {
      "displayName": "Moch Nabil Farras Dhiya",
      "userId": "07901443483008169938"
     },
     "user_tz": -420
    },
    "id": "hMFriuYBAXuJ",
    "outputId": "a5cf05a5-944e-4482-a142-34f8dbcbbd1e"
   },
   "outputs": [
    {
     "data": {
      "text/html": [
       "<div>\n",
       "<style scoped>\n",
       "    .dataframe tbody tr th:only-of-type {\n",
       "        vertical-align: middle;\n",
       "    }\n",
       "\n",
       "    .dataframe tbody tr th {\n",
       "        vertical-align: top;\n",
       "    }\n",
       "\n",
       "    .dataframe thead th {\n",
       "        text-align: right;\n",
       "    }\n",
       "</style>\n",
       "<table border=\"1\" class=\"dataframe\">\n",
       "  <thead>\n",
       "    <tr style=\"text-align: right;\">\n",
       "      <th></th>\n",
       "      <th>count</th>\n",
       "      <th>mean</th>\n",
       "      <th>std</th>\n",
       "      <th>min</th>\n",
       "      <th>25%</th>\n",
       "      <th>50%</th>\n",
       "      <th>75%</th>\n",
       "      <th>max</th>\n",
       "    </tr>\n",
       "    <tr>\n",
       "      <th>Gold_Cluster</th>\n",
       "      <th></th>\n",
       "      <th></th>\n",
       "      <th></th>\n",
       "      <th></th>\n",
       "      <th></th>\n",
       "      <th></th>\n",
       "      <th></th>\n",
       "      <th></th>\n",
       "    </tr>\n",
       "  </thead>\n",
       "  <tbody>\n",
       "    <tr>\n",
       "      <th>0</th>\n",
       "      <td>1579.0</td>\n",
       "      <td>-0.514340</td>\n",
       "      <td>0.262072</td>\n",
       "      <td>-0.849707</td>\n",
       "      <td>-0.733642</td>\n",
       "      <td>-0.578889</td>\n",
       "      <td>-0.317744</td>\n",
       "      <td>0.078811</td>\n",
       "    </tr>\n",
       "    <tr>\n",
       "      <th>1</th>\n",
       "      <td>430.0</td>\n",
       "      <td>0.693639</td>\n",
       "      <td>0.430467</td>\n",
       "      <td>0.098155</td>\n",
       "      <td>0.291596</td>\n",
       "      <td>0.639790</td>\n",
       "      <td>1.026673</td>\n",
       "      <td>1.606996</td>\n",
       "    </tr>\n",
       "    <tr>\n",
       "      <th>2</th>\n",
       "      <td>203.0</td>\n",
       "      <td>2.531417</td>\n",
       "      <td>0.698948</td>\n",
       "      <td>1.626340</td>\n",
       "      <td>1.955190</td>\n",
       "      <td>2.438793</td>\n",
       "      <td>2.932069</td>\n",
       "      <td>5.359756</td>\n",
       "    </tr>\n",
       "  </tbody>\n",
       "</table>\n",
       "</div>"
      ],
      "text/plain": [
       "               count      mean       std       min       25%       50%  \\\n",
       "Gold_Cluster                                                             \n",
       "0             1579.0 -0.514340  0.262072 -0.849707 -0.733642 -0.578889   \n",
       "1              430.0  0.693639  0.430467  0.098155  0.291596  0.639790   \n",
       "2              203.0  2.531417  0.698948  1.626340  1.955190  2.438793   \n",
       "\n",
       "                   75%       max  \n",
       "Gold_Cluster                      \n",
       "0            -0.317744  0.078811  \n",
       "1             1.026673  1.606996  \n",
       "2             2.932069  5.359756  "
      ]
     },
     "execution_count": 37,
     "metadata": {},
     "output_type": "execute_result"
    }
   ],
   "source": [
    "kmeans_monetary_gold = KMeans(n_clusters = 3, random_state = 32, max_iter = 500)\n",
    "kmeans_monetary_gold_cluster = kmeans_monetary_gold.fit_predict(monetary_gold.values)\n",
    "\n",
    "monetary['gold_value'] = monetary_gold.value\n",
    "monetary['Gold_Cluster'] = kmeans_monetary_gold_cluster\n",
    "monetary.groupby('Gold_Cluster')['gold_value'].describe()"
   ]
  },
  {
   "cell_type": "markdown",
   "metadata": {
    "id": "cGrFuIsME1nW"
   },
   "source": [
    "### Re-ordering Cluster"
   ]
  },
  {
   "cell_type": "code",
   "execution_count": 38,
   "metadata": {
    "executionInfo": {
     "elapsed": 34,
     "status": "ok",
     "timestamp": 1680273715177,
     "user": {
      "displayName": "Moch Nabil Farras Dhiya",
      "userId": "07901443483008169938"
     },
     "user_tz": -420
    },
    "id": "x2Q-xll7E238"
   },
   "outputs": [],
   "source": [
    "monetary = order_cluster(monetary, 'Wines_Cluster', 'wines_value')\n",
    "\n",
    "monetary = order_cluster(monetary, 'Fruits_Cluster', 'fruits_value')\n",
    "\n",
    "monetary = order_cluster(monetary, 'Meat_Cluster', 'meat_value')\n",
    "\n",
    "monetary = order_cluster(monetary, 'Fish_Cluster', 'fish_value')\n",
    "\n",
    "monetary = order_cluster(monetary, 'Sweets_Cluster', 'sweets_value')\n",
    "\n",
    "monetary = order_cluster(monetary, 'Gold_Cluster', 'gold_value')"
   ]
  },
  {
   "cell_type": "markdown",
   "metadata": {
    "id": "YBsYCAK3C8gm"
   },
   "source": [
    "# Final Data"
   ]
  },
  {
   "cell_type": "code",
   "execution_count": 39,
   "metadata": {
    "colab": {
     "base_uri": "https://localhost:8080/",
     "height": 424
    },
    "executionInfo": {
     "elapsed": 33,
     "status": "ok",
     "timestamp": 1680273715178,
     "user": {
      "displayName": "Moch Nabil Farras Dhiya",
      "userId": "07901443483008169938"
     },
     "user_tz": -420
    },
    "id": "R-G-obZ2Gw2D",
    "outputId": "031325dd-3223-4c59-c044-44bb35f65f2d"
   },
   "outputs": [
    {
     "data": {
      "text/html": [
       "<div>\n",
       "<style scoped>\n",
       "    .dataframe tbody tr th:only-of-type {\n",
       "        vertical-align: middle;\n",
       "    }\n",
       "\n",
       "    .dataframe tbody tr th {\n",
       "        vertical-align: top;\n",
       "    }\n",
       "\n",
       "    .dataframe thead th {\n",
       "        text-align: right;\n",
       "    }\n",
       "</style>\n",
       "<table border=\"1\" class=\"dataframe\">\n",
       "  <thead>\n",
       "    <tr style=\"text-align: right;\">\n",
       "      <th></th>\n",
       "      <th>ID</th>\n",
       "      <th>Recency_Cluster</th>\n",
       "      <th>Frequency_Cluster</th>\n",
       "      <th>Wines_Cluster</th>\n",
       "      <th>Fruits_Cluster</th>\n",
       "      <th>Meat_Cluster</th>\n",
       "      <th>Fish_Cluster</th>\n",
       "      <th>Sweets_Cluster</th>\n",
       "      <th>Gold_Cluster</th>\n",
       "    </tr>\n",
       "  </thead>\n",
       "  <tbody>\n",
       "    <tr>\n",
       "      <th>0</th>\n",
       "      <td>5524</td>\n",
       "      <td>1</td>\n",
       "      <td>2</td>\n",
       "      <td>1</td>\n",
       "      <td>1</td>\n",
       "      <td>2</td>\n",
       "      <td>2</td>\n",
       "      <td>1</td>\n",
       "      <td>1</td>\n",
       "    </tr>\n",
       "    <tr>\n",
       "      <th>1</th>\n",
       "      <td>2174</td>\n",
       "      <td>1</td>\n",
       "      <td>0</td>\n",
       "      <td>0</td>\n",
       "      <td>0</td>\n",
       "      <td>0</td>\n",
       "      <td>0</td>\n",
       "      <td>0</td>\n",
       "      <td>0</td>\n",
       "    </tr>\n",
       "    <tr>\n",
       "      <th>2</th>\n",
       "      <td>965</td>\n",
       "      <td>1</td>\n",
       "      <td>2</td>\n",
       "      <td>0</td>\n",
       "      <td>1</td>\n",
       "      <td>0</td>\n",
       "      <td>1</td>\n",
       "      <td>1</td>\n",
       "      <td>0</td>\n",
       "    </tr>\n",
       "    <tr>\n",
       "      <th>3</th>\n",
       "      <td>387</td>\n",
       "      <td>1</td>\n",
       "      <td>0</td>\n",
       "      <td>0</td>\n",
       "      <td>0</td>\n",
       "      <td>0</td>\n",
       "      <td>0</td>\n",
       "      <td>0</td>\n",
       "      <td>0</td>\n",
       "    </tr>\n",
       "    <tr>\n",
       "      <th>4</th>\n",
       "      <td>8180</td>\n",
       "      <td>1</td>\n",
       "      <td>1</td>\n",
       "      <td>0</td>\n",
       "      <td>0</td>\n",
       "      <td>0</td>\n",
       "      <td>0</td>\n",
       "      <td>0</td>\n",
       "      <td>0</td>\n",
       "    </tr>\n",
       "    <tr>\n",
       "      <th>...</th>\n",
       "      <td>...</td>\n",
       "      <td>...</td>\n",
       "      <td>...</td>\n",
       "      <td>...</td>\n",
       "      <td>...</td>\n",
       "      <td>...</td>\n",
       "      <td>...</td>\n",
       "      <td>...</td>\n",
       "      <td>...</td>\n",
       "    </tr>\n",
       "    <tr>\n",
       "      <th>2207</th>\n",
       "      <td>4478</td>\n",
       "      <td>2</td>\n",
       "      <td>2</td>\n",
       "      <td>1</td>\n",
       "      <td>0</td>\n",
       "      <td>0</td>\n",
       "      <td>0</td>\n",
       "      <td>0</td>\n",
       "      <td>1</td>\n",
       "    </tr>\n",
       "    <tr>\n",
       "      <th>2208</th>\n",
       "      <td>7004</td>\n",
       "      <td>2</td>\n",
       "      <td>1</td>\n",
       "      <td>0</td>\n",
       "      <td>0</td>\n",
       "      <td>0</td>\n",
       "      <td>0</td>\n",
       "      <td>0</td>\n",
       "      <td>0</td>\n",
       "    </tr>\n",
       "    <tr>\n",
       "      <th>2209</th>\n",
       "      <td>9817</td>\n",
       "      <td>2</td>\n",
       "      <td>2</td>\n",
       "      <td>2</td>\n",
       "      <td>0</td>\n",
       "      <td>0</td>\n",
       "      <td>0</td>\n",
       "      <td>0</td>\n",
       "      <td>0</td>\n",
       "    </tr>\n",
       "    <tr>\n",
       "      <th>2210</th>\n",
       "      <td>8372</td>\n",
       "      <td>2</td>\n",
       "      <td>0</td>\n",
       "      <td>0</td>\n",
       "      <td>0</td>\n",
       "      <td>0</td>\n",
       "      <td>0</td>\n",
       "      <td>0</td>\n",
       "      <td>0</td>\n",
       "    </tr>\n",
       "    <tr>\n",
       "      <th>2211</th>\n",
       "      <td>7270</td>\n",
       "      <td>2</td>\n",
       "      <td>1</td>\n",
       "      <td>2</td>\n",
       "      <td>1</td>\n",
       "      <td>1</td>\n",
       "      <td>0</td>\n",
       "      <td>0</td>\n",
       "      <td>0</td>\n",
       "    </tr>\n",
       "  </tbody>\n",
       "</table>\n",
       "<p>2212 rows × 9 columns</p>\n",
       "</div>"
      ],
      "text/plain": [
       "        ID  Recency_Cluster  Frequency_Cluster  Wines_Cluster  Fruits_Cluster  \\\n",
       "0     5524                1                  2              1               1   \n",
       "1     2174                1                  0              0               0   \n",
       "2      965                1                  2              0               1   \n",
       "3      387                1                  0              0               0   \n",
       "4     8180                1                  1              0               0   \n",
       "...    ...              ...                ...            ...             ...   \n",
       "2207  4478                2                  2              1               0   \n",
       "2208  7004                2                  1              0               0   \n",
       "2209  9817                2                  2              2               0   \n",
       "2210  8372                2                  0              0               0   \n",
       "2211  7270                2                  1              2               1   \n",
       "\n",
       "      Meat_Cluster  Fish_Cluster  Sweets_Cluster  Gold_Cluster  \n",
       "0                2             2               1             1  \n",
       "1                0             0               0             0  \n",
       "2                0             1               1             0  \n",
       "3                0             0               0             0  \n",
       "4                0             0               0             0  \n",
       "...            ...           ...             ...           ...  \n",
       "2207             0             0               0             1  \n",
       "2208             0             0               0             0  \n",
       "2209             0             0               0             0  \n",
       "2210             0             0               0             0  \n",
       "2211             1             0               0             0  \n",
       "\n",
       "[2212 rows x 9 columns]"
      ]
     },
     "execution_count": 39,
     "metadata": {},
     "output_type": "execute_result"
    }
   ],
   "source": [
    "monetary = monetary[['ID', 'Wines_Cluster', 'Fruits_Cluster', 'Meat_Cluster', 'Fish_Cluster', 'Sweets_Cluster', 'Gold_Cluster']]\n",
    "\n",
    "rfm = pd.merge(recency[['ID', 'Cluster']], frequency[['ID', 'Cluster']], how = 'inner', on = 'ID')\n",
    "rfm = pd.merge(rfm, monetary, how = 'inner', on = 'ID')\n",
    "rfm = rfm.rename(columns = {'Cluster_x': 'Recency_Cluster', \n",
    "                            'Cluster_y': 'Frequency_Cluster'})\n",
    "rfm"
   ]
  },
  {
   "cell_type": "code",
   "execution_count": 40,
   "metadata": {
    "executionInfo": {
     "elapsed": 26,
     "status": "ok",
     "timestamp": 1680273715178,
     "user": {
      "displayName": "Moch Nabil Farras Dhiya",
      "userId": "07901443483008169938"
     },
     "user_tz": -420
    },
    "id": "3F9OXJ7IASOJ"
   },
   "outputs": [],
   "source": [
    "rfm.to_csv(\"../Data/RFM/rfm_analysis.csv\")"
   ]
  }
 ],
 "metadata": {
  "colab": {
   "collapsed_sections": [
    "-Taxp2K4WD4a",
    "q5bGj0x9XOEH",
    "D2KwviZTzb7D",
    "ZfzliTrpzqfu",
    "mLd1UE4B0HQr",
    "p_dKflDjmF6A",
    "z81ckr7CzPBy",
    "PwFVim0Y9yEF",
    "kISH4AEkB0XK",
    "24FOz3fYB1jE",
    "_B-wWEs3ASOH",
    "Af1UDxVkAWuG",
    "13QtZUH6AXF2",
    "P9UPNguOAXTX",
    "Fn98pfvUAXi6",
    "D28ki1kqAXuH",
    "cGrFuIsME1nW"
   ],
   "provenance": []
  },
  "kernelspec": {
   "display_name": "Python 3",
   "language": "python",
   "name": "python3"
  },
  "language_info": {
   "codemirror_mode": {
    "name": "ipython",
    "version": 3
   },
   "file_extension": ".py",
   "mimetype": "text/x-python",
   "name": "python",
   "nbconvert_exporter": "python",
   "pygments_lexer": "ipython3",
   "version": "3.10.5"
  }
 },
 "nbformat": 4,
 "nbformat_minor": 1
}
