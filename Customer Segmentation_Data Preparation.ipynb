{
 "cells": [
  {
   "cell_type": "markdown",
   "metadata": {
    "id": "V7nxiI6BzVci"
   },
   "source": [
    "**Author**: Moch Nabil Farras Dhiya (10120034)\n",
    "\n",
    "**E-mail**: nabilfarras923@gmail.com\n",
    "\n",
    "-------------------\n",
    "\n",
    "**Disclaimer**: The **dataset** used in this analysis is a public dataset retrieved from [Customer Personality Analysis - Kaggle](https://www.kaggle.com/datasets/imakash3011/customer-personality-analysis?datasetId=1546318&sortBy=voteCount)."
   ]
  },
  {
   "cell_type": "markdown",
   "metadata": {
    "id": "-Taxp2K4WD4a"
   },
   "source": [
    "# Background"
   ]
  },
  {
   "cell_type": "markdown",
   "metadata": {
    "id": "q5bGj0x9XOEH"
   },
   "source": [
    "## Attributes"
   ]
  },
  {
   "cell_type": "markdown",
   "metadata": {
    "id": "NgtswCGVXDqM"
   },
   "source": [
    "**People**\n",
    "\n",
    "*   ID: Customer's unique identifier\n",
    "*   Year_Birth: Customer's birth year\n",
    "*   Education: Customer's education level\n",
    "*   Marital_Status: Customer's marital status\n",
    "*   Income: Customer's yearly household income\n",
    "*   Kidhome: Number of children in customer's household\n",
    "*   Teenhome: Number of teenagers in customer's household\n",
    "*   Dt_Customer: Date of customer's enrollment with the company\n",
    "*   Recency: Number of days since customer's last purchase\n",
    "*   Complain: 1 if the customer complained in the last 2 years, 0 otherwise\n",
    "\n",
    "**Products**\n",
    "\n",
    "*   MntWines: Amount spent on wine in last 2 years\n",
    "*   MntFruits: Amount spent on fruits in last 2 years\n",
    "*   MntMeatProducts: Amount spent on meat in last 2 years\n",
    "*   MntFishProducts: Amount spent on fish in last 2 years\n",
    "*   MntSweetProducts: Amount spent on sweets in last 2 years\n",
    "*   MntGoldProds: Amount spent on gold in last 2 years\n",
    "\n",
    "**Promotion**\n",
    "\n",
    "\n",
    "*   NumDealsPurchases: Number of purchases made with a discount\n",
    "*   AcceptedCmp1: 1 if customer accepted the offer in the 1st campaign, 0 otherwise\n",
    "*   AcceptedCmp2: 1 if customer accepted the offer in the 2nd campaign, 0 otherwise\n",
    "*   AcceptedCmp3: 1 if customer accepted the offer in the 3rd campaign, 0 otherwise\n",
    "*   AcceptedCmp4: 1 if customer accepted the offer in the 4th campaign, 0 otherwise\n",
    "*   AcceptedCmp5: 1 if customer accepted the offer in the 5th campaign, 0 otherwise\n",
    "*   Response: 1 if customer accepted the offer in the last campaign, 0 otherwise\n",
    "\n",
    "**Place**\n",
    "\n",
    "*   NumWebPurchases: Number of purchases made through the company’s website\n",
    "*   NumCatalogPurchases: Number of purchases made using a catalogue\n",
    "*   NumWebVisitsMonth: Number of visits to company’s website in the last month\n",
    "*   NumStorePurchases: Number of purchases made directly in stores"
   ]
  },
  {
   "cell_type": "markdown",
   "metadata": {
    "id": "JprWVv-dXPJp"
   },
   "source": [
    "## Goals\n",
    "\n",
    "Perform clustering to summarize customer segments."
   ]
  },
  {
   "cell_type": "markdown",
   "metadata": {
    "id": "D2KwviZTzb7D"
   },
   "source": [
    "# Connect to Google Drive"
   ]
  },
  {
   "cell_type": "code",
   "execution_count": 1,
   "metadata": {
    "colab": {
     "base_uri": "https://localhost:8080/"
    },
    "executionInfo": {
     "elapsed": 24604,
     "status": "ok",
     "timestamp": 1679418825346,
     "user": {
      "displayName": "Moch Nabil Farras Dhiya",
      "userId": "07901443483008169938"
     },
     "user_tz": -420
    },
    "id": "YQeVA1xdzfI9",
    "outputId": "46044d6c-a153-482b-843b-f9b3367f574c"
   },
   "outputs": [],
   "source": [
    "# from google.colab import drive\n",
    "# drive.mount('/content/gdrive')"
   ]
  },
  {
   "cell_type": "code",
   "execution_count": 2,
   "metadata": {
    "colab": {
     "base_uri": "https://localhost:8080/"
    },
    "executionInfo": {
     "elapsed": 1119,
     "status": "ok",
     "timestamp": 1679418826461,
     "user": {
      "displayName": "Moch Nabil Farras Dhiya",
      "userId": "07901443483008169938"
     },
     "user_tz": -420
    },
    "id": "yawX7Vo8zNP9",
    "outputId": "67a6557f-0562-4002-d0a4-e5cc2da4c7d3"
   },
   "outputs": [],
   "source": [
    "# %cd /content/gdrive/My Drive/Portfolio/Data Science/Python/Customer Segmentation/CSV"
   ]
  },
  {
   "cell_type": "markdown",
   "metadata": {
    "id": "ZfzliTrpzqfu"
   },
   "source": [
    "# Import Packages"
   ]
  },
  {
   "cell_type": "code",
   "execution_count": 3,
   "metadata": {
    "executionInfo": {
     "elapsed": 5124,
     "status": "ok",
     "timestamp": 1679418831581,
     "user": {
      "displayName": "Moch Nabil Farras Dhiya",
      "userId": "07901443483008169938"
     },
     "user_tz": -420
    },
    "id": "gGoyK5jrzvGe"
   },
   "outputs": [],
   "source": [
    "import pandas as pd\n",
    "import numpy as np\n",
    "import datetime as dt\n",
    "\n",
    "import matplotlib.pyplot as plt\n",
    "import seaborn as sns\n",
    "sns.set_style(\"darkgrid\")\n",
    "\n",
    "from sklearn.cluster import AgglomerativeClustering \n",
    "\n",
    "from statistics import mean\n",
    "from scipy.stats import skew\n",
    "\n",
    "from sklearn import preprocessing\n",
    "from sklearn.preprocessing import StandardScaler, LabelEncoder\n",
    "from sklearn.decomposition import PCA\n",
    "from sklearn.cluster import KMeans\n",
    "from yellowbrick.cluster import KElbowVisualizer\n",
    "from collections import defaultdict\n",
    "from sklearn.metrics.pairwise import euclidean_distances"
   ]
  },
  {
   "cell_type": "markdown",
   "metadata": {
    "id": "mLd1UE4B0HQr"
   },
   "source": [
    "# Import Data"
   ]
  },
  {
   "cell_type": "code",
   "execution_count": 4,
   "metadata": {
    "executionInfo": {
     "elapsed": 838,
     "status": "ok",
     "timestamp": 1679418832415,
     "user": {
      "displayName": "Moch Nabil Farras Dhiya",
      "userId": "07901443483008169938"
     },
     "user_tz": -420
    },
    "id": "ujlQPKIP0J06"
   },
   "outputs": [],
   "source": [
    "data = pd.read_csv(\"../Data/marketing_campaign.csv\", sep = '\\t')"
   ]
  },
  {
   "cell_type": "markdown",
   "metadata": {
    "id": "6MNA48DSe-LH"
   },
   "source": [
    "# Initial EDA"
   ]
  },
  {
   "cell_type": "code",
   "execution_count": 5,
   "metadata": {
    "colab": {
     "base_uri": "https://localhost:8080/"
    },
    "executionInfo": {
     "elapsed": 37,
     "status": "ok",
     "timestamp": 1679418832415,
     "user": {
      "displayName": "Moch Nabil Farras Dhiya",
      "userId": "07901443483008169938"
     },
     "user_tz": -420
    },
    "id": "E0hexthyfE8C",
    "outputId": "99885fd2-0551-4e9d-87b1-be786465f776"
   },
   "outputs": [
    {
     "name": "stdout",
     "output_type": "stream",
     "text": [
      "<class 'pandas.core.frame.DataFrame'>\n",
      "RangeIndex: 2240 entries, 0 to 2239\n",
      "Data columns (total 29 columns):\n",
      " #   Column               Non-Null Count  Dtype  \n",
      "---  ------               --------------  -----  \n",
      " 0   ID                   2240 non-null   int64  \n",
      " 1   Year_Birth           2240 non-null   int64  \n",
      " 2   Education            2240 non-null   object \n",
      " 3   Marital_Status       2240 non-null   object \n",
      " 4   Income               2216 non-null   float64\n",
      " 5   Kidhome              2240 non-null   int64  \n",
      " 6   Teenhome             2240 non-null   int64  \n",
      " 7   Dt_Customer          2240 non-null   object \n",
      " 8   Recency              2240 non-null   int64  \n",
      " 9   MntWines             2240 non-null   int64  \n",
      " 10  MntFruits            2240 non-null   int64  \n",
      " 11  MntMeatProducts      2240 non-null   int64  \n",
      " 12  MntFishProducts      2240 non-null   int64  \n",
      " 13  MntSweetProducts     2240 non-null   int64  \n",
      " 14  MntGoldProds         2240 non-null   int64  \n",
      " 15  NumDealsPurchases    2240 non-null   int64  \n",
      " 16  NumWebPurchases      2240 non-null   int64  \n",
      " 17  NumCatalogPurchases  2240 non-null   int64  \n",
      " 18  NumStorePurchases    2240 non-null   int64  \n",
      " 19  NumWebVisitsMonth    2240 non-null   int64  \n",
      " 20  AcceptedCmp3         2240 non-null   int64  \n",
      " 21  AcceptedCmp4         2240 non-null   int64  \n",
      " 22  AcceptedCmp5         2240 non-null   int64  \n",
      " 23  AcceptedCmp1         2240 non-null   int64  \n",
      " 24  AcceptedCmp2         2240 non-null   int64  \n",
      " 25  Complain             2240 non-null   int64  \n",
      " 26  Z_CostContact        2240 non-null   int64  \n",
      " 27  Z_Revenue            2240 non-null   int64  \n",
      " 28  Response             2240 non-null   int64  \n",
      "dtypes: float64(1), int64(25), object(3)\n",
      "memory usage: 507.6+ KB\n"
     ]
    }
   ],
   "source": [
    "# Get the dataframe's info \n",
    "# (number of rows, column name & type, number of missing rows per column, memory usage)\n",
    "\n",
    "data.info()"
   ]
  },
  {
   "cell_type": "markdown",
   "metadata": {
    "id": "spJ5hgZ4ZkfQ"
   },
   "source": [
    "Notice that income columns have null values."
   ]
  },
  {
   "cell_type": "code",
   "execution_count": 6,
   "metadata": {
    "colab": {
     "base_uri": "https://localhost:8080/",
     "height": 0
    },
    "executionInfo": {
     "elapsed": 31,
     "status": "ok",
     "timestamp": 1679418832417,
     "user": {
      "displayName": "Moch Nabil Farras Dhiya",
      "userId": "07901443483008169938"
     },
     "user_tz": -420
    },
    "id": "Lc_rAVe4VXNr",
    "outputId": "376aea21-4c03-40d0-edad-6226cf9c6e89"
   },
   "outputs": [
    {
     "data": {
      "text/html": [
       "<div>\n",
       "<style scoped>\n",
       "    .dataframe tbody tr th:only-of-type {\n",
       "        vertical-align: middle;\n",
       "    }\n",
       "\n",
       "    .dataframe tbody tr th {\n",
       "        vertical-align: top;\n",
       "    }\n",
       "\n",
       "    .dataframe thead th {\n",
       "        text-align: right;\n",
       "    }\n",
       "</style>\n",
       "<table border=\"1\" class=\"dataframe\">\n",
       "  <thead>\n",
       "    <tr style=\"text-align: right;\">\n",
       "      <th></th>\n",
       "      <th>ID</th>\n",
       "      <th>Year_Birth</th>\n",
       "      <th>Education</th>\n",
       "      <th>Marital_Status</th>\n",
       "      <th>Income</th>\n",
       "      <th>Kidhome</th>\n",
       "      <th>Teenhome</th>\n",
       "      <th>Dt_Customer</th>\n",
       "      <th>Recency</th>\n",
       "      <th>MntWines</th>\n",
       "      <th>...</th>\n",
       "      <th>NumWebVisitsMonth</th>\n",
       "      <th>AcceptedCmp3</th>\n",
       "      <th>AcceptedCmp4</th>\n",
       "      <th>AcceptedCmp5</th>\n",
       "      <th>AcceptedCmp1</th>\n",
       "      <th>AcceptedCmp2</th>\n",
       "      <th>Complain</th>\n",
       "      <th>Z_CostContact</th>\n",
       "      <th>Z_Revenue</th>\n",
       "      <th>Response</th>\n",
       "    </tr>\n",
       "  </thead>\n",
       "  <tbody>\n",
       "    <tr>\n",
       "      <th>92</th>\n",
       "      <td>5798</td>\n",
       "      <td>1973</td>\n",
       "      <td>Master</td>\n",
       "      <td>Together</td>\n",
       "      <td>NaN</td>\n",
       "      <td>0</td>\n",
       "      <td>0</td>\n",
       "      <td>23-11-2013</td>\n",
       "      <td>87</td>\n",
       "      <td>445</td>\n",
       "      <td>...</td>\n",
       "      <td>1</td>\n",
       "      <td>0</td>\n",
       "      <td>0</td>\n",
       "      <td>0</td>\n",
       "      <td>0</td>\n",
       "      <td>0</td>\n",
       "      <td>0</td>\n",
       "      <td>3</td>\n",
       "      <td>11</td>\n",
       "      <td>0</td>\n",
       "    </tr>\n",
       "    <tr>\n",
       "      <th>317</th>\n",
       "      <td>9478</td>\n",
       "      <td>1985</td>\n",
       "      <td>Graduation</td>\n",
       "      <td>Single</td>\n",
       "      <td>66503.0</td>\n",
       "      <td>1</td>\n",
       "      <td>0</td>\n",
       "      <td>14-08-2012</td>\n",
       "      <td>30</td>\n",
       "      <td>91</td>\n",
       "      <td>...</td>\n",
       "      <td>3</td>\n",
       "      <td>0</td>\n",
       "      <td>0</td>\n",
       "      <td>0</td>\n",
       "      <td>0</td>\n",
       "      <td>0</td>\n",
       "      <td>0</td>\n",
       "      <td>3</td>\n",
       "      <td>11</td>\n",
       "      <td>0</td>\n",
       "    </tr>\n",
       "    <tr>\n",
       "      <th>1934</th>\n",
       "      <td>6200</td>\n",
       "      <td>1951</td>\n",
       "      <td>Graduation</td>\n",
       "      <td>Married</td>\n",
       "      <td>75903.0</td>\n",
       "      <td>0</td>\n",
       "      <td>1</td>\n",
       "      <td>08-04-2013</td>\n",
       "      <td>50</td>\n",
       "      <td>340</td>\n",
       "      <td>...</td>\n",
       "      <td>3</td>\n",
       "      <td>0</td>\n",
       "      <td>0</td>\n",
       "      <td>0</td>\n",
       "      <td>0</td>\n",
       "      <td>0</td>\n",
       "      <td>0</td>\n",
       "      <td>3</td>\n",
       "      <td>11</td>\n",
       "      <td>0</td>\n",
       "    </tr>\n",
       "    <tr>\n",
       "      <th>32</th>\n",
       "      <td>5710</td>\n",
       "      <td>1970</td>\n",
       "      <td>Graduation</td>\n",
       "      <td>Together</td>\n",
       "      <td>40548.0</td>\n",
       "      <td>0</td>\n",
       "      <td>1</td>\n",
       "      <td>10-10-2012</td>\n",
       "      <td>31</td>\n",
       "      <td>110</td>\n",
       "      <td>...</td>\n",
       "      <td>5</td>\n",
       "      <td>0</td>\n",
       "      <td>1</td>\n",
       "      <td>0</td>\n",
       "      <td>0</td>\n",
       "      <td>0</td>\n",
       "      <td>0</td>\n",
       "      <td>3</td>\n",
       "      <td>11</td>\n",
       "      <td>0</td>\n",
       "    </tr>\n",
       "    <tr>\n",
       "      <th>2100</th>\n",
       "      <td>1055</td>\n",
       "      <td>1976</td>\n",
       "      <td>Master</td>\n",
       "      <td>Married</td>\n",
       "      <td>53204.0</td>\n",
       "      <td>1</td>\n",
       "      <td>1</td>\n",
       "      <td>20-03-2014</td>\n",
       "      <td>40</td>\n",
       "      <td>29</td>\n",
       "      <td>...</td>\n",
       "      <td>4</td>\n",
       "      <td>0</td>\n",
       "      <td>0</td>\n",
       "      <td>0</td>\n",
       "      <td>0</td>\n",
       "      <td>0</td>\n",
       "      <td>0</td>\n",
       "      <td>3</td>\n",
       "      <td>11</td>\n",
       "      <td>0</td>\n",
       "    </tr>\n",
       "    <tr>\n",
       "      <th>2210</th>\n",
       "      <td>607</td>\n",
       "      <td>1955</td>\n",
       "      <td>2n Cycle</td>\n",
       "      <td>Divorced</td>\n",
       "      <td>41769.0</td>\n",
       "      <td>0</td>\n",
       "      <td>1</td>\n",
       "      <td>13-02-2013</td>\n",
       "      <td>31</td>\n",
       "      <td>302</td>\n",
       "      <td>...</td>\n",
       "      <td>8</td>\n",
       "      <td>0</td>\n",
       "      <td>0</td>\n",
       "      <td>0</td>\n",
       "      <td>0</td>\n",
       "      <td>0</td>\n",
       "      <td>0</td>\n",
       "      <td>3</td>\n",
       "      <td>11</td>\n",
       "      <td>0</td>\n",
       "    </tr>\n",
       "    <tr>\n",
       "      <th>191</th>\n",
       "      <td>5602</td>\n",
       "      <td>1989</td>\n",
       "      <td>PhD</td>\n",
       "      <td>Together</td>\n",
       "      <td>66973.0</td>\n",
       "      <td>0</td>\n",
       "      <td>0</td>\n",
       "      <td>17-05-2013</td>\n",
       "      <td>98</td>\n",
       "      <td>466</td>\n",
       "      <td>...</td>\n",
       "      <td>3</td>\n",
       "      <td>0</td>\n",
       "      <td>0</td>\n",
       "      <td>0</td>\n",
       "      <td>0</td>\n",
       "      <td>0</td>\n",
       "      <td>0</td>\n",
       "      <td>3</td>\n",
       "      <td>11</td>\n",
       "      <td>0</td>\n",
       "    </tr>\n",
       "    <tr>\n",
       "      <th>1784</th>\n",
       "      <td>7261</td>\n",
       "      <td>1971</td>\n",
       "      <td>Graduation</td>\n",
       "      <td>Together</td>\n",
       "      <td>34600.0</td>\n",
       "      <td>1</td>\n",
       "      <td>1</td>\n",
       "      <td>01-01-2013</td>\n",
       "      <td>8</td>\n",
       "      <td>199</td>\n",
       "      <td>...</td>\n",
       "      <td>8</td>\n",
       "      <td>0</td>\n",
       "      <td>0</td>\n",
       "      <td>0</td>\n",
       "      <td>0</td>\n",
       "      <td>0</td>\n",
       "      <td>0</td>\n",
       "      <td>3</td>\n",
       "      <td>11</td>\n",
       "      <td>1</td>\n",
       "    </tr>\n",
       "    <tr>\n",
       "      <th>1648</th>\n",
       "      <td>6409</td>\n",
       "      <td>1967</td>\n",
       "      <td>Graduation</td>\n",
       "      <td>Divorced</td>\n",
       "      <td>57136.0</td>\n",
       "      <td>0</td>\n",
       "      <td>0</td>\n",
       "      <td>18-05-2013</td>\n",
       "      <td>18</td>\n",
       "      <td>267</td>\n",
       "      <td>...</td>\n",
       "      <td>6</td>\n",
       "      <td>0</td>\n",
       "      <td>0</td>\n",
       "      <td>0</td>\n",
       "      <td>0</td>\n",
       "      <td>0</td>\n",
       "      <td>0</td>\n",
       "      <td>3</td>\n",
       "      <td>11</td>\n",
       "      <td>1</td>\n",
       "    </tr>\n",
       "    <tr>\n",
       "      <th>503</th>\n",
       "      <td>5140</td>\n",
       "      <td>1985</td>\n",
       "      <td>PhD</td>\n",
       "      <td>Married</td>\n",
       "      <td>64355.0</td>\n",
       "      <td>1</td>\n",
       "      <td>0</td>\n",
       "      <td>24-08-2012</td>\n",
       "      <td>66</td>\n",
       "      <td>1047</td>\n",
       "      <td>...</td>\n",
       "      <td>8</td>\n",
       "      <td>0</td>\n",
       "      <td>0</td>\n",
       "      <td>0</td>\n",
       "      <td>0</td>\n",
       "      <td>0</td>\n",
       "      <td>0</td>\n",
       "      <td>3</td>\n",
       "      <td>11</td>\n",
       "      <td>0</td>\n",
       "    </tr>\n",
       "  </tbody>\n",
       "</table>\n",
       "<p>10 rows × 29 columns</p>\n",
       "</div>"
      ],
      "text/plain": [
       "        ID  Year_Birth   Education Marital_Status   Income  Kidhome  Teenhome  \\\n",
       "92    5798        1973      Master       Together      NaN        0         0   \n",
       "317   9478        1985  Graduation         Single  66503.0        1         0   \n",
       "1934  6200        1951  Graduation        Married  75903.0        0         1   \n",
       "32    5710        1970  Graduation       Together  40548.0        0         1   \n",
       "2100  1055        1976      Master        Married  53204.0        1         1   \n",
       "2210   607        1955    2n Cycle       Divorced  41769.0        0         1   \n",
       "191   5602        1989         PhD       Together  66973.0        0         0   \n",
       "1784  7261        1971  Graduation       Together  34600.0        1         1   \n",
       "1648  6409        1967  Graduation       Divorced  57136.0        0         0   \n",
       "503   5140        1985         PhD        Married  64355.0        1         0   \n",
       "\n",
       "     Dt_Customer  Recency  MntWines  ...  NumWebVisitsMonth  AcceptedCmp3  \\\n",
       "92    23-11-2013       87       445  ...                  1             0   \n",
       "317   14-08-2012       30        91  ...                  3             0   \n",
       "1934  08-04-2013       50       340  ...                  3             0   \n",
       "32    10-10-2012       31       110  ...                  5             0   \n",
       "2100  20-03-2014       40        29  ...                  4             0   \n",
       "2210  13-02-2013       31       302  ...                  8             0   \n",
       "191   17-05-2013       98       466  ...                  3             0   \n",
       "1784  01-01-2013        8       199  ...                  8             0   \n",
       "1648  18-05-2013       18       267  ...                  6             0   \n",
       "503   24-08-2012       66      1047  ...                  8             0   \n",
       "\n",
       "      AcceptedCmp4  AcceptedCmp5  AcceptedCmp1  AcceptedCmp2  Complain  \\\n",
       "92               0             0             0             0         0   \n",
       "317              0             0             0             0         0   \n",
       "1934             0             0             0             0         0   \n",
       "32               1             0             0             0         0   \n",
       "2100             0             0             0             0         0   \n",
       "2210             0             0             0             0         0   \n",
       "191              0             0             0             0         0   \n",
       "1784             0             0             0             0         0   \n",
       "1648             0             0             0             0         0   \n",
       "503              0             0             0             0         0   \n",
       "\n",
       "      Z_CostContact  Z_Revenue  Response  \n",
       "92                3         11         0  \n",
       "317               3         11         0  \n",
       "1934              3         11         0  \n",
       "32                3         11         0  \n",
       "2100              3         11         0  \n",
       "2210              3         11         0  \n",
       "191               3         11         0  \n",
       "1784              3         11         1  \n",
       "1648              3         11         1  \n",
       "503               3         11         0  \n",
       "\n",
       "[10 rows x 29 columns]"
      ]
     },
     "execution_count": 6,
     "metadata": {},
     "output_type": "execute_result"
    }
   ],
   "source": [
    "# Display 10 random rows\n",
    "\n",
    "data.sample(10)"
   ]
  },
  {
   "cell_type": "code",
   "execution_count": 7,
   "metadata": {
    "colab": {
     "base_uri": "https://localhost:8080/",
     "height": 0
    },
    "executionInfo": {
     "elapsed": 465,
     "status": "ok",
     "timestamp": 1679418832856,
     "user": {
      "displayName": "Moch Nabil Farras Dhiya",
      "userId": "07901443483008169938"
     },
     "user_tz": -420
    },
    "id": "ORNj2c8UVx25",
    "outputId": "b2954d5c-3b69-4ebd-f519-a04bec062914"
   },
   "outputs": [
    {
     "name": "stdout",
     "output_type": "stream",
     "text": [
      "\n",
      "======================= ID =======================\n"
     ]
    },
    {
     "data": {
      "text/plain": [
       "5524    1\n",
       "6885    1\n",
       "3478    1\n",
       "7494    1\n",
       "1763    1\n",
       "       ..\n",
       "5682    1\n",
       "5564    1\n",
       "6516    1\n",
       "6255    1\n",
       "9405    1\n",
       "Name: ID, Length: 2240, dtype: int64"
      ]
     },
     "metadata": {},
     "output_type": "display_data"
    },
    {
     "name": "stdout",
     "output_type": "stream",
     "text": [
      "\n",
      "======================= Year_Birth =======================\n"
     ]
    },
    {
     "data": {
      "text/plain": [
       "1976    89\n",
       "1971    87\n",
       "1975    83\n",
       "1972    79\n",
       "1978    77\n",
       "1970    77\n",
       "1973    74\n",
       "1965    74\n",
       "1969    71\n",
       "1974    69\n",
       "1956    55\n",
       "1958    53\n",
       "1979    53\n",
       "1952    52\n",
       "1977    52\n",
       "1968    51\n",
       "1959    51\n",
       "1966    50\n",
       "1954    50\n",
       "1955    49\n",
       "1960    49\n",
       "1982    45\n",
       "1963    45\n",
       "1967    44\n",
       "1962    44\n",
       "1957    43\n",
       "1951    43\n",
       "1983    42\n",
       "1986    42\n",
       "1964    42\n",
       "1980    39\n",
       "1981    39\n",
       "1984    38\n",
       "1961    36\n",
       "1953    35\n",
       "1985    32\n",
       "1989    30\n",
       "1949    30\n",
       "1950    29\n",
       "1988    29\n",
       "1987    27\n",
       "1948    21\n",
       "1990    18\n",
       "1946    16\n",
       "1947    16\n",
       "1991    15\n",
       "1992    13\n",
       "1945     8\n",
       "1943     7\n",
       "1944     7\n",
       "1993     5\n",
       "1995     5\n",
       "1994     3\n",
       "1996     2\n",
       "1899     1\n",
       "1941     1\n",
       "1893     1\n",
       "1900     1\n",
       "1940     1\n",
       "Name: Year_Birth, dtype: int64"
      ]
     },
     "metadata": {},
     "output_type": "display_data"
    },
    {
     "name": "stdout",
     "output_type": "stream",
     "text": [
      "\n",
      "======================= Education =======================\n"
     ]
    },
    {
     "data": {
      "text/plain": [
       "Graduation    1127\n",
       "PhD            486\n",
       "Master         370\n",
       "2n Cycle       203\n",
       "Basic           54\n",
       "Name: Education, dtype: int64"
      ]
     },
     "metadata": {},
     "output_type": "display_data"
    },
    {
     "name": "stdout",
     "output_type": "stream",
     "text": [
      "\n",
      "======================= Marital_Status =======================\n"
     ]
    },
    {
     "data": {
      "text/plain": [
       "Married     864\n",
       "Together    580\n",
       "Single      480\n",
       "Divorced    232\n",
       "Widow        77\n",
       "Alone         3\n",
       "Absurd        2\n",
       "YOLO          2\n",
       "Name: Marital_Status, dtype: int64"
      ]
     },
     "metadata": {},
     "output_type": "display_data"
    },
    {
     "name": "stdout",
     "output_type": "stream",
     "text": [
      "\n",
      "======================= Income =======================\n"
     ]
    },
    {
     "data": {
      "text/plain": [
       "7500.0     12\n",
       "35860.0     4\n",
       "37760.0     3\n",
       "83844.0     3\n",
       "63841.0     3\n",
       "           ..\n",
       "40760.0     1\n",
       "41452.0     1\n",
       "6835.0      1\n",
       "33622.0     1\n",
       "52869.0     1\n",
       "Name: Income, Length: 1974, dtype: int64"
      ]
     },
     "metadata": {},
     "output_type": "display_data"
    },
    {
     "name": "stdout",
     "output_type": "stream",
     "text": [
      "\n",
      "======================= Kidhome =======================\n"
     ]
    },
    {
     "data": {
      "text/plain": [
       "0    1293\n",
       "1     899\n",
       "2      48\n",
       "Name: Kidhome, dtype: int64"
      ]
     },
     "metadata": {},
     "output_type": "display_data"
    },
    {
     "name": "stdout",
     "output_type": "stream",
     "text": [
      "\n",
      "======================= Teenhome =======================\n"
     ]
    },
    {
     "data": {
      "text/plain": [
       "0    1158\n",
       "1    1030\n",
       "2      52\n",
       "Name: Teenhome, dtype: int64"
      ]
     },
     "metadata": {},
     "output_type": "display_data"
    },
    {
     "name": "stdout",
     "output_type": "stream",
     "text": [
      "\n",
      "======================= Dt_Customer =======================\n"
     ]
    },
    {
     "data": {
      "text/plain": [
       "31-08-2012    12\n",
       "12-09-2012    11\n",
       "14-02-2013    11\n",
       "12-05-2014    11\n",
       "20-08-2013    10\n",
       "              ..\n",
       "05-08-2012     1\n",
       "18-11-2012     1\n",
       "25-05-2013     1\n",
       "14-04-2013     1\n",
       "09-01-2014     1\n",
       "Name: Dt_Customer, Length: 663, dtype: int64"
      ]
     },
     "metadata": {},
     "output_type": "display_data"
    },
    {
     "name": "stdout",
     "output_type": "stream",
     "text": [
      "\n",
      "======================= Recency =======================\n"
     ]
    },
    {
     "data": {
      "text/plain": [
       "56    37\n",
       "30    32\n",
       "54    32\n",
       "46    31\n",
       "92    30\n",
       "      ..\n",
       "41    15\n",
       "59    14\n",
       "22    13\n",
       "7     12\n",
       "44    11\n",
       "Name: Recency, Length: 100, dtype: int64"
      ]
     },
     "metadata": {},
     "output_type": "display_data"
    },
    {
     "name": "stdout",
     "output_type": "stream",
     "text": [
      "\n",
      "======================= MntWines =======================\n"
     ]
    },
    {
     "data": {
      "text/plain": [
       "2       42\n",
       "5       40\n",
       "1       37\n",
       "6       37\n",
       "4       33\n",
       "        ..\n",
       "806      1\n",
       "61       1\n",
       "986      1\n",
       "1230     1\n",
       "428      1\n",
       "Name: MntWines, Length: 776, dtype: int64"
      ]
     },
     "metadata": {},
     "output_type": "display_data"
    },
    {
     "name": "stdout",
     "output_type": "stream",
     "text": [
      "\n",
      "======================= MntFruits =======================\n"
     ]
    },
    {
     "data": {
      "text/plain": [
       "0      400\n",
       "1      162\n",
       "2      120\n",
       "3      116\n",
       "4      104\n",
       "      ... \n",
       "164      1\n",
       "130      1\n",
       "189      1\n",
       "101      1\n",
       "154      1\n",
       "Name: MntFruits, Length: 158, dtype: int64"
      ]
     },
     "metadata": {},
     "output_type": "display_data"
    },
    {
     "name": "stdout",
     "output_type": "stream",
     "text": [
      "\n",
      "======================= MntMeatProducts =======================\n"
     ]
    },
    {
     "data": {
      "text/plain": [
       "7      53\n",
       "5      50\n",
       "11     49\n",
       "8      46\n",
       "6      43\n",
       "       ..\n",
       "116     1\n",
       "569     1\n",
       "685     1\n",
       "354     1\n",
       "182     1\n",
       "Name: MntMeatProducts, Length: 558, dtype: int64"
      ]
     },
     "metadata": {},
     "output_type": "display_data"
    },
    {
     "name": "stdout",
     "output_type": "stream",
     "text": [
      "\n",
      "======================= MntFishProducts =======================\n"
     ]
    },
    {
     "data": {
      "text/plain": [
       "0      384\n",
       "2      156\n",
       "3      130\n",
       "4      108\n",
       "6       82\n",
       "      ... \n",
       "232      1\n",
       "167      1\n",
       "247      1\n",
       "194      1\n",
       "229      1\n",
       "Name: MntFishProducts, Length: 182, dtype: int64"
      ]
     },
     "metadata": {},
     "output_type": "display_data"
    },
    {
     "name": "stdout",
     "output_type": "stream",
     "text": [
      "\n",
      "======================= MntSweetProducts =======================\n"
     ]
    },
    {
     "data": {
      "text/plain": [
       "0      419\n",
       "1      161\n",
       "2      128\n",
       "3      101\n",
       "4       82\n",
       "      ... \n",
       "146      1\n",
       "132      1\n",
       "167      1\n",
       "99       1\n",
       "111      1\n",
       "Name: MntSweetProducts, Length: 177, dtype: int64"
      ]
     },
     "metadata": {},
     "output_type": "display_data"
    },
    {
     "name": "stdout",
     "output_type": "stream",
     "text": [
      "\n",
      "======================= MntGoldProds =======================\n"
     ]
    },
    {
     "data": {
      "text/plain": [
       "1      73\n",
       "4      70\n",
       "3      69\n",
       "5      63\n",
       "12     63\n",
       "       ..\n",
       "178     1\n",
       "169     1\n",
       "132     1\n",
       "262     1\n",
       "247     1\n",
       "Name: MntGoldProds, Length: 213, dtype: int64"
      ]
     },
     "metadata": {},
     "output_type": "display_data"
    },
    {
     "name": "stdout",
     "output_type": "stream",
     "text": [
      "\n",
      "======================= NumDealsPurchases =======================\n"
     ]
    },
    {
     "data": {
      "text/plain": [
       "1     970\n",
       "2     497\n",
       "3     297\n",
       "4     189\n",
       "5      94\n",
       "6      61\n",
       "0      46\n",
       "7      40\n",
       "8      14\n",
       "9       8\n",
       "15      7\n",
       "10      5\n",
       "11      5\n",
       "12      4\n",
       "13      3\n",
       "Name: NumDealsPurchases, dtype: int64"
      ]
     },
     "metadata": {},
     "output_type": "display_data"
    },
    {
     "name": "stdout",
     "output_type": "stream",
     "text": [
      "\n",
      "======================= NumWebPurchases =======================\n"
     ]
    },
    {
     "data": {
      "text/plain": [
       "2     373\n",
       "1     354\n",
       "3     336\n",
       "4     280\n",
       "5     220\n",
       "6     205\n",
       "7     155\n",
       "8     102\n",
       "9      75\n",
       "0      49\n",
       "11     44\n",
       "10     43\n",
       "27      2\n",
       "23      1\n",
       "25      1\n",
       "Name: NumWebPurchases, dtype: int64"
      ]
     },
     "metadata": {},
     "output_type": "display_data"
    },
    {
     "name": "stdout",
     "output_type": "stream",
     "text": [
      "\n",
      "======================= NumCatalogPurchases =======================\n"
     ]
    },
    {
     "data": {
      "text/plain": [
       "0     586\n",
       "1     497\n",
       "2     276\n",
       "3     184\n",
       "4     182\n",
       "5     140\n",
       "6     128\n",
       "7      79\n",
       "8      55\n",
       "10     48\n",
       "9      42\n",
       "11     19\n",
       "28      3\n",
       "22      1\n",
       "Name: NumCatalogPurchases, dtype: int64"
      ]
     },
     "metadata": {},
     "output_type": "display_data"
    },
    {
     "name": "stdout",
     "output_type": "stream",
     "text": [
      "\n",
      "======================= NumStorePurchases =======================\n"
     ]
    },
    {
     "data": {
      "text/plain": [
       "3     490\n",
       "4     323\n",
       "2     223\n",
       "5     212\n",
       "6     178\n",
       "8     149\n",
       "7     143\n",
       "10    125\n",
       "9     106\n",
       "12    105\n",
       "13     83\n",
       "11     81\n",
       "0      15\n",
       "1       7\n",
       "Name: NumStorePurchases, dtype: int64"
      ]
     },
     "metadata": {},
     "output_type": "display_data"
    },
    {
     "name": "stdout",
     "output_type": "stream",
     "text": [
      "\n",
      "======================= NumWebVisitsMonth =======================\n"
     ]
    },
    {
     "data": {
      "text/plain": [
       "7     393\n",
       "8     342\n",
       "6     340\n",
       "5     281\n",
       "4     218\n",
       "3     205\n",
       "2     202\n",
       "1     153\n",
       "9      83\n",
       "0      11\n",
       "20      3\n",
       "10      3\n",
       "14      2\n",
       "19      2\n",
       "17      1\n",
       "13      1\n",
       "Name: NumWebVisitsMonth, dtype: int64"
      ]
     },
     "metadata": {},
     "output_type": "display_data"
    },
    {
     "name": "stdout",
     "output_type": "stream",
     "text": [
      "\n",
      "======================= AcceptedCmp3 =======================\n"
     ]
    },
    {
     "data": {
      "text/plain": [
       "0    2077\n",
       "1     163\n",
       "Name: AcceptedCmp3, dtype: int64"
      ]
     },
     "metadata": {},
     "output_type": "display_data"
    },
    {
     "name": "stdout",
     "output_type": "stream",
     "text": [
      "\n",
      "======================= AcceptedCmp4 =======================\n"
     ]
    },
    {
     "data": {
      "text/plain": [
       "0    2073\n",
       "1     167\n",
       "Name: AcceptedCmp4, dtype: int64"
      ]
     },
     "metadata": {},
     "output_type": "display_data"
    },
    {
     "name": "stdout",
     "output_type": "stream",
     "text": [
      "\n",
      "======================= AcceptedCmp5 =======================\n"
     ]
    },
    {
     "data": {
      "text/plain": [
       "0    2077\n",
       "1     163\n",
       "Name: AcceptedCmp5, dtype: int64"
      ]
     },
     "metadata": {},
     "output_type": "display_data"
    },
    {
     "name": "stdout",
     "output_type": "stream",
     "text": [
      "\n",
      "======================= AcceptedCmp1 =======================\n"
     ]
    },
    {
     "data": {
      "text/plain": [
       "0    2096\n",
       "1     144\n",
       "Name: AcceptedCmp1, dtype: int64"
      ]
     },
     "metadata": {},
     "output_type": "display_data"
    },
    {
     "name": "stdout",
     "output_type": "stream",
     "text": [
      "\n",
      "======================= AcceptedCmp2 =======================\n"
     ]
    },
    {
     "data": {
      "text/plain": [
       "0    2210\n",
       "1      30\n",
       "Name: AcceptedCmp2, dtype: int64"
      ]
     },
     "metadata": {},
     "output_type": "display_data"
    },
    {
     "name": "stdout",
     "output_type": "stream",
     "text": [
      "\n",
      "======================= Complain =======================\n"
     ]
    },
    {
     "data": {
      "text/plain": [
       "0    2219\n",
       "1      21\n",
       "Name: Complain, dtype: int64"
      ]
     },
     "metadata": {},
     "output_type": "display_data"
    },
    {
     "name": "stdout",
     "output_type": "stream",
     "text": [
      "\n",
      "======================= Z_CostContact =======================\n"
     ]
    },
    {
     "data": {
      "text/plain": [
       "3    2240\n",
       "Name: Z_CostContact, dtype: int64"
      ]
     },
     "metadata": {},
     "output_type": "display_data"
    },
    {
     "name": "stdout",
     "output_type": "stream",
     "text": [
      "\n",
      "======================= Z_Revenue =======================\n"
     ]
    },
    {
     "data": {
      "text/plain": [
       "11    2240\n",
       "Name: Z_Revenue, dtype: int64"
      ]
     },
     "metadata": {},
     "output_type": "display_data"
    },
    {
     "name": "stdout",
     "output_type": "stream",
     "text": [
      "\n",
      "======================= Response =======================\n"
     ]
    },
    {
     "data": {
      "text/plain": [
       "0    1906\n",
       "1     334\n",
       "Name: Response, dtype: int64"
      ]
     },
     "metadata": {},
     "output_type": "display_data"
    }
   ],
   "source": [
    "for col in data.columns:\n",
    "    print(f\"\\n======================= {col} =======================\")\n",
    "    display(data[col].value_counts())"
   ]
  },
  {
   "cell_type": "markdown",
   "metadata": {
    "id": "NueShjVoZDiE"
   },
   "source": [
    "Notice that some variables (columns) have multiple answers with the same meaning (e.g. Marital Status and Kidhome-Teenhome), which can be simplified to ease our analysis process. But, we need to check first if that is actually valid to do."
   ]
  },
  {
   "cell_type": "code",
   "execution_count": 8,
   "metadata": {
    "colab": {
     "base_uri": "https://localhost:8080/",
     "height": 0
    },
    "executionInfo": {
     "elapsed": 3502,
     "status": "ok",
     "timestamp": 1679418836356,
     "user": {
      "displayName": "Moch Nabil Farras Dhiya",
      "userId": "07901443483008169938"
     },
     "user_tz": -420
    },
    "id": "0RZ7pRkkz2wg",
    "outputId": "3f5f269b-0d3d-4cae-cc33-f607406d9fc2"
   },
   "outputs": [
    {
     "data": {
      "text/plain": [
       "<AxesSubplot:>"
      ]
     },
     "execution_count": 8,
     "metadata": {},
     "output_type": "execute_result"
    },
    {
     "data": {
      "image/png": "[encoded data removed]",
      "text/plain": [
       "<Figure size 1440x1440 with 2 Axes>"
      ]
     },
     "metadata": {
      "needs_background": "light"
     },
     "output_type": "display_data"
    }
   ],
   "source": [
    "corrmat = data.corr()\n",
    "plt.figure(figsize = (20,20))  \n",
    "sns.heatmap(corrmat,annot = True, center = 0)"
   ]
  },
  {
   "cell_type": "markdown",
   "metadata": {
    "id": "2nWew1Sx0Kup"
   },
   "source": [
    "Based on the matrix corr above, we definitely can not combine the Kidhome and Teenhome columns into a single column."
   ]
  },
  {
   "cell_type": "markdown",
   "metadata": {
    "id": "bmeMCc9AZXeV"
   },
   "source": [
    "# Missing Values and Outliers Handling"
   ]
  },
  {
   "cell_type": "code",
   "execution_count": 9,
   "metadata": {
    "colab": {
     "base_uri": "https://localhost:8080/",
     "height": 0
    },
    "executionInfo": {
     "elapsed": 40,
     "status": "ok",
     "timestamp": 1679418836357,
     "user": {
      "displayName": "Moch Nabil Farras Dhiya",
      "userId": "07901443483008169938"
     },
     "user_tz": -420
    },
    "id": "e_SCHcDObe8h",
    "outputId": "df2f6d06-977f-4b22-b126-0244c2322772"
   },
   "outputs": [
    {
     "data": {
      "text/html": [
       "<div>\n",
       "<style scoped>\n",
       "    .dataframe tbody tr th:only-of-type {\n",
       "        vertical-align: middle;\n",
       "    }\n",
       "\n",
       "    .dataframe tbody tr th {\n",
       "        vertical-align: top;\n",
       "    }\n",
       "\n",
       "    .dataframe thead th {\n",
       "        text-align: right;\n",
       "    }\n",
       "</style>\n",
       "<table border=\"1\" class=\"dataframe\">\n",
       "  <thead>\n",
       "    <tr style=\"text-align: right;\">\n",
       "      <th></th>\n",
       "      <th>ID</th>\n",
       "      <th>Year_Birth</th>\n",
       "      <th>Education</th>\n",
       "      <th>Marital_Status</th>\n",
       "      <th>Income</th>\n",
       "      <th>Kidhome</th>\n",
       "      <th>Teenhome</th>\n",
       "      <th>Dt_Customer</th>\n",
       "      <th>Recency</th>\n",
       "      <th>MntWines</th>\n",
       "      <th>...</th>\n",
       "      <th>NumWebVisitsMonth</th>\n",
       "      <th>AcceptedCmp3</th>\n",
       "      <th>AcceptedCmp4</th>\n",
       "      <th>AcceptedCmp5</th>\n",
       "      <th>AcceptedCmp1</th>\n",
       "      <th>AcceptedCmp2</th>\n",
       "      <th>Complain</th>\n",
       "      <th>Z_CostContact</th>\n",
       "      <th>Z_Revenue</th>\n",
       "      <th>Response</th>\n",
       "    </tr>\n",
       "  </thead>\n",
       "  <tbody>\n",
       "    <tr>\n",
       "      <th>10</th>\n",
       "      <td>1994</td>\n",
       "      <td>1983</td>\n",
       "      <td>Graduation</td>\n",
       "      <td>Married</td>\n",
       "      <td>NaN</td>\n",
       "      <td>1</td>\n",
       "      <td>0</td>\n",
       "      <td>15-11-2013</td>\n",
       "      <td>11</td>\n",
       "      <td>5</td>\n",
       "      <td>...</td>\n",
       "      <td>7</td>\n",
       "      <td>0</td>\n",
       "      <td>0</td>\n",
       "      <td>0</td>\n",
       "      <td>0</td>\n",
       "      <td>0</td>\n",
       "      <td>0</td>\n",
       "      <td>3</td>\n",
       "      <td>11</td>\n",
       "      <td>0</td>\n",
       "    </tr>\n",
       "    <tr>\n",
       "      <th>27</th>\n",
       "      <td>5255</td>\n",
       "      <td>1986</td>\n",
       "      <td>Graduation</td>\n",
       "      <td>Single</td>\n",
       "      <td>NaN</td>\n",
       "      <td>1</td>\n",
       "      <td>0</td>\n",
       "      <td>20-02-2013</td>\n",
       "      <td>19</td>\n",
       "      <td>5</td>\n",
       "      <td>...</td>\n",
       "      <td>1</td>\n",
       "      <td>0</td>\n",
       "      <td>0</td>\n",
       "      <td>0</td>\n",
       "      <td>0</td>\n",
       "      <td>0</td>\n",
       "      <td>0</td>\n",
       "      <td>3</td>\n",
       "      <td>11</td>\n",
       "      <td>0</td>\n",
       "    </tr>\n",
       "    <tr>\n",
       "      <th>43</th>\n",
       "      <td>7281</td>\n",
       "      <td>1959</td>\n",
       "      <td>PhD</td>\n",
       "      <td>Single</td>\n",
       "      <td>NaN</td>\n",
       "      <td>0</td>\n",
       "      <td>0</td>\n",
       "      <td>05-11-2013</td>\n",
       "      <td>80</td>\n",
       "      <td>81</td>\n",
       "      <td>...</td>\n",
       "      <td>2</td>\n",
       "      <td>0</td>\n",
       "      <td>0</td>\n",
       "      <td>0</td>\n",
       "      <td>0</td>\n",
       "      <td>0</td>\n",
       "      <td>0</td>\n",
       "      <td>3</td>\n",
       "      <td>11</td>\n",
       "      <td>0</td>\n",
       "    </tr>\n",
       "    <tr>\n",
       "      <th>48</th>\n",
       "      <td>7244</td>\n",
       "      <td>1951</td>\n",
       "      <td>Graduation</td>\n",
       "      <td>Single</td>\n",
       "      <td>NaN</td>\n",
       "      <td>2</td>\n",
       "      <td>1</td>\n",
       "      <td>01-01-2014</td>\n",
       "      <td>96</td>\n",
       "      <td>48</td>\n",
       "      <td>...</td>\n",
       "      <td>6</td>\n",
       "      <td>0</td>\n",
       "      <td>0</td>\n",
       "      <td>0</td>\n",
       "      <td>0</td>\n",
       "      <td>0</td>\n",
       "      <td>0</td>\n",
       "      <td>3</td>\n",
       "      <td>11</td>\n",
       "      <td>0</td>\n",
       "    </tr>\n",
       "    <tr>\n",
       "      <th>58</th>\n",
       "      <td>8557</td>\n",
       "      <td>1982</td>\n",
       "      <td>Graduation</td>\n",
       "      <td>Single</td>\n",
       "      <td>NaN</td>\n",
       "      <td>1</td>\n",
       "      <td>0</td>\n",
       "      <td>17-06-2013</td>\n",
       "      <td>57</td>\n",
       "      <td>11</td>\n",
       "      <td>...</td>\n",
       "      <td>6</td>\n",
       "      <td>0</td>\n",
       "      <td>0</td>\n",
       "      <td>0</td>\n",
       "      <td>0</td>\n",
       "      <td>0</td>\n",
       "      <td>0</td>\n",
       "      <td>3</td>\n",
       "      <td>11</td>\n",
       "      <td>0</td>\n",
       "    </tr>\n",
       "    <tr>\n",
       "      <th>71</th>\n",
       "      <td>10629</td>\n",
       "      <td>1973</td>\n",
       "      <td>2n Cycle</td>\n",
       "      <td>Married</td>\n",
       "      <td>NaN</td>\n",
       "      <td>1</td>\n",
       "      <td>0</td>\n",
       "      <td>14-09-2012</td>\n",
       "      <td>25</td>\n",
       "      <td>25</td>\n",
       "      <td>...</td>\n",
       "      <td>8</td>\n",
       "      <td>0</td>\n",
       "      <td>0</td>\n",
       "      <td>0</td>\n",
       "      <td>0</td>\n",
       "      <td>0</td>\n",
       "      <td>0</td>\n",
       "      <td>3</td>\n",
       "      <td>11</td>\n",
       "      <td>0</td>\n",
       "    </tr>\n",
       "    <tr>\n",
       "      <th>90</th>\n",
       "      <td>8996</td>\n",
       "      <td>1957</td>\n",
       "      <td>PhD</td>\n",
       "      <td>Married</td>\n",
       "      <td>NaN</td>\n",
       "      <td>2</td>\n",
       "      <td>1</td>\n",
       "      <td>19-11-2012</td>\n",
       "      <td>4</td>\n",
       "      <td>230</td>\n",
       "      <td>...</td>\n",
       "      <td>9</td>\n",
       "      <td>0</td>\n",
       "      <td>0</td>\n",
       "      <td>0</td>\n",
       "      <td>0</td>\n",
       "      <td>0</td>\n",
       "      <td>0</td>\n",
       "      <td>3</td>\n",
       "      <td>11</td>\n",
       "      <td>0</td>\n",
       "    </tr>\n",
       "    <tr>\n",
       "      <th>91</th>\n",
       "      <td>9235</td>\n",
       "      <td>1957</td>\n",
       "      <td>Graduation</td>\n",
       "      <td>Single</td>\n",
       "      <td>NaN</td>\n",
       "      <td>1</td>\n",
       "      <td>1</td>\n",
       "      <td>27-05-2014</td>\n",
       "      <td>45</td>\n",
       "      <td>7</td>\n",
       "      <td>...</td>\n",
       "      <td>7</td>\n",
       "      <td>0</td>\n",
       "      <td>0</td>\n",
       "      <td>0</td>\n",
       "      <td>0</td>\n",
       "      <td>0</td>\n",
       "      <td>0</td>\n",
       "      <td>3</td>\n",
       "      <td>11</td>\n",
       "      <td>0</td>\n",
       "    </tr>\n",
       "    <tr>\n",
       "      <th>92</th>\n",
       "      <td>5798</td>\n",
       "      <td>1973</td>\n",
       "      <td>Master</td>\n",
       "      <td>Together</td>\n",
       "      <td>NaN</td>\n",
       "      <td>0</td>\n",
       "      <td>0</td>\n",
       "      <td>23-11-2013</td>\n",
       "      <td>87</td>\n",
       "      <td>445</td>\n",
       "      <td>...</td>\n",
       "      <td>1</td>\n",
       "      <td>0</td>\n",
       "      <td>0</td>\n",
       "      <td>0</td>\n",
       "      <td>0</td>\n",
       "      <td>0</td>\n",
       "      <td>0</td>\n",
       "      <td>3</td>\n",
       "      <td>11</td>\n",
       "      <td>0</td>\n",
       "    </tr>\n",
       "    <tr>\n",
       "      <th>128</th>\n",
       "      <td>8268</td>\n",
       "      <td>1961</td>\n",
       "      <td>PhD</td>\n",
       "      <td>Married</td>\n",
       "      <td>NaN</td>\n",
       "      <td>0</td>\n",
       "      <td>1</td>\n",
       "      <td>11-07-2013</td>\n",
       "      <td>23</td>\n",
       "      <td>352</td>\n",
       "      <td>...</td>\n",
       "      <td>6</td>\n",
       "      <td>0</td>\n",
       "      <td>0</td>\n",
       "      <td>0</td>\n",
       "      <td>0</td>\n",
       "      <td>0</td>\n",
       "      <td>0</td>\n",
       "      <td>3</td>\n",
       "      <td>11</td>\n",
       "      <td>0</td>\n",
       "    </tr>\n",
       "    <tr>\n",
       "      <th>133</th>\n",
       "      <td>1295</td>\n",
       "      <td>1963</td>\n",
       "      <td>Graduation</td>\n",
       "      <td>Married</td>\n",
       "      <td>NaN</td>\n",
       "      <td>0</td>\n",
       "      <td>1</td>\n",
       "      <td>11-08-2013</td>\n",
       "      <td>96</td>\n",
       "      <td>231</td>\n",
       "      <td>...</td>\n",
       "      <td>4</td>\n",
       "      <td>0</td>\n",
       "      <td>0</td>\n",
       "      <td>0</td>\n",
       "      <td>0</td>\n",
       "      <td>0</td>\n",
       "      <td>0</td>\n",
       "      <td>3</td>\n",
       "      <td>11</td>\n",
       "      <td>0</td>\n",
       "    </tr>\n",
       "    <tr>\n",
       "      <th>312</th>\n",
       "      <td>2437</td>\n",
       "      <td>1989</td>\n",
       "      <td>Graduation</td>\n",
       "      <td>Married</td>\n",
       "      <td>NaN</td>\n",
       "      <td>0</td>\n",
       "      <td>0</td>\n",
       "      <td>03-06-2013</td>\n",
       "      <td>69</td>\n",
       "      <td>861</td>\n",
       "      <td>...</td>\n",
       "      <td>3</td>\n",
       "      <td>0</td>\n",
       "      <td>1</td>\n",
       "      <td>0</td>\n",
       "      <td>1</td>\n",
       "      <td>0</td>\n",
       "      <td>0</td>\n",
       "      <td>3</td>\n",
       "      <td>11</td>\n",
       "      <td>0</td>\n",
       "    </tr>\n",
       "    <tr>\n",
       "      <th>319</th>\n",
       "      <td>2863</td>\n",
       "      <td>1970</td>\n",
       "      <td>Graduation</td>\n",
       "      <td>Single</td>\n",
       "      <td>NaN</td>\n",
       "      <td>1</td>\n",
       "      <td>2</td>\n",
       "      <td>23-08-2013</td>\n",
       "      <td>67</td>\n",
       "      <td>738</td>\n",
       "      <td>...</td>\n",
       "      <td>7</td>\n",
       "      <td>0</td>\n",
       "      <td>1</td>\n",
       "      <td>0</td>\n",
       "      <td>1</td>\n",
       "      <td>0</td>\n",
       "      <td>0</td>\n",
       "      <td>3</td>\n",
       "      <td>11</td>\n",
       "      <td>0</td>\n",
       "    </tr>\n",
       "    <tr>\n",
       "      <th>1379</th>\n",
       "      <td>10475</td>\n",
       "      <td>1970</td>\n",
       "      <td>Master</td>\n",
       "      <td>Together</td>\n",
       "      <td>NaN</td>\n",
       "      <td>0</td>\n",
       "      <td>1</td>\n",
       "      <td>01-04-2013</td>\n",
       "      <td>39</td>\n",
       "      <td>187</td>\n",
       "      <td>...</td>\n",
       "      <td>5</td>\n",
       "      <td>0</td>\n",
       "      <td>0</td>\n",
       "      <td>0</td>\n",
       "      <td>0</td>\n",
       "      <td>0</td>\n",
       "      <td>0</td>\n",
       "      <td>3</td>\n",
       "      <td>11</td>\n",
       "      <td>0</td>\n",
       "    </tr>\n",
       "    <tr>\n",
       "      <th>1382</th>\n",
       "      <td>2902</td>\n",
       "      <td>1958</td>\n",
       "      <td>Graduation</td>\n",
       "      <td>Together</td>\n",
       "      <td>NaN</td>\n",
       "      <td>1</td>\n",
       "      <td>1</td>\n",
       "      <td>03-09-2012</td>\n",
       "      <td>87</td>\n",
       "      <td>19</td>\n",
       "      <td>...</td>\n",
       "      <td>5</td>\n",
       "      <td>0</td>\n",
       "      <td>0</td>\n",
       "      <td>0</td>\n",
       "      <td>0</td>\n",
       "      <td>0</td>\n",
       "      <td>0</td>\n",
       "      <td>3</td>\n",
       "      <td>11</td>\n",
       "      <td>0</td>\n",
       "    </tr>\n",
       "    <tr>\n",
       "      <th>1383</th>\n",
       "      <td>4345</td>\n",
       "      <td>1964</td>\n",
       "      <td>2n Cycle</td>\n",
       "      <td>Single</td>\n",
       "      <td>NaN</td>\n",
       "      <td>1</td>\n",
       "      <td>1</td>\n",
       "      <td>12-01-2014</td>\n",
       "      <td>49</td>\n",
       "      <td>5</td>\n",
       "      <td>...</td>\n",
       "      <td>7</td>\n",
       "      <td>0</td>\n",
       "      <td>0</td>\n",
       "      <td>0</td>\n",
       "      <td>0</td>\n",
       "      <td>0</td>\n",
       "      <td>0</td>\n",
       "      <td>3</td>\n",
       "      <td>11</td>\n",
       "      <td>0</td>\n",
       "    </tr>\n",
       "    <tr>\n",
       "      <th>1386</th>\n",
       "      <td>3769</td>\n",
       "      <td>1972</td>\n",
       "      <td>PhD</td>\n",
       "      <td>Together</td>\n",
       "      <td>NaN</td>\n",
       "      <td>1</td>\n",
       "      <td>0</td>\n",
       "      <td>02-03-2014</td>\n",
       "      <td>17</td>\n",
       "      <td>25</td>\n",
       "      <td>...</td>\n",
       "      <td>7</td>\n",
       "      <td>0</td>\n",
       "      <td>0</td>\n",
       "      <td>0</td>\n",
       "      <td>0</td>\n",
       "      <td>0</td>\n",
       "      <td>0</td>\n",
       "      <td>3</td>\n",
       "      <td>11</td>\n",
       "      <td>0</td>\n",
       "    </tr>\n",
       "    <tr>\n",
       "      <th>2059</th>\n",
       "      <td>7187</td>\n",
       "      <td>1969</td>\n",
       "      <td>Master</td>\n",
       "      <td>Together</td>\n",
       "      <td>NaN</td>\n",
       "      <td>1</td>\n",
       "      <td>1</td>\n",
       "      <td>18-05-2013</td>\n",
       "      <td>52</td>\n",
       "      <td>375</td>\n",
       "      <td>...</td>\n",
       "      <td>3</td>\n",
       "      <td>0</td>\n",
       "      <td>0</td>\n",
       "      <td>0</td>\n",
       "      <td>0</td>\n",
       "      <td>0</td>\n",
       "      <td>0</td>\n",
       "      <td>3</td>\n",
       "      <td>11</td>\n",
       "      <td>0</td>\n",
       "    </tr>\n",
       "    <tr>\n",
       "      <th>2061</th>\n",
       "      <td>1612</td>\n",
       "      <td>1981</td>\n",
       "      <td>PhD</td>\n",
       "      <td>Single</td>\n",
       "      <td>NaN</td>\n",
       "      <td>1</td>\n",
       "      <td>0</td>\n",
       "      <td>31-05-2013</td>\n",
       "      <td>82</td>\n",
       "      <td>23</td>\n",
       "      <td>...</td>\n",
       "      <td>6</td>\n",
       "      <td>0</td>\n",
       "      <td>0</td>\n",
       "      <td>0</td>\n",
       "      <td>0</td>\n",
       "      <td>0</td>\n",
       "      <td>0</td>\n",
       "      <td>3</td>\n",
       "      <td>11</td>\n",
       "      <td>0</td>\n",
       "    </tr>\n",
       "    <tr>\n",
       "      <th>2078</th>\n",
       "      <td>5079</td>\n",
       "      <td>1971</td>\n",
       "      <td>Graduation</td>\n",
       "      <td>Married</td>\n",
       "      <td>NaN</td>\n",
       "      <td>1</td>\n",
       "      <td>1</td>\n",
       "      <td>03-03-2013</td>\n",
       "      <td>82</td>\n",
       "      <td>71</td>\n",
       "      <td>...</td>\n",
       "      <td>8</td>\n",
       "      <td>0</td>\n",
       "      <td>0</td>\n",
       "      <td>0</td>\n",
       "      <td>0</td>\n",
       "      <td>0</td>\n",
       "      <td>0</td>\n",
       "      <td>3</td>\n",
       "      <td>11</td>\n",
       "      <td>0</td>\n",
       "    </tr>\n",
       "    <tr>\n",
       "      <th>2079</th>\n",
       "      <td>10339</td>\n",
       "      <td>1954</td>\n",
       "      <td>Master</td>\n",
       "      <td>Together</td>\n",
       "      <td>NaN</td>\n",
       "      <td>0</td>\n",
       "      <td>1</td>\n",
       "      <td>23-06-2013</td>\n",
       "      <td>83</td>\n",
       "      <td>161</td>\n",
       "      <td>...</td>\n",
       "      <td>6</td>\n",
       "      <td>0</td>\n",
       "      <td>0</td>\n",
       "      <td>0</td>\n",
       "      <td>0</td>\n",
       "      <td>0</td>\n",
       "      <td>0</td>\n",
       "      <td>3</td>\n",
       "      <td>11</td>\n",
       "      <td>0</td>\n",
       "    </tr>\n",
       "    <tr>\n",
       "      <th>2081</th>\n",
       "      <td>3117</td>\n",
       "      <td>1955</td>\n",
       "      <td>Graduation</td>\n",
       "      <td>Single</td>\n",
       "      <td>NaN</td>\n",
       "      <td>0</td>\n",
       "      <td>1</td>\n",
       "      <td>18-10-2013</td>\n",
       "      <td>95</td>\n",
       "      <td>264</td>\n",
       "      <td>...</td>\n",
       "      <td>7</td>\n",
       "      <td>0</td>\n",
       "      <td>0</td>\n",
       "      <td>0</td>\n",
       "      <td>0</td>\n",
       "      <td>0</td>\n",
       "      <td>0</td>\n",
       "      <td>3</td>\n",
       "      <td>11</td>\n",
       "      <td>0</td>\n",
       "    </tr>\n",
       "    <tr>\n",
       "      <th>2084</th>\n",
       "      <td>5250</td>\n",
       "      <td>1943</td>\n",
       "      <td>Master</td>\n",
       "      <td>Widow</td>\n",
       "      <td>NaN</td>\n",
       "      <td>0</td>\n",
       "      <td>0</td>\n",
       "      <td>30-10-2013</td>\n",
       "      <td>75</td>\n",
       "      <td>532</td>\n",
       "      <td>...</td>\n",
       "      <td>1</td>\n",
       "      <td>0</td>\n",
       "      <td>0</td>\n",
       "      <td>1</td>\n",
       "      <td>0</td>\n",
       "      <td>0</td>\n",
       "      <td>0</td>\n",
       "      <td>3</td>\n",
       "      <td>11</td>\n",
       "      <td>1</td>\n",
       "    </tr>\n",
       "    <tr>\n",
       "      <th>2228</th>\n",
       "      <td>8720</td>\n",
       "      <td>1978</td>\n",
       "      <td>2n Cycle</td>\n",
       "      <td>Together</td>\n",
       "      <td>NaN</td>\n",
       "      <td>0</td>\n",
       "      <td>0</td>\n",
       "      <td>12-08-2012</td>\n",
       "      <td>53</td>\n",
       "      <td>32</td>\n",
       "      <td>...</td>\n",
       "      <td>0</td>\n",
       "      <td>0</td>\n",
       "      <td>1</td>\n",
       "      <td>0</td>\n",
       "      <td>0</td>\n",
       "      <td>0</td>\n",
       "      <td>0</td>\n",
       "      <td>3</td>\n",
       "      <td>11</td>\n",
       "      <td>0</td>\n",
       "    </tr>\n",
       "  </tbody>\n",
       "</table>\n",
       "<p>24 rows × 29 columns</p>\n",
       "</div>"
      ],
      "text/plain": [
       "         ID  Year_Birth   Education Marital_Status  Income  Kidhome  Teenhome  \\\n",
       "10     1994        1983  Graduation        Married     NaN        1         0   \n",
       "27     5255        1986  Graduation         Single     NaN        1         0   \n",
       "43     7281        1959         PhD         Single     NaN        0         0   \n",
       "48     7244        1951  Graduation         Single     NaN        2         1   \n",
       "58     8557        1982  Graduation         Single     NaN        1         0   \n",
       "71    10629        1973    2n Cycle        Married     NaN        1         0   \n",
       "90     8996        1957         PhD        Married     NaN        2         1   \n",
       "91     9235        1957  Graduation         Single     NaN        1         1   \n",
       "92     5798        1973      Master       Together     NaN        0         0   \n",
       "128    8268        1961         PhD        Married     NaN        0         1   \n",
       "133    1295        1963  Graduation        Married     NaN        0         1   \n",
       "312    2437        1989  Graduation        Married     NaN        0         0   \n",
       "319    2863        1970  Graduation         Single     NaN        1         2   \n",
       "1379  10475        1970      Master       Together     NaN        0         1   \n",
       "1382   2902        1958  Graduation       Together     NaN        1         1   \n",
       "1383   4345        1964    2n Cycle         Single     NaN        1         1   \n",
       "1386   3769        1972         PhD       Together     NaN        1         0   \n",
       "2059   7187        1969      Master       Together     NaN        1         1   \n",
       "2061   1612        1981         PhD         Single     NaN        1         0   \n",
       "2078   5079        1971  Graduation        Married     NaN        1         1   \n",
       "2079  10339        1954      Master       Together     NaN        0         1   \n",
       "2081   3117        1955  Graduation         Single     NaN        0         1   \n",
       "2084   5250        1943      Master          Widow     NaN        0         0   \n",
       "2228   8720        1978    2n Cycle       Together     NaN        0         0   \n",
       "\n",
       "     Dt_Customer  Recency  MntWines  ...  NumWebVisitsMonth  AcceptedCmp3  \\\n",
       "10    15-11-2013       11         5  ...                  7             0   \n",
       "27    20-02-2013       19         5  ...                  1             0   \n",
       "43    05-11-2013       80        81  ...                  2             0   \n",
       "48    01-01-2014       96        48  ...                  6             0   \n",
       "58    17-06-2013       57        11  ...                  6             0   \n",
       "71    14-09-2012       25        25  ...                  8             0   \n",
       "90    19-11-2012        4       230  ...                  9             0   \n",
       "91    27-05-2014       45         7  ...                  7             0   \n",
       "92    23-11-2013       87       445  ...                  1             0   \n",
       "128   11-07-2013       23       352  ...                  6             0   \n",
       "133   11-08-2013       96       231  ...                  4             0   \n",
       "312   03-06-2013       69       861  ...                  3             0   \n",
       "319   23-08-2013       67       738  ...                  7             0   \n",
       "1379  01-04-2013       39       187  ...                  5             0   \n",
       "1382  03-09-2012       87        19  ...                  5             0   \n",
       "1383  12-01-2014       49         5  ...                  7             0   \n",
       "1386  02-03-2014       17        25  ...                  7             0   \n",
       "2059  18-05-2013       52       375  ...                  3             0   \n",
       "2061  31-05-2013       82        23  ...                  6             0   \n",
       "2078  03-03-2013       82        71  ...                  8             0   \n",
       "2079  23-06-2013       83       161  ...                  6             0   \n",
       "2081  18-10-2013       95       264  ...                  7             0   \n",
       "2084  30-10-2013       75       532  ...                  1             0   \n",
       "2228  12-08-2012       53        32  ...                  0             0   \n",
       "\n",
       "      AcceptedCmp4  AcceptedCmp5  AcceptedCmp1  AcceptedCmp2  Complain  \\\n",
       "10               0             0             0             0         0   \n",
       "27               0             0             0             0         0   \n",
       "43               0             0             0             0         0   \n",
       "48               0             0             0             0         0   \n",
       "58               0             0             0             0         0   \n",
       "71               0             0             0             0         0   \n",
       "90               0             0             0             0         0   \n",
       "91               0             0             0             0         0   \n",
       "92               0             0             0             0         0   \n",
       "128              0             0             0             0         0   \n",
       "133              0             0             0             0         0   \n",
       "312              1             0             1             0         0   \n",
       "319              1             0             1             0         0   \n",
       "1379             0             0             0             0         0   \n",
       "1382             0             0             0             0         0   \n",
       "1383             0             0             0             0         0   \n",
       "1386             0             0             0             0         0   \n",
       "2059             0             0             0             0         0   \n",
       "2061             0             0             0             0         0   \n",
       "2078             0             0             0             0         0   \n",
       "2079             0             0             0             0         0   \n",
       "2081             0             0             0             0         0   \n",
       "2084             0             1             0             0         0   \n",
       "2228             1             0             0             0         0   \n",
       "\n",
       "      Z_CostContact  Z_Revenue  Response  \n",
       "10                3         11         0  \n",
       "27                3         11         0  \n",
       "43                3         11         0  \n",
       "48                3         11         0  \n",
       "58                3         11         0  \n",
       "71                3         11         0  \n",
       "90                3         11         0  \n",
       "91                3         11         0  \n",
       "92                3         11         0  \n",
       "128               3         11         0  \n",
       "133               3         11         0  \n",
       "312               3         11         0  \n",
       "319               3         11         0  \n",
       "1379              3         11         0  \n",
       "1382              3         11         0  \n",
       "1383              3         11         0  \n",
       "1386              3         11         0  \n",
       "2059              3         11         0  \n",
       "2061              3         11         0  \n",
       "2078              3         11         0  \n",
       "2079              3         11         0  \n",
       "2081              3         11         0  \n",
       "2084              3         11         1  \n",
       "2228              3         11         0  \n",
       "\n",
       "[24 rows x 29 columns]"
      ]
     },
     "execution_count": 9,
     "metadata": {},
     "output_type": "execute_result"
    }
   ],
   "source": [
    "data[data.isna().any(axis = 1)]"
   ]
  },
  {
   "cell_type": "code",
   "execution_count": 10,
   "metadata": {
    "colab": {
     "base_uri": "https://localhost:8080/"
    },
    "executionInfo": {
     "elapsed": 38,
     "status": "ok",
     "timestamp": 1679418836358,
     "user": {
      "displayName": "Moch Nabil Farras Dhiya",
      "userId": "07901443483008169938"
     },
     "user_tz": -420
    },
    "id": "2FLxeNP8ZWrX",
    "outputId": "d8fe1bf5-9489-4ca6-ae6e-2028994b4445"
   },
   "outputs": [
    {
     "name": "stdout",
     "output_type": "stream",
     "text": [
      "Missing value percentage in ID: 0.0%\n",
      "Missing value percentage in Year_Birth: 0.0%\n",
      "Missing value percentage in Education: 0.0%\n",
      "Missing value percentage in Marital_Status: 0.0%\n",
      "Missing value percentage in Income: 1.0714285714285714%\n",
      "Missing value percentage in Kidhome: 0.0%\n",
      "Missing value percentage in Teenhome: 0.0%\n",
      "Missing value percentage in Dt_Customer: 0.0%\n",
      "Missing value percentage in Recency: 0.0%\n",
      "Missing value percentage in MntWines: 0.0%\n",
      "Missing value percentage in MntFruits: 0.0%\n",
      "Missing value percentage in MntMeatProducts: 0.0%\n",
      "Missing value percentage in MntFishProducts: 0.0%\n",
      "Missing value percentage in MntSweetProducts: 0.0%\n",
      "Missing value percentage in MntGoldProds: 0.0%\n",
      "Missing value percentage in NumDealsPurchases: 0.0%\n",
      "Missing value percentage in NumWebPurchases: 0.0%\n",
      "Missing value percentage in NumCatalogPurchases: 0.0%\n",
      "Missing value percentage in NumStorePurchases: 0.0%\n",
      "Missing value percentage in NumWebVisitsMonth: 0.0%\n",
      "Missing value percentage in AcceptedCmp3: 0.0%\n",
      "Missing value percentage in AcceptedCmp4: 0.0%\n",
      "Missing value percentage in AcceptedCmp5: 0.0%\n",
      "Missing value percentage in AcceptedCmp1: 0.0%\n",
      "Missing value percentage in AcceptedCmp2: 0.0%\n",
      "Missing value percentage in Complain: 0.0%\n",
      "Missing value percentage in Z_CostContact: 0.0%\n",
      "Missing value percentage in Z_Revenue: 0.0%\n",
      "Missing value percentage in Response: 0.0%\n"
     ]
    }
   ],
   "source": [
    "# We will search the percentage of missing values to decide what step is suitable to handle the situation\n",
    "\n",
    "for col in data.columns:\n",
    "    percentage = 100*data[col].isna().sum()/len(data)\n",
    "    print(f\"Missing value percentage in {col}: {percentage}%\")"
   ]
  },
  {
   "cell_type": "markdown",
   "metadata": {
    "id": "1BTHWJaCaDka"
   },
   "source": [
    "Since the missing percentage are less than 25%, we can do imputation on the data in the next step of the data preparation. We will analyze the data further to determine the suitable imputation for this column, whether it is 'mean' or 'median' imputation."
   ]
  },
  {
   "cell_type": "code",
   "execution_count": 11,
   "metadata": {
    "colab": {
     "base_uri": "https://localhost:8080/",
     "height": 0
    },
    "executionInfo": {
     "elapsed": 36,
     "status": "ok",
     "timestamp": 1679418836358,
     "user": {
      "displayName": "Moch Nabil Farras Dhiya",
      "userId": "07901443483008169938"
     },
     "user_tz": -420
    },
    "id": "-JkE2esKdDBT",
    "outputId": "e2f70374-16e0-4cd7-dc6a-35d915f18394"
   },
   "outputs": [
    {
     "data": {
      "text/plain": [
       "<AxesSubplot:ylabel='Income'>"
      ]
     },
     "execution_count": 11,
     "metadata": {},
     "output_type": "execute_result"
    },
    {
     "data": {
      "image/png": "[encoded data removed]",
      "text/plain": [
       "<Figure size 432x288 with 1 Axes>"
      ]
     },
     "metadata": {
      "needs_background": "light"
     },
     "output_type": "display_data"
    }
   ],
   "source": [
    "sns.boxplot(y = data[\"Income\"])"
   ]
  },
  {
   "cell_type": "markdown",
   "metadata": {
    "id": "BP_6S-YPdlkn"
   },
   "source": [
    "There is an outlier in the data. So, we need to remove that particular outlier (>600K income)."
   ]
  },
  {
   "cell_type": "code",
   "execution_count": 12,
   "metadata": {
    "executionInfo": {
     "elapsed": 35,
     "status": "ok",
     "timestamp": 1679418836359,
     "user": {
      "displayName": "Moch Nabil Farras Dhiya",
      "userId": "07901443483008169938"
     },
     "user_tz": -420
    },
    "id": "YX763lKwd87q"
   },
   "outputs": [],
   "source": [
    "data = data[data['Income'] < 600000]"
   ]
  },
  {
   "cell_type": "markdown",
   "metadata": {
    "id": "u9fH6nZ3yBdl"
   },
   "source": [
    "Also notice from previous segment, we found customers that was born in the 1800s. We will also check the boxplot for that column."
   ]
  },
  {
   "cell_type": "code",
   "execution_count": 13,
   "metadata": {
    "colab": {
     "base_uri": "https://localhost:8080/",
     "height": 0
    },
    "executionInfo": {
     "elapsed": 676,
     "status": "ok",
     "timestamp": 1679418837001,
     "user": {
      "displayName": "Moch Nabil Farras Dhiya",
      "userId": "07901443483008169938"
     },
     "user_tz": -420
    },
    "id": "4WNCc5gsyL0L",
    "outputId": "1f06f2b2-bc02-4c23-b50f-aefb18ab40a0"
   },
   "outputs": [
    {
     "data": {
      "text/plain": [
       "<AxesSubplot:ylabel='Year_Birth'>"
      ]
     },
     "execution_count": 13,
     "metadata": {},
     "output_type": "execute_result"
    },
    {
     "data": {
      "image/png": "[encoded data removed]",
      "text/plain": [
       "<Figure size 432x288 with 1 Axes>"
      ]
     },
     "metadata": {
      "needs_background": "light"
     },
     "output_type": "display_data"
    }
   ],
   "source": [
    "sns.boxplot(y = data[\"Year_Birth\"])"
   ]
  },
  {
   "cell_type": "markdown",
   "metadata": {
    "id": "Muq9YZZtyf9U"
   },
   "source": [
    "There is indeed outliers in the data. So, we need to remove that particular outliers (was born in the 1800s to early 1900s)."
   ]
  },
  {
   "cell_type": "code",
   "execution_count": 14,
   "metadata": {
    "executionInfo": {
     "elapsed": 37,
     "status": "ok",
     "timestamp": 1679418837002,
     "user": {
      "displayName": "Moch Nabil Farras Dhiya",
      "userId": "07901443483008169938"
     },
     "user_tz": -420
    },
    "id": "O4K6rcWmymfs"
   },
   "outputs": [],
   "source": [
    "data = data[data['Year_Birth'] > 1920]"
   ]
  },
  {
   "cell_type": "code",
   "execution_count": 15,
   "metadata": {
    "colab": {
     "base_uri": "https://localhost:8080/",
     "height": 0
    },
    "executionInfo": {
     "elapsed": 37,
     "status": "ok",
     "timestamp": 1679418837003,
     "user": {
      "displayName": "Moch Nabil Farras Dhiya",
      "userId": "07901443483008169938"
     },
     "user_tz": -420
    },
    "id": "YtHzXBKAbA_T",
    "outputId": "3f9b2015-d40b-4d9d-9f4f-975390ff36cb"
   },
   "outputs": [
    {
     "name": "stdout",
     "output_type": "stream",
     "text": [
      "Skewness: 0.347791933529504\n"
     ]
    },
    {
     "data": {
      "text/plain": [
       "<AxesSubplot:xlabel='Income', ylabel='Count'>"
      ]
     },
     "execution_count": 15,
     "metadata": {},
     "output_type": "execute_result"
    },
    {
     "data": {
      "image/png": "[encoded data removed]",
      "text/plain": [
       "<Figure size 432x288 with 1 Axes>"
      ]
     },
     "metadata": {
      "needs_background": "light"
     },
     "output_type": "display_data"
    }
   ],
   "source": [
    "rating = data.loc[data[\"Income\"].isna() == False]\n",
    "print(\"Skewness:\", skew(rating[\"Income\"]))\n",
    "\n",
    "sns.histplot(x = \"Income\", data = rating, kde = True)"
   ]
  },
  {
   "cell_type": "markdown",
   "metadata": {
    "id": "utMMptUhdMgf"
   },
   "source": [
    "Notice that since the skewness is in the interval [-0.5, 0.5] and based on the graph above, we can then use mean imputation on the missing values data."
   ]
  },
  {
   "cell_type": "code",
   "execution_count": 16,
   "metadata": {
    "colab": {
     "base_uri": "https://localhost:8080/"
    },
    "executionInfo": {
     "elapsed": 33,
     "status": "ok",
     "timestamp": 1679418837003,
     "user": {
      "displayName": "Moch Nabil Farras Dhiya",
      "userId": "07901443483008169938"
     },
     "user_tz": -420
    },
    "id": "I2oB0eAHeLFU",
    "outputId": "029288fd-b540-41f7-d400-25f255f9c9cf"
   },
   "outputs": [
    {
     "data": {
      "text/plain": [
       "0       58138.0\n",
       "1       46344.0\n",
       "2       71613.0\n",
       "3       26646.0\n",
       "4       58293.0\n",
       "         ...   \n",
       "2235    61223.0\n",
       "2236    64014.0\n",
       "2237    56981.0\n",
       "2238    69245.0\n",
       "2239    52869.0\n",
       "Name: Income, Length: 2212, dtype: float64"
      ]
     },
     "execution_count": 16,
     "metadata": {},
     "output_type": "execute_result"
    }
   ],
   "source": [
    "# Mean imputation on Income column\n",
    "\n",
    "data[\"Income\"].fillna(data[\"Income\"].mean())"
   ]
  },
  {
   "cell_type": "markdown",
   "metadata": {
    "id": "Njh_0dQ5e0GQ"
   },
   "source": [
    "# Duplicate Rows Handling"
   ]
  },
  {
   "cell_type": "code",
   "execution_count": 17,
   "metadata": {
    "colab": {
     "base_uri": "https://localhost:8080/"
    },
    "executionInfo": {
     "elapsed": 33,
     "status": "ok",
     "timestamp": 1679418837004,
     "user": {
      "displayName": "Moch Nabil Farras Dhiya",
      "userId": "07901443483008169938"
     },
     "user_tz": -420
    },
    "id": "cUyrpUSre2dO",
    "outputId": "03ccb1c2-fe41-4d88-ee12-203aa11d46ad"
   },
   "outputs": [
    {
     "name": "stdout",
     "output_type": "stream",
     "text": [
      "1.0\n"
     ]
    }
   ],
   "source": [
    "print(len(data.drop_duplicates())/len(data))"
   ]
  },
  {
   "cell_type": "markdown",
   "metadata": {
    "id": "1Sl94dBOfLyW"
   },
   "source": [
    "Notice that since the ratio is 1, then there is no duplicate in the data."
   ]
  },
  {
   "cell_type": "markdown",
   "metadata": {
    "id": "BxbXUjcEfdXI"
   },
   "source": [
    "# Data Manipulation"
   ]
  },
  {
   "cell_type": "markdown",
   "metadata": {
    "id": "9bYoeDBGho9X"
   },
   "source": [
    "As stated before, there are some values in which have the same meaning on several columns. Furthermore, there are also columns in which we can simplified by combining it into a single column."
   ]
  },
  {
   "cell_type": "markdown",
   "metadata": {
    "id": "8Y4j_sUMm544"
   },
   "source": [
    "## Age"
   ]
  },
  {
   "cell_type": "code",
   "execution_count": 18,
   "metadata": {
    "executionInfo": {
     "elapsed": 32,
     "status": "ok",
     "timestamp": 1679418837004,
     "user": {
      "displayName": "Moch Nabil Farras Dhiya",
      "userId": "07901443483008169938"
     },
     "user_tz": -420
    },
    "id": "1hzEUHKvm6d8"
   },
   "outputs": [],
   "source": [
    "data[\"Age\"] = int(dt.datetime.today().strftime(\"%Y\")) - data[\"Year_Birth\"]"
   ]
  },
  {
   "cell_type": "markdown",
   "metadata": {
    "id": "HhruX55hPXu4"
   },
   "source": [
    "## Education"
   ]
  },
  {
   "cell_type": "code",
   "execution_count": 19,
   "metadata": {
    "executionInfo": {
     "elapsed": 32,
     "status": "ok",
     "timestamp": 1679418837005,
     "user": {
      "displayName": "Moch Nabil Farras Dhiya",
      "userId": "07901443483008169938"
     },
     "user_tz": -420
    },
    "id": "WqERPfFzPZPN"
   },
   "outputs": [],
   "source": [
    "def education(text):\n",
    "    if text == '2n Cycle':\n",
    "        return \"Master\"\n",
    "\n",
    "    else:\n",
    "        return text\n",
    "\n",
    "data['Education'] = data['Education'].apply(education)"
   ]
  },
  {
   "cell_type": "markdown",
   "metadata": {
    "id": "d_g-2YVNYFAu"
   },
   "source": [
    "## Marital Status"
   ]
  },
  {
   "cell_type": "code",
   "execution_count": 20,
   "metadata": {
    "executionInfo": {
     "elapsed": 32,
     "status": "ok",
     "timestamp": 1679418837005,
     "user": {
      "displayName": "Moch Nabil Farras Dhiya",
      "userId": "07901443483008169938"
     },
     "user_tz": -420
    },
    "id": "0diOQ_mlYFAu"
   },
   "outputs": [],
   "source": [
    "def marital_status(x):\n",
    "    if x in ['Married', 'Together']:\n",
    "        return 'Together'\n",
    "    \n",
    "    else:\n",
    "        return 'Single'\n",
    "    \n",
    "data['Marital_Status'] = data['Marital_Status'].apply(marital_status)"
   ]
  },
  {
   "cell_type": "markdown",
   "metadata": {
    "id": "kvX30Ll5YFAw"
   },
   "source": [
    "# Feature Engineering"
   ]
  },
  {
   "cell_type": "markdown",
   "metadata": {
    "id": "R7FjHKVTjfC4"
   },
   "source": [
    "## Dt_Customer"
   ]
  },
  {
   "cell_type": "markdown",
   "metadata": {
    "id": "AIYMnaT2mftK"
   },
   "source": [
    "Convert the datatype of Dt_Customer column into datetime and calculate the # of days since they become a customer."
   ]
  },
  {
   "cell_type": "code",
   "execution_count": 21,
   "metadata": {
    "executionInfo": {
     "elapsed": 32,
     "status": "ok",
     "timestamp": 1679418837006,
     "user": {
      "displayName": "Moch Nabil Farras Dhiya",
      "userId": "07901443483008169938"
     },
     "user_tz": -420
    },
    "id": "Auz9qsQHkuUs"
   },
   "outputs": [],
   "source": [
    "data[\"Dt_Customer\"] = pd.to_datetime(data[\"Dt_Customer\"], format = \"%d-%m-%Y\")"
   ]
  },
  {
   "cell_type": "code",
   "execution_count": 22,
   "metadata": {
    "colab": {
     "base_uri": "https://localhost:8080/"
    },
    "executionInfo": {
     "elapsed": 31,
     "status": "ok",
     "timestamp": 1679418837006,
     "user": {
      "displayName": "Moch Nabil Farras Dhiya",
      "userId": "07901443483008169938"
     },
     "user_tz": -420
    },
    "id": "tdpzMxs_oYiX",
    "outputId": "e6e3373a-1536-422e-ff0b-f4566c7d3d87"
   },
   "outputs": [
    {
     "name": "stderr",
     "output_type": "stream",
     "text": [
      "C:\\Users\\c640\\AppData\\Local\\Temp\\ipykernel_14544\\4034395626.py:1: UserWarning: Parsing '31-03-2023' in DD/MM/YYYY format. Provide format or specify infer_datetime_format=True for consistent parsing.\n",
      "  data[\"Duration_Customer\"] = (pd.to_datetime(dt.datetime.today().strftime(\"%d-%m-%Y\")) - data[\"Dt_Customer\"]).dt.days\n"
     ]
    }
   ],
   "source": [
    "data[\"Duration_Customer\"] = (pd.to_datetime(dt.datetime.today().strftime(\"%d-%m-%Y\")) - data[\"Dt_Customer\"]).dt.days"
   ]
  },
  {
   "cell_type": "markdown",
   "metadata": {
    "id": "rutdj3zBYFAv"
   },
   "source": [
    "## Frequency"
   ]
  },
  {
   "cell_type": "code",
   "execution_count": 23,
   "metadata": {
    "executionInfo": {
     "elapsed": 31,
     "status": "ok",
     "timestamp": 1679418837007,
     "user": {
      "displayName": "Moch Nabil Farras Dhiya",
      "userId": "07901443483008169938"
     },
     "user_tz": -420
    },
    "id": "Z7ofFok1ajpc"
   },
   "outputs": [],
   "source": [
    "data['Frequency'] = data['NumDealsPurchases'] + data['NumWebPurchases'] + data['NumCatalogPurchases'] + data['NumStorePurchases'] + data['NumWebVisitsMonth']"
   ]
  },
  {
   "cell_type": "markdown",
   "metadata": {
    "id": "SHXJjbiZYFAw"
   },
   "source": [
    "# Cleaned Data"
   ]
  },
  {
   "cell_type": "markdown",
   "metadata": {
    "id": "0XNGYbYvnV6Y"
   },
   "source": [
    "## Rename Columns"
   ]
  },
  {
   "cell_type": "code",
   "execution_count": 24,
   "metadata": {
    "executionInfo": {
     "elapsed": 31,
     "status": "ok",
     "timestamp": 1679418837008,
     "user": {
      "displayName": "Moch Nabil Farras Dhiya",
      "userId": "07901443483008169938"
     },
     "user_tz": -420
    },
    "id": "aL7r3uXEnYAR"
   },
   "outputs": [],
   "source": [
    "data = data.rename(columns = {'MntWines': \"Wines\", \n",
    "                              'MntFruits':'Fruits', \n",
    "                              'MntMeatProducts':'Meat', \n",
    "                              'MntFishProducts':'Fish',\n",
    "                              'MntSweetProducts':'Sweets', \n",
    "                              'MntGoldProds':'Gold', \n",
    "                              'NumWebPurchases': \"Web\", \n",
    "                              'NumCatalogPurchases':'Catalog', \n",
    "                              'NumStorePurchases':'Store', \n",
    "                              'NumDealsPurchases': 'Discount', \n",
    "                              'NumWebVisitsMonth': 'Web_visit',\n",
    "                              'AcceptedCmp1': 'Campaign 1',\n",
    "                              'AcceptedCmp2': 'Campaign 2',\n",
    "                              'AcceptedCmp3': 'Campaign 3', \n",
    "                              'AcceptedCmp4': 'Campaign 4', \n",
    "                              'AcceptedCmp5': 'Campaign 5'})"
   ]
  },
  {
   "cell_type": "markdown",
   "metadata": {
    "id": "cTL9of8esBhj"
   },
   "source": [
    "## Dropping Columns"
   ]
  },
  {
   "cell_type": "code",
   "execution_count": 25,
   "metadata": {
    "colab": {
     "base_uri": "https://localhost:8080/"
    },
    "executionInfo": {
     "elapsed": 30,
     "status": "ok",
     "timestamp": 1679418837008,
     "user": {
      "displayName": "Moch Nabil Farras Dhiya",
      "userId": "07901443483008169938"
     },
     "user_tz": -420
    },
    "id": "INfySit4sEfT",
    "outputId": "20f66344-e300-45cf-8373-b43e1ae1f2d3"
   },
   "outputs": [
    {
     "data": {
      "text/plain": [
       "Index(['ID', 'Year_Birth', 'Education', 'Marital_Status', 'Income', 'Kidhome',\n",
       "       'Teenhome', 'Dt_Customer', 'Recency', 'Wines', 'Fruits', 'Meat', 'Fish',\n",
       "       'Sweets', 'Gold', 'Discount', 'Web', 'Catalog', 'Store', 'Web_visit',\n",
       "       'Campaign 3', 'Campaign 4', 'Campaign 5', 'Campaign 1', 'Campaign 2',\n",
       "       'Complain', 'Z_CostContact', 'Z_Revenue', 'Response', 'Age',\n",
       "       'Duration_Customer', 'Frequency'],\n",
       "      dtype='object')"
      ]
     },
     "execution_count": 25,
     "metadata": {},
     "output_type": "execute_result"
    }
   ],
   "source": [
    "data.columns"
   ]
  },
  {
   "cell_type": "code",
   "execution_count": 26,
   "metadata": {
    "executionInfo": {
     "elapsed": 30,
     "status": "ok",
     "timestamp": 1679418837009,
     "user": {
      "displayName": "Moch Nabil Farras Dhiya",
      "userId": "07901443483008169938"
     },
     "user_tz": -420
    },
    "id": "Xn0i4bFHsDSp"
   },
   "outputs": [],
   "source": [
    "data = data[[\"ID\", \"Age\", \"Education\", \"Marital_Status\", \"Income\", \n",
    "             'Kidhome', 'Teenhome', \"Duration_Customer\", 'Frequency', 'Recency', \n",
    "             'Wines', 'Fruits', 'Meat', 'Fish', 'Sweets', 'Gold', \n",
    "             'Discount', 'Web', 'Catalog', 'Store', 'Web_visit', \n",
    "             'Campaign 1', 'Campaign 2', 'Campaign 3', 'Campaign 4', 'Campaign 5', \n",
    "             'Complain', 'Response']]"
   ]
  },
  {
   "cell_type": "markdown",
   "metadata": {
    "id": "l_TmCtigb9k4"
   },
   "source": [
    "# Data Labeling"
   ]
  },
  {
   "cell_type": "markdown",
   "metadata": {
    "id": "1mfsgklaqj42"
   },
   "source": [
    "## Education"
   ]
  },
  {
   "cell_type": "markdown",
   "metadata": {
    "id": "Xhs6KebNqzfh"
   },
   "source": [
    "To make clustering easier, we can group the answers in Education column into categories. And since the values in this column are ordinal, it is more wise if we use Label Encoding on this column."
   ]
  },
  {
   "cell_type": "code",
   "execution_count": 27,
   "metadata": {
    "executionInfo": {
     "elapsed": 30,
     "status": "ok",
     "timestamp": 1679418837009,
     "user": {
      "displayName": "Moch Nabil Farras Dhiya",
      "userId": "07901443483008169938"
     },
     "user_tz": -420
    },
    "id": "VchExCHcqlYP"
   },
   "outputs": [],
   "source": [
    "data['Education'] = data['Education'].map({'Basic': 0,\n",
    "                                           'Graduation': 1,\n",
    "                                           'Master': 2,\n",
    "                                           'PhD': 3})"
   ]
  },
  {
   "cell_type": "markdown",
   "metadata": {
    "id": "-_KtKY_jh0Vt"
   },
   "source": [
    "## Marital Status"
   ]
  },
  {
   "cell_type": "markdown",
   "metadata": {
    "id": "156GWdeTh3OD"
   },
   "source": [
    "Notice that we can simplified the values in this column into 2 values: Single and Relationship, then do Label Encoding on these values."
   ]
  },
  {
   "cell_type": "code",
   "execution_count": 28,
   "metadata": {
    "executionInfo": {
     "elapsed": 30,
     "status": "ok",
     "timestamp": 1679418837010,
     "user": {
      "displayName": "Moch Nabil Farras Dhiya",
      "userId": "07901443483008169938"
     },
     "user_tz": -420
    },
    "id": "tpvunWLkh2ci"
   },
   "outputs": [],
   "source": [
    "data['Marital_Status'] = data['Marital_Status'].map({'Single': 0,\n",
    "                                                     'Together': 1})"
   ]
  },
  {
   "cell_type": "markdown",
   "metadata": {
    "id": "xrRZnNZDvZ6E"
   },
   "source": [
    "## Income"
   ]
  },
  {
   "cell_type": "markdown",
   "metadata": {
    "id": "slaFURHPv2mt"
   },
   "source": [
    "To ease our clustering, we will categorized the customers income to 4 category. In 2021-2022. The World Bank assigns the world’s economies to four income groups—low, lower-middle, upper-middle, and high-income countries. After that, we will convert these values into number by Label Encoding."
   ]
  },
  {
   "cell_type": "code",
   "execution_count": 29,
   "metadata": {
    "colab": {
     "base_uri": "https://localhost:8080/"
    },
    "executionInfo": {
     "elapsed": 30,
     "status": "ok",
     "timestamp": 1679418837011,
     "user": {
      "displayName": "Moch Nabil Farras Dhiya",
      "userId": "07901443483008169938"
     },
     "user_tz": -420
    },
    "id": "hwafVOhesYEO",
    "outputId": "ed317a93-38f2-450b-82fb-a466f58012ac"
   },
   "outputs": [
    {
     "data": {
      "text/plain": [
       "[(51371.0, 68487.0], (35233.5, 51371.0], (68487.0, 162397.0], (1729.999, 35233.5]]\n",
       "Categories (4, interval[float64, right]): [(1729.999, 35233.5] < (35233.5, 51371.0] < (51371.0, 68487.0] < (68487.0, 162397.0]]"
      ]
     },
     "execution_count": 29,
     "metadata": {},
     "output_type": "execute_result"
    }
   ],
   "source": [
    "pd.qcut(data['Income'], 4).unique()"
   ]
  },
  {
   "cell_type": "code",
   "execution_count": 30,
   "metadata": {
    "executionInfo": {
     "elapsed": 29,
     "status": "ok",
     "timestamp": 1679418837011,
     "user": {
      "displayName": "Moch Nabil Farras Dhiya",
      "userId": "07901443483008169938"
     },
     "user_tz": -420
    },
    "id": "FWuPS97yvavH"
   },
   "outputs": [],
   "source": [
    "data[\"Income_Class\"] = pd.qcut(data['Income'], 4, labels = ['Low', 'Lower-middle', 'Upper-middle', 'High'])\n",
    "\n",
    "data['Income_Class'] = data['Income_Class'].map({'Low': 0,\n",
    "                                                 'Lower-middle': 1,\n",
    "                                                 'Upper-middle': 2,\n",
    "                                                 'High': 3})"
   ]
  },
  {
   "cell_type": "markdown",
   "metadata": {},
   "source": [
    "## Age"
   ]
  },
  {
   "cell_type": "code",
   "execution_count": 31,
   "metadata": {},
   "outputs": [
    {
     "data": {
      "text/html": [
       "<div>\n",
       "<style scoped>\n",
       "    .dataframe tbody tr th:only-of-type {\n",
       "        vertical-align: middle;\n",
       "    }\n",
       "\n",
       "    .dataframe tbody tr th {\n",
       "        vertical-align: top;\n",
       "    }\n",
       "\n",
       "    .dataframe thead th {\n",
       "        text-align: right;\n",
       "    }\n",
       "</style>\n",
       "<table border=\"1\" class=\"dataframe\">\n",
       "  <thead>\n",
       "    <tr style=\"text-align: right;\">\n",
       "      <th></th>\n",
       "      <th>value</th>\n",
       "    </tr>\n",
       "  </thead>\n",
       "  <tbody>\n",
       "    <tr>\n",
       "      <th>0</th>\n",
       "      <td>1.018352</td>\n",
       "    </tr>\n",
       "    <tr>\n",
       "      <th>1</th>\n",
       "      <td>1.274785</td>\n",
       "    </tr>\n",
       "    <tr>\n",
       "      <th>2</th>\n",
       "      <td>0.334530</td>\n",
       "    </tr>\n",
       "    <tr>\n",
       "      <th>3</th>\n",
       "      <td>-1.289547</td>\n",
       "    </tr>\n",
       "    <tr>\n",
       "      <th>4</th>\n",
       "      <td>-1.033114</td>\n",
       "    </tr>\n",
       "    <tr>\n",
       "      <th>...</th>\n",
       "      <td>...</td>\n",
       "    </tr>\n",
       "    <tr>\n",
       "      <th>2207</th>\n",
       "      <td>0.163575</td>\n",
       "    </tr>\n",
       "    <tr>\n",
       "      <th>2208</th>\n",
       "      <td>1.958607</td>\n",
       "    </tr>\n",
       "    <tr>\n",
       "      <th>2209</th>\n",
       "      <td>-1.033114</td>\n",
       "    </tr>\n",
       "    <tr>\n",
       "      <th>2210</th>\n",
       "      <td>1.103830</td>\n",
       "    </tr>\n",
       "    <tr>\n",
       "      <th>2211</th>\n",
       "      <td>1.274785</td>\n",
       "    </tr>\n",
       "  </tbody>\n",
       "</table>\n",
       "<p>2212 rows × 1 columns</p>\n",
       "</div>"
      ],
      "text/plain": [
       "         value\n",
       "0     1.018352\n",
       "1     1.274785\n",
       "2     0.334530\n",
       "3    -1.289547\n",
       "4    -1.033114\n",
       "...        ...\n",
       "2207  0.163575\n",
       "2208  1.958607\n",
       "2209 -1.033114\n",
       "2210  1.103830\n",
       "2211  1.274785\n",
       "\n",
       "[2212 rows x 1 columns]"
      ]
     },
     "execution_count": 31,
     "metadata": {},
     "output_type": "execute_result"
    }
   ],
   "source": [
    "scaler = StandardScaler()\n",
    "\n",
    "age = data[['Age']]\n",
    "age = pd.DataFrame(scaler.fit_transform(age)).rename(columns = {0: 'value'})\n",
    "age"
   ]
  },
  {
   "cell_type": "markdown",
   "metadata": {},
   "source": [
    "Then, we will calculate the optimal # of cluster using Elbow Method with Silhouette criterion."
   ]
  },
  {
   "cell_type": "code",
   "execution_count": 32,
   "metadata": {},
   "outputs": [
    {
     "data": {
      "image/png": "[encoded data removed]",
      "text/plain": [
       "<Figure size 432x288 with 2 Axes>"
      ]
     },
     "metadata": {},
     "output_type": "display_data"
    },
    {
     "data": {
      "text/plain": [
       "<AxesSubplot:title={'center':'Silhouette Score Elbow for KMeans Clustering'}, xlabel='k', ylabel='silhouette score'>"
      ]
     },
     "execution_count": 32,
     "metadata": {},
     "output_type": "execute_result"
    }
   ],
   "source": [
    "elbow_score_age = KElbowVisualizer(KMeans(), k = (2, 10), metric = 'silhouette')\n",
    "elbow_score_age.fit(age)\n",
    "elbow_score_age.show()"
   ]
  },
  {
   "cell_type": "code",
   "execution_count": 33,
   "metadata": {},
   "outputs": [
    {
     "data": {
      "text/plain": [
       "<AxesSubplot:xlabel='Age', ylabel='Count'>"
      ]
     },
     "execution_count": 33,
     "metadata": {},
     "output_type": "execute_result"
    },
    {
     "data": {
      "image/png": "[encoded data removed]",
      "text/plain": [
       "<Figure size 432x288 with 1 Axes>"
      ]
     },
     "metadata": {
      "needs_background": "light"
     },
     "output_type": "display_data"
    }
   ],
   "source": [
    "sns.histplot(x = 'Age', data = data)"
   ]
  },
  {
   "cell_type": "markdown",
   "metadata": {},
   "source": [
    "Though the silhouette criterion suggests that the optimum # of cluster is 2, but we will prefer to use 4 cluster because of the following reasons.\n",
    "1. We can distinguigh the customer behaviour better this way, since we notice that the range value is quite high.\n",
    "2. The silhouette score for 4 cluster is still reaasonably high."
   ]
  },
  {
   "cell_type": "code",
   "execution_count": 34,
   "metadata": {},
   "outputs": [],
   "source": [
    "def cluster_age(x):\n",
    "    if x <= 40:\n",
    "        return 0\n",
    "\n",
    "    elif x <= 50:\n",
    "        return 1\n",
    "\n",
    "    elif x <= 65:\n",
    "        return 2\n",
    "\n",
    "    else:\n",
    "        return 3\n",
    "\n",
    "data['Age_Class'] = data['Age'].apply(cluster_age)"
   ]
  },
  {
   "cell_type": "markdown",
   "metadata": {
    "id": "ku11U9HWnGub"
   },
   "source": [
    "# RFM Dataset"
   ]
  },
  {
   "cell_type": "code",
   "execution_count": 35,
   "metadata": {
    "executionInfo": {
     "elapsed": 28,
     "status": "ok",
     "timestamp": 1679418837011,
     "user": {
      "displayName": "Moch Nabil Farras Dhiya",
      "userId": "07901443483008169938"
     },
     "user_tz": -420
    },
    "id": "npHlhZQ8nIDk"
   },
   "outputs": [],
   "source": [
    "rfm = data.copy()"
   ]
  },
  {
   "cell_type": "code",
   "execution_count": 36,
   "metadata": {
    "executionInfo": {
     "elapsed": 29,
     "status": "ok",
     "timestamp": 1679418837012,
     "user": {
      "displayName": "Moch Nabil Farras Dhiya",
      "userId": "07901443483008169938"
     },
     "user_tz": -420
    },
    "id": "7vZ69_9snK02"
   },
   "outputs": [],
   "source": [
    "rfm = rfm[['ID', 'Recency', 'Frequency', \n",
    "           'Wines', 'Fruits', 'Meat', \n",
    "           'Fish', 'Sweets', 'Gold']]"
   ]
  },
  {
   "cell_type": "markdown",
   "metadata": {
    "id": "lDYJE_Vut7bg"
   },
   "source": [
    "# Final Data"
   ]
  },
  {
   "cell_type": "code",
   "execution_count": 37,
   "metadata": {
    "executionInfo": {
     "elapsed": 28,
     "status": "ok",
     "timestamp": 1679418837012,
     "user": {
      "displayName": "Moch Nabil Farras Dhiya",
      "userId": "07901443483008169938"
     },
     "user_tz": -420
    },
    "id": "qvkRRnR0e8Bm"
   },
   "outputs": [],
   "source": [
    "data.to_csv(\"../Data/final_data.csv\")\n",
    "rfm.to_csv(\"../Data/RFM/rfm_data.csv\")"
   ]
  }
 ],
 "metadata": {
  "colab": {
   "collapsed_sections": [
    "-Taxp2K4WD4a",
    "q5bGj0x9XOEH",
    "ZfzliTrpzqfu",
    "mLd1UE4B0HQr",
    "6MNA48DSe-LH",
    "bmeMCc9AZXeV",
    "Njh_0dQ5e0GQ",
    "BxbXUjcEfdXI",
    "8Y4j_sUMm544",
    "HhruX55hPXu4",
    "d_g-2YVNYFAu",
    "kvX30Ll5YFAw",
    "R7FjHKVTjfC4",
    "rutdj3zBYFAv",
    "GpZ9vjYbaj5L",
    "SHXJjbiZYFAw",
    "0XNGYbYvnV6Y",
    "cTL9of8esBhj",
    "l_TmCtigb9k4",
    "1mfsgklaqj42",
    "-_KtKY_jh0Vt",
    "xrRZnNZDvZ6E",
    "ku11U9HWnGub"
   ],
   "provenance": []
  },
  "kernelspec": {
   "display_name": "Python 3",
   "language": "python",
   "name": "python3"
  },
  "language_info": {
   "codemirror_mode": {
    "name": "ipython",
    "version": 3
   },
   "file_extension": ".py",
   "mimetype": "text/x-python",
   "name": "python",
   "nbconvert_exporter": "python",
   "pygments_lexer": "ipython3",
   "version": "3.10.5"
  }
 },
 "nbformat": 4,
 "nbformat_minor": 1
}
